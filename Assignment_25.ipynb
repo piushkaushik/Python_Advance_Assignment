{
 "cells": [
  {
   "cell_type": "markdown",
   "id": "ba48d3ef",
   "metadata": {},
   "source": [
    "# Q1. What is the distinction between a numpy array and a pandas data frame? Is there a way to convert between the two if there is?"
   ]
  },
  {
   "cell_type": "markdown",
   "id": "a6f3afbb",
   "metadata": {},
   "source": [
    "**Ans:**"
   ]
  },
  {
   "cell_type": "markdown",
   "id": "000e5b77",
   "metadata": {},
   "source": [
    "Numpy arrays and pandas DataFrames are both data structures used for handling and manipulating data, but they have distinct differences:\n",
    "\n",
    "\n",
    "**Numpy Array:**\n",
    "\n",
    "- Numpy is a library for numerical computations, and its primary data structure is the numpy array.\n",
    "- Numpy arrays are homogeneous, meaning they can only contain elements of a single data type (e.g., integers, floats).\n",
    "- They are typically used for mathematical operations and numerical data.\n",
    "- Numpy arrays are efficient for element-wise operations and numerical computations.\n",
    "\n",
    "\n",
    "**Pandas DataFrame:**\n",
    "\n",
    "- Pandas is a library built on top of numpy, specifically designed for data manipulation and analysis.\n",
    "- DataFrames are two-dimensional, tabular data structures, which are more flexible than numpy arrays.\n",
    "- DataFrames can hold heterogeneous data types within a single structure.\n",
    "- They are equipped with powerful indexing and labeling features, making them suitable for data cleaning, exploration, and analysis.\n",
    "- DataFrames are commonly used for working with structured data like CSV files, Excel spreadsheets, and SQL databases.\n",
    "\n",
    "\n",
    "**Conversion:**\n",
    "\n",
    "- We can convert a pandas DataFrame to a numpy array using the `.values` attribute of a DataFrame. \n",
    "\n",
    "\n",
    "For example, if you have a DataFrame called `df`, you can obtain a numpy array by calling `df.values`.\n",
    "\n",
    "\n",
    "- Converting a numpy array to a pandas DataFrame is straightforward. You can use the `pd.DataFrame()` constructor and pass the numpy array as an argument. \n",
    "\n",
    "For example, `pd.DataFrame(numpy_array)` will create a DataFrame from the numpy array.\n"
   ]
  },
  {
   "cell_type": "markdown",
   "id": "ab2984aa",
   "metadata": {},
   "source": [
    "# Q2. What can go wrong when an user enters in a stock-ticker symbol, and how do you handle it?"
   ]
  },
  {
   "cell_type": "markdown",
   "id": "fba6dff9",
   "metadata": {},
   "source": [
    "**Ans:**"
   ]
  },
  {
   "cell_type": "markdown",
   "id": "3ce834f6",
   "metadata": {},
   "source": [
    "When a user enters a stock-ticker symbol, several issues can arise, and it's essential to handle them gracefully:\n",
    "\n",
    "\n",
    "1. **Invalid Ticker Symbol:** The user might enter an invalid or nonexistent stock ticker symbol. To handle this, you can perform validation by checking if the symbol exists in a known database or through an API call to a financial data provider.\n",
    "\n",
    "\n",
    "2. **Network Errors:** When making API calls to fetch stock data, network errors can occur, leading to failed requests or timeouts. Implement proper error handling and retry mechanisms to address network issues.\n",
    "\n",
    "\n",
    "3. **Data Unavailability:** Stock data for certain symbols may not be available due to various reasons, such as delisting, temporary unavailability, or data provider limitations. You should check for data availability and provide appropriate feedback to the user.\n",
    "\n",
    "\n",
    "4. **User Input Sanitization:** Sanitize user inputs to prevent malicious input, such as SQL injection or cross-site scripting (XSS) attacks.\n",
    "\n",
    "To handle these issues:\n",
    "\n",
    "- Provide informative error messages to users when they enter an invalid symbol or when there are data retrieval problems.\n",
    "- Implement robust error handling and logging to monitor and troubleshoot issues.\n",
    "- Use try-except blocks or error-handling functions to gracefully manage exceptions.\n",
    "- Implement caching mechanisms to store previously fetched data and reduce the load on external APIs.\n",
    "- If possible, offer suggestions or auto-complete functionality to help users enter valid ticker symbols.\n",
    "\n"
   ]
  },
  {
   "cell_type": "markdown",
   "id": "4ba31631",
   "metadata": {},
   "source": [
    "# Q3. Identify some of the plotting techniques that are used to produce a stock-market chart."
   ]
  },
  {
   "cell_type": "markdown",
   "id": "d6ddb264",
   "metadata": {},
   "source": [
    "**Ans:**"
   ]
  },
  {
   "cell_type": "markdown",
   "id": "31a66a21",
   "metadata": {},
   "source": [
    "Stock market charts are used to visualize the price movements and trends of stocks over time. There are several common plotting techniques and chart types used in stock market analysis:"
   ]
  },
  {
   "cell_type": "markdown",
   "id": "7942aee0",
   "metadata": {},
   "source": [
    "1. **Line Chart:** Shows closing prices over time as a continuous line.\n",
    "\n",
    "2. **Candlestick Chart:** Displays open, close, high, and low prices.\n",
    "\n",
    "3. **Bar Chart:** Uses vertical bars to show open, close, high, and low prices\n",
    ".\n",
    "4. **OHLC Chart:** Shows open, high, low, and close prices in bars.\n",
    "\n",
    "5. **Volume Chart:** Represents trading volume with bars beneath the price chart.\n",
    "\n",
    "6. **Moving Averages:** Smooths price data to identify trends.\n",
    "\n",
    "7. **Bollinger Bands:** Indicate price volatility with three bands.\n",
    "\n",
    "8. **RSI (Relative Strength Index):** Measures price momentum and overbought/oversold conditions.\n",
    "\n",
    "9. **MACD (Moving Average Convergence Divergence):** Helps detect changes in momentum.\n",
    "\n",
    "10. **Stochastic Oscillator:** Identifies potential reversal points based on price range.\n",
    "\n",
    "11. **Ichimoku Cloud:** Complex indicator assessing support, resistance, and trends."
   ]
  },
  {
   "cell_type": "markdown",
   "id": "6f761baa",
   "metadata": {},
   "source": [
    "# Q4. Why is it essential to print a legend on a stock market chart?"
   ]
  },
  {
   "cell_type": "markdown",
   "id": "d79baed4",
   "metadata": {},
   "source": [
    "**Ans:**"
   ]
  },
  {
   "cell_type": "markdown",
   "id": "d89e820a",
   "metadata": {},
   "source": [
    "Printing a legend on a stock market chart is essential because it helps viewers understand the meaning of different elements or lines on the chart. It provides context and clarity by labeling data series, indicators, or other information, making it easier for users to interpret the chart accurately. "
   ]
  },
  {
   "cell_type": "markdown",
   "id": "4a9f846b",
   "metadata": {},
   "source": [
    "# Q5. What is the best way to limit the length of a pandas data frame to less than a year?"
   ]
  },
  {
   "cell_type": "markdown",
   "id": "a42ffabf",
   "metadata": {},
   "source": [
    "**Ans:**"
   ]
  },
  {
   "cell_type": "markdown",
   "id": "3666ff44",
   "metadata": {},
   "source": [
    "The best way to limit the length of a pandas DataFrame to less than a year is to filter the DataFrame based on date or time criteria. We can use the date or timestamp column in our DataFrame to set a start date and an end date, effectively restricting the data to a specific time frame. "
   ]
  },
  {
   "cell_type": "markdown",
   "id": "8e61241b",
   "metadata": {},
   "source": [
    "\n",
    "```python\n",
    "import pandas as pd\n",
    "\n",
    "# Assuming 'date' is the date column in your DataFrame\n",
    "start_date = '2023-01-01'\n",
    "end_date = '2023-12-31'\n",
    "\n",
    "# Create a mask to filter data within the specified date range\n",
    "date_mask = (df['date'] >= start_date) & (df['date'] <= end_date)\n",
    "\n",
    "# Apply the mask to the DataFrame to retain data only within the desired time frame\n",
    "filtered_df = df[date_mask]\n",
    "```\n",
    "\n",
    "This code will create a new DataFrame, `filtered_df`, containing only the data within the specified year. Adjust the `start_date` and `end_date` to define the desired time range."
   ]
  },
  {
   "cell_type": "markdown",
   "id": "00803c7a",
   "metadata": {},
   "source": [
    "# Q6. What is the definition of a 180-day moving average?"
   ]
  },
  {
   "cell_type": "markdown",
   "id": "d4faebf7",
   "metadata": {},
   "source": [
    "**Ans:**"
   ]
  },
  {
   "cell_type": "markdown",
   "id": "221cb92f",
   "metadata": {},
   "source": [
    "**180-day moving average:**\n",
    "\n",
    "A 180-day moving average is a financial indicator that averages a stock's closing prices over the past 180 trading days to reveal its long-term trend."
   ]
  },
  {
   "cell_type": "markdown",
   "id": "7f758e7e",
   "metadata": {},
   "source": [
    "Here's how we calculate a 180-day moving average:\n",
    "\n",
    "1. Collect the closing prices of the financial instrument for the past 180 trading days.\n",
    "2. Sum up these closing prices.\n",
    "3. Divide the sum by 180 to calculate the moving average for that day.\n",
    "4. Repeat this process for each trading day, shifting the 180-day window one day at a time.\n",
    "\n",
    "The resulting moving average line on the chart smooths out short-term price fluctuations and provides traders and investors with a clearer picture of the long-term trend. It is often used to identify trends, support, and resistance levels and to make trading decisions."
   ]
  },
  {
   "cell_type": "markdown",
   "id": "2c57acd3",
   "metadata": {},
   "source": [
    "# Q7. Did the chapter's final example use \"indirect\" importing? If so, how exactly do you do it?"
   ]
  },
  {
   "cell_type": "markdown",
   "id": "041481a3",
   "metadata": {},
   "source": [
    "**Ans:**"
   ]
  },
  {
   "cell_type": "markdown",
   "id": "fdf3b8f9",
   "metadata": {},
   "source": [
    " Indirect importing in Python involves importing a module using another module. You can do it by importing the module you want to use within another module and then using the functions or classes from the imported module within the second module. This allows you to organize and encapsulate functionality across multiple modules or packages."
   ]
  },
  {
   "cell_type": "code",
   "execution_count": null,
   "id": "3dbbc2c4",
   "metadata": {},
   "outputs": [],
   "source": []
  }
 ],
 "metadata": {
  "kernelspec": {
   "display_name": "Python 3 (ipykernel)",
   "language": "python",
   "name": "python3"
  },
  "language_info": {
   "codemirror_mode": {
    "name": "ipython",
    "version": 3
   },
   "file_extension": ".py",
   "mimetype": "text/x-python",
   "name": "python",
   "nbconvert_exporter": "python",
   "pygments_lexer": "ipython3",
   "version": "3.9.7"
  }
 },
 "nbformat": 4,
 "nbformat_minor": 5
}
