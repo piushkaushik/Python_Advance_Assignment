{
 "cells": [
  {
   "cell_type": "markdown",
   "id": "8b50443e",
   "metadata": {},
   "source": [
    "# Q1. Is an assignment operator like `+=` only for show? Is it possible that it would lead to faster results at the runtime?"
   ]
  },
  {
   "cell_type": "markdown",
   "id": "8c564288",
   "metadata": {},
   "source": [
    "**Ans:**"
   ]
  },
  {
   "cell_type": "markdown",
   "id": "414c72ec",
   "metadata": {},
   "source": [
    "The assignment operator `+=` is not just for show; it serves a practical purpose. It can lead to faster results at runtime, especially when dealing with mutable objects like lists."
   ]
  },
  {
   "cell_type": "markdown",
   "id": "e4388860",
   "metadata": {},
   "source": [
    "For example, consider appending elements to a list:"
   ]
  },
  {
   "cell_type": "code",
   "execution_count": 1,
   "id": "68fb2e21",
   "metadata": {},
   "outputs": [],
   "source": [
    "my_list = []\n",
    "for i in range(1000):\n",
    "    my_list.append(i)"
   ]
  },
  {
   "cell_type": "markdown",
   "id": "fe35f2ba",
   "metadata": {},
   "source": [
    "This code creates a new list on each iteration, which can be slower and consume more memory. \n",
    "\n",
    "In contrast, using `+=` to extend the list in-place is more efficient:"
   ]
  },
  {
   "cell_type": "code",
   "execution_count": 2,
   "id": "6293b238",
   "metadata": {},
   "outputs": [],
   "source": [
    "my_list = []\n",
    "for i in range(1000):\n",
    "    my_list += [i]  # This modifies the existing list"
   ]
  },
  {
   "cell_type": "markdown",
   "id": "1b4694e6",
   "metadata": {},
   "source": [
    "So, `+=` can lead to faster results at runtime, particularly when working with mutable objects like lists and when you want to modify them in place. "
   ]
  },
  {
   "cell_type": "markdown",
   "id": "5a82a8d9",
   "metadata": {},
   "source": [
    "# Q2. What is the smallest number of statements you'd have to write in most programming languages to replace the Python expression a, b = a + b, a?"
   ]
  },
  {
   "cell_type": "markdown",
   "id": "c4152a98",
   "metadata": {},
   "source": [
    "**Ans:**"
   ]
  },
  {
   "cell_type": "markdown",
   "id": "74f6aa8c",
   "metadata": {},
   "source": [
    "In most programming languages, you would typically need **three** statements to replace the Python expression `a, b = a + b, a` while preserving the same functionality. Here's how you can achieve the same result in a more verbose manner:\n",
    "\n",
    "```python\n",
    "temp = a\n",
    "a = a + b\n",
    "b = temp\n",
    "```"
   ]
  },
  {
   "cell_type": "markdown",
   "id": "b3c198bf",
   "metadata": {},
   "source": [
    "# Q3. In Python, what is the most effective way to set a list of 100 integers to 0?"
   ]
  },
  {
   "cell_type": "markdown",
   "id": "43a074b0",
   "metadata": {},
   "source": [
    "**Ans:**"
   ]
  },
  {
   "cell_type": "code",
   "execution_count": 5,
   "id": "8c759f06",
   "metadata": {},
   "outputs": [],
   "source": [
    "# The most effective way to set a list of 100 integers to 0 in Python is to use a list comprehension:\n",
    "\n",
    "my_list = [0] * 100"
   ]
  },
  {
   "cell_type": "markdown",
   "id": "fed348e8",
   "metadata": {},
   "source": [
    "# Q4. What is the most effective way to initialise a list of 99 integers that repeats the sequence 1, 2, 3? S If necessary, show step-by-step instructions on how to accomplish this."
   ]
  },
  {
   "cell_type": "markdown",
   "id": "ca9c0b08",
   "metadata": {},
   "source": [
    "**Ans:**"
   ]
  },
  {
   "cell_type": "markdown",
   "id": "3e7302f1",
   "metadata": {},
   "source": [
    "1. Import the `itertools` module.\n",
    "\n",
    "2. Create a cycle of the sequence `[1, 2, 3]` using `itertools.cycle`.\n",
    "\n",
    "3. Use a list comprehension to extract the first 99 elements from the cycle."
   ]
  },
  {
   "cell_type": "code",
   "execution_count": 6,
   "id": "55e01d52",
   "metadata": {},
   "outputs": [],
   "source": [
    "import itertools\n",
    "\n",
    "# Create a cycle of the sequence [1, 2, 3]\n",
    "sequence = itertools.cycle([1, 2, 3])\n",
    "\n",
    "# Use a list comprehension to extract the first 99 elements\n",
    "my_list = [next(sequence) for _ in range(99)]\n",
    "\n",
    "# Now my_list contains [1, 2, 3, 1, 2, 3, ...] repeated 33 times\n"
   ]
  },
  {
   "cell_type": "markdown",
   "id": "908563dd",
   "metadata": {},
   "source": [
    "# Q5. If you're using IDLE to run a Python application, explain how to print a multidimensional list as efficiently?"
   ]
  },
  {
   "cell_type": "markdown",
   "id": "edb4a1a8",
   "metadata": {},
   "source": [
    "**Ans:**"
   ]
  },
  {
   "cell_type": "markdown",
   "id": "73a2e339",
   "metadata": {},
   "source": [
    "In IDLE, printing a multidimensional list can be done efficiently by using nested loops to iterate through the list and print its elements.\n",
    "\n",
    "1. Open IDLE and create a Python script or interactively enter your code.\n",
    "\n",
    "2. Define your multidimensional list. \n",
    "\n",
    "For this example, let's assume you have a 2D list called `matrix`:"
   ]
  },
  {
   "cell_type": "code",
   "execution_count": 8,
   "id": "8f77a73d",
   "metadata": {},
   "outputs": [],
   "source": [
    "matrix = [[1, 2, 3],\n",
    "          [4, 5, 6],\n",
    "          [7, 8, 9]]"
   ]
  },
  {
   "cell_type": "code",
   "execution_count": 9,
   "id": "c029047a",
   "metadata": {},
   "outputs": [
    {
     "name": "stdout",
     "output_type": "stream",
     "text": [
      "1\t2\t3\t\n",
      "4\t5\t6\t\n",
      "7\t8\t9\t\n"
     ]
    }
   ],
   "source": [
    "#Use nested loops to iterate through the rows and columns of the 2D list\n",
    "for row in matrix:\n",
    "    for element in row:\n",
    "        print(element, end=\"\\t\")  # Use \\t (tab) for spacing between elements\n",
    "    print()  # Move to the next line after each row"
   ]
  },
  {
   "cell_type": "markdown",
   "id": "af07d841",
   "metadata": {},
   "source": [
    "# Q6. Is it possible to use list comprehension with a string? If so, how can you go about doing it?"
   ]
  },
  {
   "cell_type": "markdown",
   "id": "e5884d92",
   "metadata": {},
   "source": [
    "**Ans:**"
   ]
  },
  {
   "cell_type": "markdown",
   "id": "ae565318",
   "metadata": {},
   "source": [
    "Yes, we can use list comprehension with a string in Python. List comprehension allows us to create a new list by applying an expression to each character in the string or by filtering characters based on a condition. H\n",
    "\n",
    "1. **Creating a List of Characters:** We can create a list of characters from a string using list comprehension. \n",
    "\n",
    "For example, to create a list of characters from the string \"hello,\" :"
   ]
  },
  {
   "cell_type": "code",
   "execution_count": 11,
   "id": "ac81185e",
   "metadata": {},
   "outputs": [
    {
     "name": "stdout",
     "output_type": "stream",
     "text": [
      "['h', 'e', 'l', 'l', 'o']\n"
     ]
    }
   ],
   "source": [
    "string = \"hello\"\n",
    "char_list = [char for char in string]\n",
    "print(char_list)  "
   ]
  },
  {
   "cell_type": "markdown",
   "id": "f5fc7bbe",
   "metadata": {},
   "source": [
    " 2. **Filtering Characters:** We can also filter characters based on a condition while creating the list. For instance, to create a list of vowels from the string:"
   ]
  },
  {
   "cell_type": "code",
   "execution_count": 12,
   "id": "e0203300",
   "metadata": {},
   "outputs": [
    {
     "name": "stdout",
     "output_type": "stream",
     "text": [
      "['e', 'o']\n"
     ]
    }
   ],
   "source": [
    "string = \"hello\"\n",
    "vowels = [char for char in string if char in 'aeiou']\n",
    "print(vowels) "
   ]
  },
  {
   "cell_type": "markdown",
   "id": "e787d234",
   "metadata": {},
   "source": [
    "3. **Applying an Expression:** We can apply an expression to each character and create a modified list. For example, to create a list of the ASCII values of characters in the string:"
   ]
  },
  {
   "cell_type": "code",
   "execution_count": 14,
   "id": "0d4379bd",
   "metadata": {},
   "outputs": [
    {
     "name": "stdout",
     "output_type": "stream",
     "text": [
      "[104, 101, 108, 108, 111]\n"
     ]
    }
   ],
   "source": [
    "string = \"hello\"\n",
    "ascii_values = [ord(char) for char in string]\n",
    "print(ascii_values) "
   ]
  },
  {
   "cell_type": "markdown",
   "id": "9cd8e2f7",
   "metadata": {},
   "source": [
    "# Q7. From the command line, how do you get support with a user-written Python programme? Is this possible from inside IDLE?"
   ]
  },
  {
   "cell_type": "markdown",
   "id": "8db4e636",
   "metadata": {},
   "source": [
    "**Ans:**"
   ]
  },
  {
   "cell_type": "markdown",
   "id": "1783168d",
   "metadata": {},
   "source": [
    "To get support with a user-written Python program:\n",
    "\n",
    "- Use online Python communities and forums.\n",
    "- Refer to the Python documentation (official website).\n",
    "- Utilize the `help()` function in Python.\n",
    "- Check third-party library documentation.\n",
    "- In IDLE, use interactive help and access Python Docs from the \"Help\" menu."
   ]
  },
  {
   "cell_type": "markdown",
   "id": "cc25ba0b",
   "metadata": {},
   "source": [
    "# Q8. Functions are said to be “first-class objects” in Python but not in most other languages, such as C++ or Java. What can you do in Python with a function (callable object) that you can't do in C or C++?"
   ]
  },
  {
   "cell_type": "markdown",
   "id": "cf677c82",
   "metadata": {},
   "source": [
    "**Ans:**"
   ]
  },
  {
   "cell_type": "markdown",
   "id": "ab595742",
   "metadata": {},
   "source": [
    "In Python, functions are first-class objects, which means you can treat them like any other object, such as an integer or a string. \n",
    "\n",
    "Here are some things we can do with functions in Python that we can't do as easily in languages like C++ or Java:\n",
    "\n",
    "1. Assign functions to variables: You can assign a function to a variable, allowing you to reference and call that function through the variable.\n",
    "\n",
    "2. Pass functions as arguments: You can pass functions as arguments to other functions, enabling you to create higher-order functions that take functions as parameters.\n",
    "\n",
    "3. Return functions from functions: Functions can return other functions, allowing for the creation of closures and dynamic function generation.\n",
    "\n",
    "4. Store functions in data structures: You can store functions in lists, dictionaries, or other data structures, making it easy to organize and manipulate functions at runtime.\n",
    "\n",
    "5. Define anonymous functions (lambda functions): Python allows you to create small, anonymous functions using lambda expressions, which can be useful for simple tasks.\n",
    "\n",
    "6. Create decorators: Python's ability to work with functions as first-class objects makes it easy to implement decorators, which are functions that modify the behavior of other functions.\n",
    "\n",
    "These capabilities give Python a high degree of flexibility and enable advanced programming techniques that are not as straightforward in languages like C++ or Java."
   ]
  },
  {
   "cell_type": "markdown",
   "id": "436b819f",
   "metadata": {},
   "source": [
    "# Q9. How do you distinguish between a wrapper, a wrapped feature, and a decorator?"
   ]
  },
  {
   "cell_type": "markdown",
   "id": "2a39c624",
   "metadata": {},
   "source": [
    "**Ans:**"
   ]
  },
  {
   "cell_type": "markdown",
   "id": "961f2da4",
   "metadata": {},
   "source": [
    "A **wrapper** function is a general term for a function that wraps around another function, the **wrapped feature** is the original function being wrapped, and a **decorator** is a specific type of wrapper function that is applied using the @decorator_name syntax to modify the behavior of a function or method."
   ]
  },
  {
   "cell_type": "markdown",
   "id": "d9f2c3e4",
   "metadata": {},
   "source": [
    "# Q10. If a function is a generator function, what does it return?"
   ]
  },
  {
   "cell_type": "markdown",
   "id": "fb8f4aea",
   "metadata": {},
   "source": [
    "**Ans:**"
   ]
  },
  {
   "cell_type": "markdown",
   "id": "f252fdf2",
   "metadata": {},
   "source": [
    "A generator function in Python returns a generator object when called. This generator object is a type of iterator that allows you to iterate over a potentially large or infinite sequence of values without generating them all at once and storing them in memory.\n",
    "\n",
    "Generator functions are defined using the `yield` keyword instead of `return`. When a generator function is called, it doesn't execute the function body immediately. Instead, it returns a generator object that can be used to control the execution of the function. When you iterate over the generator, the function's code is executed up to the `yield` statement, which yields a value to the caller. The function's state is then frozen until the next iteration, and execution continues from where it left off.\n",
    "\n",
    "Here's a simple example of a generator function:"
   ]
  },
  {
   "cell_type": "code",
   "execution_count": 15,
   "id": "9fdf6e62",
   "metadata": {},
   "outputs": [
    {
     "name": "stdout",
     "output_type": "stream",
     "text": [
      "5\n",
      "4\n",
      "3\n",
      "2\n",
      "1\n"
     ]
    }
   ],
   "source": [
    "def countdown(n):\n",
    "    while n > 0:\n",
    "        yield n\n",
    "        n -= 1\n",
    "\n",
    "# Create a generator object\n",
    "gen = countdown(5)\n",
    "\n",
    "# Iterate over the generator\n",
    "for num in gen:\n",
    "    print(num)\n"
   ]
  },
  {
   "cell_type": "markdown",
   "id": "2c904910",
   "metadata": {},
   "source": [
    "*In this example, `countdown` is a generator function. When you call `countdown(5)`, it returns a generator object. The `for` loop then iterates over this generator, and each time it encounters the `yield` statement, it gets the next value from the generator, printing the countdown from 5 to 1. The function's state is preserved between iterations.*"
   ]
  },
  {
   "cell_type": "markdown",
   "id": "8fe69c6d",
   "metadata": {},
   "source": [
    "# Q11. What is the one improvement that must be made to a function in order for it to become a generator function in the Python language?"
   ]
  },
  {
   "cell_type": "markdown",
   "id": "18140d2e",
   "metadata": {},
   "source": [
    "**Ans:**"
   ]
  },
  {
   "cell_type": "markdown",
   "id": "9d92c800",
   "metadata": {},
   "source": [
    "The one improvement that must be made to a function in order for it to become a generator function in Python is to use the `yield` keyword instead of the `return` keyword at least once within the function body.\n",
    "\n",
    "In a regular function, when you use `return`, it immediately terminates the function's execution and sends a value back to the caller. In contrast, when you use `yield` within a function, it indicates that the function is a generator, and it doesn't terminate the function's execution. Instead, it temporarily suspends the function's state and yields a value to the caller. The function can then be resumed from where it left off the next time it's called.\n",
    "\n",
    "Here's a simple example to illustrate the difference:"
   ]
  },
  {
   "cell_type": "code",
   "execution_count": 17,
   "id": "780c5091",
   "metadata": {},
   "outputs": [],
   "source": [
    "def regular_function():\n",
    "    return 42\n",
    "\n",
    "result = regular_function()\n",
    "\n",
    "# In this case, `regular_function` returns the value `42`, and the function execution terminates."
   ]
  },
  {
   "cell_type": "code",
   "execution_count": 19,
   "id": "66cd9915",
   "metadata": {},
   "outputs": [],
   "source": [
    "# Generator Function:\n",
    "    \n",
    "def generator_function():\n",
    "    yield 42\n",
    "\n",
    "gen = generator_function()\n",
    "\n",
    "# In this case, generator_function is a generator function because it uses yield"
   ]
  },
  {
   "cell_type": "markdown",
   "id": "c2857829",
   "metadata": {},
   "source": [
    "***So, the key difference is the use of `yield` to make a function a generator function.***"
   ]
  },
  {
   "cell_type": "markdown",
   "id": "f276cc66",
   "metadata": {},
   "source": [
    "# Q12. Identify at least one benefit of generators."
   ]
  },
  {
   "cell_type": "markdown",
   "id": "b9b036b9",
   "metadata": {},
   "source": [
    "**Ans:**"
   ]
  },
  {
   "cell_type": "markdown",
   "id": "fcdc3792",
   "metadata": {},
   "source": [
    "Generators in Python are memory-efficient, which means they generate and process data one item at a time, saving memory space compared to loading entire datasets into memory. This is especially beneficial when working with large data or infinite sequences."
   ]
  },
  {
   "cell_type": "code",
   "execution_count": null,
   "id": "77ad3368",
   "metadata": {},
   "outputs": [],
   "source": []
  }
 ],
 "metadata": {
  "kernelspec": {
   "display_name": "Python 3 (ipykernel)",
   "language": "python",
   "name": "python3"
  },
  "language_info": {
   "codemirror_mode": {
    "name": "ipython",
    "version": 3
   },
   "file_extension": ".py",
   "mimetype": "text/x-python",
   "name": "python",
   "nbconvert_exporter": "python",
   "pygments_lexer": "ipython3",
   "version": "3.9.7"
  }
 },
 "nbformat": 4,
 "nbformat_minor": 5
}
