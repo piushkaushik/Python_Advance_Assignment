{
 "cells": [
  {
   "cell_type": "markdown",
   "id": "e7f2caad",
   "metadata": {},
   "source": [
    "# 1. What are the new features added in Python 3.8 version?"
   ]
  },
  {
   "cell_type": "markdown",
   "id": "3de90b99",
   "metadata": {},
   "source": [
    "**Ans:**"
   ]
  },
  {
   "cell_type": "markdown",
   "id": "b75cbdf7",
   "metadata": {},
   "source": [
    "Python 3.8 introduced several new features and improvements, including:\n",
    "\n",
    "1. Assignment Expressions (the \"walrus operator\"): This allows you to assign values to variables as part of an expression using `:=`.\n",
    "\n",
    "2. Positional-Only Parameters: You can now specify that certain function parameters must be passed as positional arguments and cannot be specified as keyword arguments.\n",
    "\n",
    "3. f-strings Improvements: New features and syntax improvements for formatted string literals (f-strings).\n",
    "\n",
    "4. `__future__` Annotations: The `__future__` module allows you to enable or disable certain language features to make code compatible with future Python versions.\n",
    "\n",
    "5. Syntax Warning Framework: Python 3.8 introduced a more flexible and extensible syntax warning framework.\n",
    "\n",
    "6. New Syntax Features: Including the \"b\" and \"f\" qualifiers for literals (e.g., `0b101` for binary literals and `f'{x}'` for formatted string literals).\n",
    "\n",
    "7. Performance Improvements: Python 3.8 includes various performance optimizations and improvements.\n",
    "\n",
    "8. Other Improvements: Many other smaller enhancements and library updates.\n",
    "\n",
    "These are some of the notable features in Python 3.8, but there were many more improvements and bug fixes as well."
   ]
  },
  {
   "cell_type": "markdown",
   "id": "d7fb4a05",
   "metadata": {},
   "source": [
    "# 2. What is monkey patching in Python?"
   ]
  },
  {
   "cell_type": "markdown",
   "id": "9303c210",
   "metadata": {},
   "source": [
    "**Ans:**"
   ]
  },
  {
   "cell_type": "markdown",
   "id": "ce62cce6",
   "metadata": {},
   "source": [
    "Monkey patching in Python refers to the practice of dynamically modifying or extending the behavior of classes, modules, or functions at runtime, often without altering their original source code. \n",
    "\n",
    "This technique is typically used to fix bugs, add new functionality, or modify the behavior of existing code without directly modifying the source files.\n",
    "\n",
    "Here are some key points about monkey patching:\n",
    "\n",
    "1. **Dynamic Modifications:** Monkey patching allows developers to make changes to code on the fly, without waiting for official updates or access to the original source code.\n",
    "\n",
    "2. **Common Use Cases:**\n",
    "   - Fixing Bugs: You can patch existing code to fix bugs or security vulnerabilities.\n",
    "   - Adding Features: You can extend the functionality of libraries or modules by adding new methods or attributes.\n",
    "   - Changing Behavior: You can modify the behavior of functions or classes to suit your specific needs.\n",
    "\n",
    "3. **Risk and Caution:** While monkey patching can be a powerful tool, it should be used with caution. Overuse or misuse can lead to maintenance challenges, unexpected side effects, and compatibility issues.\n",
    "\n",
    "4. **Readability and Documentation:** It's essential to document monkey patches thoroughly to make the code more understandable for other developers. Without proper documentation, monkey patches can become hard to maintain and debug.\n",
    "\n",
    "5. **Alternative Approaches:** In some cases, monkey patching may not be the best solution. Alternatives include subclassing, using decorators, or creating wrapper functions to achieve the desired functionality.\n",
    "\n",
    "6. **Testing:** Proper testing is crucial when using monkey patching to ensure that the modified code behaves as expected and does not introduce new issues.\n",
    "\n",
    "\n",
    "\n",
    "\n",
    "***Example of Monkey Patching:***"
   ]
  },
  {
   "cell_type": "code",
   "execution_count": 1,
   "id": "026184bb",
   "metadata": {},
   "outputs": [
    {
     "name": "stdout",
     "output_type": "stream",
     "text": [
      "6\n"
     ]
    }
   ],
   "source": [
    "# Original class\n",
    "class MathOperations:\n",
    "    def add(self, a, b):\n",
    "        return a + b\n",
    "\n",
    "# Monkey patching: Adding a new method to the class\n",
    "def multiply(self, a, b):\n",
    "    return a * b\n",
    "\n",
    "MathOperations.multiply = multiply  # Adding the method to the class\n",
    "\n",
    "# Using the modified class\n",
    "math_obj = MathOperations()\n",
    "result = math_obj.multiply(2, 3)  # Now, the class has a 'multiply' method\n",
    "print(result)  "
   ]
  },
  {
   "cell_type": "markdown",
   "id": "a0568f81",
   "metadata": {},
   "source": [
    "# 3. What is the difference between a shallow copy and deep copy?"
   ]
  },
  {
   "cell_type": "markdown",
   "id": "7c2f592a",
   "metadata": {},
   "source": [
    "**Ans:**"
   ]
  },
  {
   "cell_type": "markdown",
   "id": "753fe81c",
   "metadata": {},
   "source": [
    "In Python, both shallow copy and deep copy are techniques used to duplicate objects, particularly compound objects like lists or dictionaries, which may contain other objects. However, they differ in the extent to which they duplicate nested objects.\n",
    "\n",
    "1. **Shallow Copy:**\n",
    "   - A shallow copy creates a new object, but it does not create copies of nested objects within the original object.\n",
    "   - Instead, it references the nested objects from the original object into the new object. In other words, it duplicates the top-level structure only.\n",
    "   - Shallow copies are created using methods like `copy.copy()` (for generic objects) or the `[:]` slicing operation (for sequences like lists).\n",
    "   - Changes made to nested objects within the copied object will be reflected in the original object and vice versa.\n",
    "\n"
   ]
  },
  {
   "cell_type": "code",
   "execution_count": 2,
   "id": "c1828412",
   "metadata": {},
   "outputs": [
    {
     "name": "stdout",
     "output_type": "stream",
     "text": [
      "[[100, 2, 3], [4, 5, 6]]\n"
     ]
    }
   ],
   "source": [
    "import copy\n",
    "\n",
    "original_list = [[1, 2, 3], [4, 5, 6]]\n",
    "shallow_copied_list = copy.copy(original_list)\n",
    "\n",
    "original_list[0][0] = 100  # Modifying a nested object in the original list\n",
    "print(shallow_copied_list)  "
   ]
  },
  {
   "cell_type": "markdown",
   "id": "14821a25",
   "metadata": {},
   "source": [
    "2. **Deep Copy:**\n",
    "   - A deep copy, on the other hand, creates a completely independent copy of the original object and all of its nested objects recursively.\n",
    "   - It recursively duplicates the entire structure, including nested objects, creating new instances for everything.\n",
    "   - Deep copies are created using the `copy.deepcopy()` method from the `copy` module.\n",
    "   - Changes made to nested objects within the copied object will not affect the original object, and vice versa."
   ]
  },
  {
   "cell_type": "code",
   "execution_count": 3,
   "id": "60604dc1",
   "metadata": {},
   "outputs": [
    {
     "name": "stdout",
     "output_type": "stream",
     "text": [
      "[[1, 2, 3], [4, 5, 6]]\n"
     ]
    }
   ],
   "source": [
    "import copy\n",
    "\n",
    "original_list = [[1, 2, 3], [4, 5, 6]]\n",
    "deep_copied_list = copy.deepcopy(original_list)\n",
    "\n",
    "original_list[0][0] = 100  # Modifying a nested object in the original list\n",
    "print(deep_copied_list)  "
   ]
  },
  {
   "cell_type": "markdown",
   "id": "ad8d5ad5",
   "metadata": {},
   "source": [
    "*The main difference is that a shallow copy duplicates only the top-level structure and references nested objects, while a deep copy recursively duplicates the entire structure, including all nested objects, creating entirely independent copies.* "
   ]
  },
  {
   "cell_type": "markdown",
   "id": "412beed3",
   "metadata": {},
   "source": [
    "# 4. What is the maximum possible length of an identifier?"
   ]
  },
  {
   "cell_type": "markdown",
   "id": "22d6c54e",
   "metadata": {},
   "source": [
    "**Ans:**"
   ]
  },
  {
   "cell_type": "markdown",
   "id": "cb50cf12",
   "metadata": {},
   "source": [
    "In Python, the maximum possible length of an identifier (i.e., the name of a variable, function, class, etc.) is not explicitly defined by a specific number of characters. Instead, Python allows identifiers to be of practically unlimited length, but it's important to keep in mind some practical considerations:\n",
    "\n",
    "1. **Readability:** While Python allows long identifiers, it's recommended to keep them reasonably short and meaningful for the sake of code readability. PEP 8, the Python style guide, suggests that names should be no more than 79 characters for code and 72 characters for docstrings/comments.\n",
    "\n",
    "2. **Convention:** Python naming conventions, such as using lowercase with underscores for variable and function names (snake_case) and using CamelCase for class names, should be followed for consistency.\n",
    "\n",
    "3. **Practicality:** Extremely long identifiers may be cumbersome to work with and could make code harder to understand. It's generally a good practice to strike a balance between being descriptive and concise.\n",
    "\n",
    "While Python itself does not impose a strict limit on identifier length, it's essential to prioritize code readability and maintainability when choosing identifier names."
   ]
  },
  {
   "cell_type": "markdown",
   "id": "5611677a",
   "metadata": {},
   "source": [
    "# 5. What is generator comprehension?"
   ]
  },
  {
   "cell_type": "markdown",
   "id": "cf57a35c",
   "metadata": {},
   "source": [
    "**Ans:**"
   ]
  },
  {
   "cell_type": "markdown",
   "id": "003573d8",
   "metadata": {},
   "source": [
    "A generator comprehension in Python is a concise way to create generator objects. It's similar to list comprehensions but produces a generator instead of a list. \n",
    "\n",
    "Generator comprehensions are especially useful when you need to iterate over a large sequence of data, as they generate values lazily one at a time, conserving memory.\n",
    "\n",
    "The syntax for a generator comprehension is similar to that of a list comprehension, but it uses parentheses `()` instead of square brackets `[]`. Here's the basic syntax:\n",
    "\n",
    "```python\n",
    "generator_expression = (expression for item in iterable if condition)\n",
    "```\n",
    "\n",
    "- `expression`: The value you want to yield for each item in the iterable that meets the condition.\n",
    "- `item`: Represents each item in the iterable.\n",
    "- `iterable`: The sequence of data you want to iterate over.\n",
    "- `condition` (optional): An optional condition that filters which items are included in the generator."
   ]
  },
  {
   "cell_type": "code",
   "execution_count": 8,
   "id": "b1d92b55",
   "metadata": {},
   "outputs": [
    {
     "name": "stdout",
     "output_type": "stream",
     "text": [
      "1\n",
      "4\n",
      "9\n",
      "16\n",
      "25\n"
     ]
    }
   ],
   "source": [
    "# example of a generator comprehension that generates squares of numbers from 1 to 5:\n",
    "\n",
    "squares_generator = (x**2 for x in range(1, 6))\n",
    "\n",
    "# We can iterate over the squares_generator just like any other iterable, \n",
    "# but it generates values on-the-fly, saving memory:\n",
    "\n",
    "for square in squares_generator:\n",
    "    print(square)\n"
   ]
  },
  {
   "cell_type": "code",
   "execution_count": null,
   "id": "d611a5d0",
   "metadata": {},
   "outputs": [],
   "source": []
  }
 ],
 "metadata": {
  "kernelspec": {
   "display_name": "Python 3 (ipykernel)",
   "language": "python",
   "name": "python3"
  },
  "language_info": {
   "codemirror_mode": {
    "name": "ipython",
    "version": 3
   },
   "file_extension": ".py",
   "mimetype": "text/x-python",
   "name": "python",
   "nbconvert_exporter": "python",
   "pygments_lexer": "ipython3",
   "version": "3.9.7"
  }
 },
 "nbformat": 4,
 "nbformat_minor": 5
}
