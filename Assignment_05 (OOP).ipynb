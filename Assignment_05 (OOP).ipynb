{
 "cells": [
  {
   "cell_type": "markdown",
   "id": "28bade3d",
   "metadata": {},
   "source": [
    "# Q1. What is the meaning of multiple inheritance?"
   ]
  },
  {
   "cell_type": "markdown",
   "id": "4ec556e9",
   "metadata": {},
   "source": [
    "**Ans:**"
   ]
  },
  {
   "cell_type": "markdown",
   "id": "61087b1f",
   "metadata": {},
   "source": [
    "Multiple inheritance in object-oriented programming refers to a feature that allows a class to inherit attributes and methods from more than one parent class. In other words, a class can inherit properties and behaviors from multiple base classes. This allows you to create a new class that combines the features of several existing classes.\n",
    "\n",
    "Here's a simple example in Python to illustrate multiple inheritance:"
   ]
  },
  {
   "cell_type": "code",
   "execution_count": 2,
   "id": "dae848da",
   "metadata": {},
   "outputs": [
    {
     "name": "stdout",
     "output_type": "stream",
     "text": [
      "Method from Parent1\n",
      "Method from Parent2\n",
      "Method from Child\n"
     ]
    }
   ],
   "source": [
    "class Parent1:\n",
    "    def method1(self):\n",
    "        print(\"Method from Parent1\")\n",
    "\n",
    "class Parent2:\n",
    "    def method2(self):\n",
    "        print(\"Method from Parent2\")\n",
    "\n",
    "class Child(Parent1, Parent2):\n",
    "    def method3(self):\n",
    "        print(\"Method from Child\")\n",
    "\n",
    "# Create an instance of the Child class\n",
    "obj = Child()\n",
    "\n",
    "# Call methods from both Parent1 and Parent2\n",
    "obj.method1()  \n",
    "obj.method2() \n",
    "obj.method3() \n"
   ]
  },
  {
   "cell_type": "markdown",
   "id": "9cdb9f8a",
   "metadata": {},
   "source": [
    "In this example, the `Child` class inherits from both `Parent1` and `Parent2`. As a result, an object of the `Child` class has access to methods from both parent classes, demonstrating multiple inheritance.\n",
    "\n",
    "Multiple inheritance can be a powerful tool for code reuse and creating complex class hierarchies, but it can also lead to challenges in cases of method conflicts or ambiguity when two parent classes provide methods with the same name. Python provides a method resolution order (MRO) mechanism to handle such situations."
   ]
  },
  {
   "cell_type": "markdown",
   "id": "284d36e2",
   "metadata": {},
   "source": [
    "# Q2. What is the concept of delegation?"
   ]
  },
  {
   "cell_type": "markdown",
   "id": "17e406da",
   "metadata": {},
   "source": [
    "**Ans:**"
   ]
  },
  {
   "cell_type": "markdown",
   "id": "61c05b9d",
   "metadata": {},
   "source": [
    "Delegation in object-oriented programming is a concept where one object forwards or delegates a task to another object. Instead of performing the task itself, the delegating object delegates the responsibility to another object, typically an instance of a different class, which specializes in handling that particular task.\n",
    "\n",
    "Delegation promotes code reuse, encapsulation, and modularity. It allows you to divide complex tasks into smaller, more manageable parts by assigning each part to a different object. This can make your code more organized and easier to maintain.\n",
    "\n",
    "Here's a simple example in Python to illustrate delegation:"
   ]
  },
  {
   "cell_type": "markdown",
   "id": "7093e21d",
   "metadata": {},
   "source": [
    "Let's explore the concept of delegation using a simple example of a \"Robot\" that can perform various tasks by delegating them to different specialized components. In this example, we'll have a Robot class that delegates tasks to a Arm, Leg, and Head components."
   ]
  },
  {
   "cell_type": "code",
   "execution_count": 3,
   "id": "853433ac",
   "metadata": {},
   "outputs": [
    {
     "name": "stdout",
     "output_type": "stream",
     "text": [
      "Robot is doing tasks: Waving arm, Walking leg, Nodding head\n"
     ]
    }
   ],
   "source": [
    "# Create an Arm component\n",
    "class Arm:\n",
    "    def wave(self):\n",
    "        return \"Waving arm\"\n",
    "\n",
    "# Create a Leg component\n",
    "class Leg:\n",
    "    def walk(self):\n",
    "        return \"Walking leg\"\n",
    "\n",
    "# Create a Head component\n",
    "class Head:\n",
    "    def nod(self):\n",
    "        return \"Nodding head\"\n",
    "\n",
    "# Create a Robot class that delegates tasks to its components\n",
    "class Robot:\n",
    "    def __init__(self):\n",
    "        self.arm = Arm()\n",
    "        self.leg = Leg()\n",
    "        self.head = Head()\n",
    "\n",
    "    def do_tasks(self):\n",
    "        arm_task = self.arm.wave()\n",
    "        leg_task = self.leg.walk()\n",
    "        head_task = self.head.nod()\n",
    "        return f\"Robot is doing tasks: {arm_task}, {leg_task}, {head_task}\"\n",
    "\n",
    "# Create a Robot instance\n",
    "robot = Robot()\n",
    "\n",
    "# Delegate tasks to the Robot, which in turn delegates them to its components\n",
    "result = robot.do_tasks()\n",
    "\n",
    "# Print the result\n",
    "print(result)\n"
   ]
  },
  {
   "cell_type": "markdown",
   "id": "40c65c37",
   "metadata": {},
   "source": [
    "Explanation of each line:\n",
    "\n",
    "1. We create an `Arm` class to represent the arm component.\n",
    "2. We create a `Leg` class to represent the leg component.\n",
    "3. We create a `Head` class to represent the head component.\n",
    "4. We create a `Robot` class that initializes its components: `Arm`, `Leg`, and `Head`.\n",
    "5. Inside the `Robot` class, we define a `do_tasks` method that delegates specific tasks to its components (`arm.wave()`, `leg.walk()`, and `head.nod()`).\n",
    "6. We create an instance of the `Robot` class called `robot`.\n",
    "7. We call the `do_tasks` method on the `robot` instance, which, in turn, delegates tasks to its components.\n",
    "8. The result of the tasks is stored in the `result` variable.\n",
    "9. Finally, we print the `result`.\n",
    "\n",
    "In this example, the `Robot` class delegates tasks to its components (`Arm`, `Leg`, and `Head`), allowing it to perform a combination of actions. This demonstrates the concept of delegation, where a higher-level object (the `Robot`) relies on and delegates tasks to lower-level specialized objects (the components) to achieve its functionality."
   ]
  },
  {
   "cell_type": "markdown",
   "id": "89b1d816",
   "metadata": {},
   "source": [
    "# Q3. What is the concept of composition?"
   ]
  },
  {
   "cell_type": "markdown",
   "id": "6e4ca43f",
   "metadata": {},
   "source": [
    "**Ans:**"
   ]
  },
  {
   "cell_type": "markdown",
   "id": "501b68e0",
   "metadata": {},
   "source": [
    "Composition is a fundamental concept in object-oriented programming (OOP) that involves building complex objects by combining or \"composing\" simpler objects. It allows you to create more modular, reusable, and flexible code by assembling objects with different functionalities to form more complex structures.\n",
    "\n",
    "Here are some key points about the concept of composition:\n",
    "\n",
    "1. **Composition vs. Inheritance:** Composition is an alternative to inheritance for achieving code reuse and building complex objects. While inheritance involves creating new classes by inheriting properties and behaviors from existing classes, composition involves creating objects by combining other objects.\n",
    "\n",
    "2. **Has-A Relationship:** Composition represents a \"has-a\" relationship, meaning that an object contains or is composed of other objects. For example, a `Car` object has an `Engine`, `Wheels`, and `Seats`.\n",
    "\n",
    "3. **Modularity:** Composition promotes modularity in your code. You can create small, self-contained classes that represent specific functionalities or components. These classes can then be combined to create more complex objects or systems.\n",
    "\n",
    "4. **Flexibility:** With composition, you can easily change the behavior of an object by replacing or reconfiguring its components. This makes your code more adaptable to changing requirements.\n",
    "\n",
    "5. **Encapsulation:** Each component in a composition can encapsulate its own state and behavior. This helps in maintaining a clear separation of concerns and reduces complexity.\n",
    "\n",
    "6. **Code Reusability:** By composing objects, you can reuse components in different contexts, reducing code duplication."
   ]
  },
  {
   "cell_type": "markdown",
   "id": "1b662c44",
   "metadata": {},
   "source": [
    "Here's a simple Python example to illustrate composition:"
   ]
  },
  {
   "cell_type": "code",
   "execution_count": 4,
   "id": "9ee433af",
   "metadata": {},
   "outputs": [
    {
     "name": "stdout",
     "output_type": "stream",
     "text": [
      "Engine started\n",
      "Wheels rolling\n"
     ]
    }
   ],
   "source": [
    "class Engine:\n",
    "    def start(self):\n",
    "        print(\"Engine started\")\n",
    "\n",
    "class Wheels:\n",
    "    def roll(self):\n",
    "        print(\"Wheels rolling\")\n",
    "\n",
    "class Car:\n",
    "    def __init__(self):\n",
    "        self.engine = Engine()\n",
    "        self.wheels = Wheels()\n",
    "\n",
    "    def drive(self):\n",
    "        self.engine.start()\n",
    "        self.wheels.roll()\n",
    "\n",
    "# Create a Car object\n",
    "my_car = Car()\n",
    "\n",
    "# Drive the car\n",
    "my_car.drive()\n"
   ]
  },
  {
   "cell_type": "markdown",
   "id": "ba44321c",
   "metadata": {},
   "source": [
    "In this example, the Car class is composed of Engine and Wheels objects. It demonstrates how composition allows you to create a complex object (Car) by combining simpler objects (Engine and Wheels) to achieve a specific functionality."
   ]
  },
  {
   "cell_type": "markdown",
   "id": "81cf411f",
   "metadata": {},
   "source": [
    "**Deference between  delegation and composition?**"
   ]
  },
  {
   "cell_type": "markdown",
   "id": "98429076",
   "metadata": {},
   "source": [
    "Delegation is primarily about sharing specific tasks or responsibilities among objects, while composition is about building complex objects by combining simpler ones."
   ]
  },
  {
   "cell_type": "markdown",
   "id": "5f66bdf9",
   "metadata": {},
   "source": [
    "# Q4. What are bound methods and how do we use them?"
   ]
  },
  {
   "cell_type": "markdown",
   "id": "83783191",
   "metadata": {},
   "source": [
    "**Ans:**"
   ]
  },
  {
   "cell_type": "markdown",
   "id": "4b350841",
   "metadata": {},
   "source": [
    "Bound methods are a concept in Python that refers to methods attached to instances of a class. When you access a method through an instance of a class, Python automatically passes the instance itself as the first argument to the method. This binding of the instance to the method is what creates a bound method.\n",
    "\n",
    "Here's how bound methods work and how to use them:\n",
    "\n",
    "1. **Instance and Method Association:** When you define a class and create an instance of that class, the instance retains a reference to the methods of the class.\n",
    "\n",
    "2. **Implicit `self` Parameter:** In the method definition of a class, the first parameter (usually named `self`) is used to refer to the instance that the method is called on. This parameter is automatically passed when you call a method on an instance.\n",
    "\n",
    "3. **Binding:** When you call a method on an instance, Python automatically binds the instance to the method, making it a bound method. This means that the method now has access to the instance's attributes and can operate on them.\n",
    "\n",
    "4. **Usage:** You can use bound methods just like regular functions, but they have access to the instance's data. You can call bound methods using the instance's dot notation, and Python will handle passing the instance as the first argument."
   ]
  },
  {
   "cell_type": "code",
   "execution_count": 5,
   "id": "ee817b21",
   "metadata": {},
   "outputs": [
    {
     "name": "stdout",
     "output_type": "stream",
     "text": [
      "Buddy says Woof!\n",
      "Max says Woof!\n"
     ]
    }
   ],
   "source": [
    "class Dog:\n",
    "    def __init__(self, name):\n",
    "        self.name = name\n",
    "\n",
    "    def bark(self):\n",
    "        print(f\"{self.name} says Woof!\")\n",
    "\n",
    "# Creating instances of the Dog class\n",
    "dog1 = Dog(\"Buddy\")\n",
    "dog2 = Dog(\"Max\")\n",
    "\n",
    "# Calling the bound method bark on instances\n",
    "dog1.bark()  # Python automatically passes dog1 as the 'self' parameter\n",
    "dog2.bark()  # Python automatically passes dog2 as the 'self' parameter"
   ]
  },
  {
   "cell_type": "markdown",
   "id": "97c15a63",
   "metadata": {},
   "source": [
    "In the example above, `dog1.bark()` and `dog2.bark()` are calls to the `bark` method, and Python automatically binds the respective instances `dog1` and `dog2` to the method, allowing it to access the `name` attribute of each instance."
   ]
  },
  {
   "cell_type": "markdown",
   "id": "0df459d5",
   "metadata": {},
   "source": [
    "# Q5. What is the purpose of pseudoprivate attributes?"
   ]
  },
  {
   "cell_type": "markdown",
   "id": "1d129583",
   "metadata": {},
   "source": [
    "**Ans:**"
   ]
  },
  {
   "cell_type": "markdown",
   "id": "643abcb7",
   "metadata": {},
   "source": [
    "Pseudoprivate attributes, often referred to as \"name mangling\" in Python, serve a specific purpose in class design. They are meant to provide a level of name protection for attributes within a class. The purpose of pseudoprivate attributes can be summarized as follows:\n",
    "\n",
    "1. **Name Protection:** Pseudoprivate attributes are used to protect attribute names from unintentional name conflicts with subclasses or other classes. They help prevent accidental overwriting of attributes by subclasses or external code.\n",
    "\n",
    "2. **Class-Specific Attributes:** These attributes are primarily intended for use within the class where they are defined. They are not part of the public interface of the class and are not meant to be accessed directly from outside the class.\n",
    "\n",
    "3. **Avoiding Name Clashes:** By adding double underscores as a prefix to an attribute name (e.g., `__my_attribute`), you make it harder for other developers to accidentally override or access the attribute directly. This can help avoid name clashes and maintain the internal integrity of the class.\n",
    "\n",
    "4. **Limited Accessibility:** Pseudoprivate attributes are not truly private; they can still be accessed if necessary. However, they are made less accessible and signal to other developers that they should not be used externally.\n",
    "\n",
    "5. **Code Organization:** They can improve code organization and encapsulation by keeping internal implementation details hidden from external code. This follows the principle of encapsulation in object-oriented programming.\n",
    "\n",
    "Here's an example of pseudoprivate attribute usage:"
   ]
  },
  {
   "cell_type": "code",
   "execution_count": 7,
   "id": "7ba9d5d2",
   "metadata": {},
   "outputs": [
    {
     "name": "stdout",
     "output_type": "stream",
     "text": [
      "42\n",
      "99\n"
     ]
    }
   ],
   "source": [
    "class MyClass:\n",
    "    def __init__(self):\n",
    "        self.__my_attribute = 42  # Pseudoprivate attribute\n",
    "\n",
    "    def get_attribute(self):\n",
    "        return self.__my_attribute\n",
    "\n",
    "    def set_attribute(self, value):\n",
    "        self.__my_attribute = value\n",
    "\n",
    "# Creating an instance of MyClass\n",
    "obj = MyClass()\n",
    "\n",
    "# Accessing the pseudoprivate attribute using methods\n",
    "print(obj.get_attribute())  # Access through a method\n",
    "obj.set_attribute(99)        # Modify the attribute through a method\n",
    "print(obj.get_attribute())  # Access the modified attribute\n"
   ]
  },
  {
   "cell_type": "markdown",
   "id": "358e0506",
   "metadata": {},
   "source": [
    "In this example, `__my_attribute` is a pseudoprivate attribute, and it's accessed and modified through getter and setter methods. While it's not entirely private, its naming convention discourages direct external access and helps maintain class integrity.\n",
    "\n",
    "Keep in mind that pseudoprivate attributes are a convention in Python rather than a strict access control mechanism. They rely on the developer's discipline to respect the intended encapsulation."
   ]
  },
  {
   "cell_type": "code",
   "execution_count": null,
   "id": "45afb34d",
   "metadata": {},
   "outputs": [],
   "source": []
  }
 ],
 "metadata": {
  "kernelspec": {
   "display_name": "Python 3 (ipykernel)",
   "language": "python",
   "name": "python3"
  },
  "language_info": {
   "codemirror_mode": {
    "name": "ipython",
    "version": 3
   },
   "file_extension": ".py",
   "mimetype": "text/x-python",
   "name": "python",
   "nbconvert_exporter": "python",
   "pygments_lexer": "ipython3",
   "version": "3.9.7"
  }
 },
 "nbformat": 4,
 "nbformat_minor": 5
}
