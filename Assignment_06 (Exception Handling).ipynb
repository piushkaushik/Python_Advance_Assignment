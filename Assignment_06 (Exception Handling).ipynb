{
 "cells": [
  {
   "cell_type": "markdown",
   "id": "9ab5dedb",
   "metadata": {},
   "source": [
    "# Q1. Describe three applications for exception processing."
   ]
  },
  {
   "cell_type": "markdown",
   "id": "d3953073",
   "metadata": {},
   "source": [
    "**Ans:**"
   ]
  },
  {
   "cell_type": "markdown",
   "id": "d6059079",
   "metadata": {},
   "source": [
    "Exception processing is a crucial aspect of error handling in programming. Here are three common applications for exception processing:\n",
    "\n",
    "1. **Error Handling**: The primary purpose of exceptions is to handle errors gracefully. When unexpected situations or errors occur during program execution, exceptions provide a mechanism to catch and manage these errors. For example, if a file that a program is trying to read doesn't exist, it can raise a `FileNotFoundError` exception and handle it by providing an appropriate error message or taking corrective actions.\n",
    "\n",
    "2. **Input Validation**: Exceptions can be used to validate user input. For instance, if a user is expected to enter a number, and they input a non-numeric value, an exception (e.g., `ValueError`) can be raised to indicate the input is invalid. This allows the program to prompt the user for valid input or take other actions as needed.\n",
    "\n",
    "3. **Resource Management**: Exceptions are essential for managing resources like files, network connections, or database connections. If, for some reason, the program can't access a resource or encounters an issue while using it, it can raise an exception. This allows the program to release or close the resource properly before terminating or taking recovery measures."
   ]
  },
  {
   "cell_type": "code",
   "execution_count": 15,
   "id": "73eb5968",
   "metadata": {},
   "outputs": [
    {
     "name": "stdout",
     "output_type": "stream",
     "text": [
      "Error: No such file is available\n"
     ]
    }
   ],
   "source": [
    "# Error Handling:\n",
    "\n",
    "try:\n",
    "    # Attempt to open a file that may not exist\n",
    "    file = open(\"non_existent_file.txt\", \"r\")\n",
    "    content = file.read()\n",
    "    file.close()\n",
    "except:\n",
    "    print(f\"Error: No such file is available\")\n"
   ]
  },
  {
   "cell_type": "code",
   "execution_count": 18,
   "id": "1dca6971",
   "metadata": {},
   "outputs": [
    {
     "name": "stdout",
     "output_type": "stream",
     "text": [
      "Invalid input: Number must be positive\n"
     ]
    }
   ],
   "source": [
    "# Input Validation:\n",
    "try:\n",
    "    input_num = -3\n",
    "    if input_num < 0:\n",
    "        raise ValueError(\"Number must be positive\")\n",
    "except ValueError as e:\n",
    "    print(f\"Invalid input: {e}\")\n"
   ]
  },
  {
   "cell_type": "code",
   "execution_count": 20,
   "id": "d4601713",
   "metadata": {},
   "outputs": [],
   "source": [
    "# Resource Management:\n",
    "try:\n",
    "    # Attempt to open a file for writing\n",
    "    file = open(\"example.txt\", \"w\")\n",
    "    # Write some data to the file\n",
    "    file.write(\"Hello, world!\")\n",
    "except IOError as e:\n",
    "    print(f\"Error writing to file: {e}\")\n",
    "finally:\n",
    "    # Ensure the file is closed, even if an exception occurs\n",
    "    if 'file' in locals() and not file.closed:\n",
    "        file.close()\n"
   ]
  },
  {
   "cell_type": "markdown",
   "id": "baccb58b",
   "metadata": {},
   "source": [
    "# Q2. What happens if you don't do something extra to treat an exception?"
   ]
  },
  {
   "cell_type": "markdown",
   "id": "35302655",
   "metadata": {},
   "source": [
    "**Ans:**"
   ]
  },
  {
   "cell_type": "markdown",
   "id": "c4b8fd17",
   "metadata": {},
   "source": [
    "If you don’t do that, then you can’t handle the exceptions, and your program will crash. In that situation, Python will print the exception traceback so that you can figure out how to fix the problem. Sometimes, you must let the program fail in order to discover the exceptions that it raises."
   ]
  },
  {
   "cell_type": "markdown",
   "id": "4b377243",
   "metadata": {},
   "source": [
    "# Q3. What are your options for recovering from an exception in your script?"
   ]
  },
  {
   "cell_type": "markdown",
   "id": "d19f5aee",
   "metadata": {},
   "source": [
    "**Ans:**"
   ]
  },
  {
   "cell_type": "markdown",
   "id": "c6ddec3f",
   "metadata": {},
   "source": [
    "When an exception occurs in your Python script, you have several options for recovering from it:\n",
    "\n",
    "1. **Try-Except Blocks:** You can use `try` and `except` blocks to catch and handle exceptions gracefully. This allows you to perform specific actions when an exception occurs and continue executing the script without crashing. "
   ]
  },
  {
   "cell_type": "markdown",
   "id": "addc6dee",
   "metadata": {},
   "source": [
    "2. **Logging:** You can log the exception details, including a timestamp and a description of what went wrong, to a log file or another storage location. This helps in debugging and understanding the cause of the exception.\n",
    "\n",
    "3. **Graceful Termination:** Depending on the nature of the exception, you might decide to exit the script gracefully rather than attempting to recover. You can use the `sys.exit()` function to exit the script with a specified exit code.\n",
    "\n",
    "4. **Error Handling and Reporting:** You can design your script to handle errors in a way that informs the user or operator about the issue. This could involve printing error messages, sending email notifications, or displaying user-friendly error dialogs.\n",
    "\n",
    "5. **Exception Propagation:** In some cases, it's appropriate to let the exception propagate up the call stack to a higher-level handler or even to the main script. This can be useful when the exception cannot be handled effectively at a lower level.\n",
    "\n",
    "The specific approach you choose depends on the nature of the exception and the requirements of your script. Effective exception handling is crucial for robust and reliable Python programs."
   ]
  },
  {
   "cell_type": "markdown",
   "id": "152b29af",
   "metadata": {},
   "source": [
    "# Q4. Describe two methods for triggering exceptions in your script."
   ]
  },
  {
   "cell_type": "markdown",
   "id": "b6a84b80",
   "metadata": {},
   "source": [
    "**Ans:**"
   ]
  },
  {
   "cell_type": "markdown",
   "id": "6f6da3db",
   "metadata": {},
   "source": [
    "In Python, you can intentionally trigger exceptions in your script using various methods. Here are two common methods:\n",
    "\n",
    "1. **Raise Statement:** You can use the `raise` statement to raise exceptions explicitly when certain conditions are met. This is often used when you want to handle specific error scenarios in your code. \n",
    "\n",
    "For example:\n"
   ]
  },
  {
   "cell_type": "code",
   "execution_count": 23,
   "id": "dda40584",
   "metadata": {},
   "outputs": [
    {
     "name": "stdout",
     "output_type": "stream",
     "text": [
      "Error: Division by zero is not allowed\n"
     ]
    }
   ],
   "source": [
    "def divide(a, b):\n",
    "    if b == 0:\n",
    "        raise ZeroDivisionError(\"Division by zero is not allowed\")\n",
    "    return a / b\n",
    "\n",
    "try:\n",
    "    result = divide(10, 0)\n",
    "except ZeroDivisionError as e:\n",
    "    print(f\"Error: {e}\")"
   ]
  },
  {
   "cell_type": "markdown",
   "id": "590861df",
   "metadata": {},
   "source": [
    "    In this example, a `ZeroDivisionError` exception is raised explicitly when the divisor `b` is zero."
   ]
  },
  {
   "cell_type": "markdown",
   "id": "26a20277",
   "metadata": {},
   "source": [
    "2. **Assert Statement:** The `assert` statement is used to trigger an `AssertionError` exception when a given condition is `False`. This is often used for debugging and checking assumptions about the state of your program. \n",
    "\n",
    "For example:"
   ]
  },
  {
   "cell_type": "code",
   "execution_count": 24,
   "id": "7ccffe91",
   "metadata": {},
   "outputs": [
    {
     "name": "stdout",
     "output_type": "stream",
     "text": [
      "Assertion Error: Invalid discount percentage\n"
     ]
    }
   ],
   "source": [
    "def calculate_discount(price, discount):\n",
    "    assert discount >= 0 and discount <= 100, \"Invalid discount percentage\"\n",
    "    discounted_price = price * (1 - discount / 100)\n",
    "    return discounted_price\n",
    "\n",
    "try:\n",
    "    discounted_price = calculate_discount(100, 120)\n",
    "except AssertionError as e:\n",
    "    print(f\"Assertion Error: {e}\")\n"
   ]
  },
  {
   "cell_type": "markdown",
   "id": "fc864c5c",
   "metadata": {},
   "source": [
    "    In this example, an `AssertionError` is raised when the discount percentage is outside the valid range."
   ]
  },
  {
   "cell_type": "markdown",
   "id": "970d5b81",
   "metadata": {},
   "source": [
    "# Q5. Identify two methods for specifying actions to be executed at termination time, regardless of whether or not an exception exists."
   ]
  },
  {
   "cell_type": "markdown",
   "id": "cff3d632",
   "metadata": {},
   "source": [
    "**Ans:**"
   ]
  },
  {
   "cell_type": "markdown",
   "id": "799a194b",
   "metadata": {},
   "source": [
    "In Python, you can specify actions to be executed at termination time, regardless of whether or not an exception exists, using the following methods:\n",
    "\n",
    "1. **`finally` Block:** The `finally` block is used in combination with a `try` block to ensure that a specific set of statements is executed regardless of whether an exception is raised or not. This is often used for cleanup operations, such as closing files or releasing resources. \n",
    "\n",
    "Here's an example:"
   ]
  },
  {
   "cell_type": "code",
   "execution_count": 25,
   "id": "a5f61863",
   "metadata": {},
   "outputs": [],
   "source": [
    "try:\n",
    "    # Code that may raise an exception\n",
    "    file = open(\"example.txt\", \"r\")\n",
    "    data = file.read()\n",
    "except FileNotFoundError as e:\n",
    "    print(f\"Error: {e}\")\n",
    "finally:\n",
    "    # Code that always executes, even if an exception occurs\n",
    "    file.close()"
   ]
  },
  {
   "cell_type": "markdown",
   "id": "c58ba47a",
   "metadata": {},
   "source": [
    "\n",
    "    In this example, the `finally` block ensures that the file is closed, even if an exception is raised.\n",
    "\n"
   ]
  },
  {
   "cell_type": "markdown",
   "id": "a1f3f254",
   "metadata": {},
   "source": [
    "2. **Context Managers (with Statement):** Python's `with` statement, in combination with context managers, allows you to specify actions to be executed before and after a block of code, ensuring proper resource management. Common examples include opening and closing files using the `open()` function as a context manager:"
   ]
  },
  {
   "cell_type": "code",
   "execution_count": 26,
   "id": "291dacc2",
   "metadata": {},
   "outputs": [],
   "source": [
    "try:\n",
    "    with open(\"example.txt\", \"r\") as file:\n",
    "        data = file.read()\n",
    "    # Code that may use 'data'\n",
    "except FileNotFoundError as e:\n",
    "    print(f\"Error: {e}\")\n"
   ]
  },
  {
   "cell_type": "markdown",
   "id": "94b57d20",
   "metadata": {},
   "source": [
    "\n",
    "    In this example, the file is automatically closed when the `with` block exits, whether or not an exception occurred. This is a clean and Pythonic way to handle resources.\n",
    "\n"
   ]
  },
  {
   "cell_type": "code",
   "execution_count": null,
   "id": "a3c1406b",
   "metadata": {},
   "outputs": [],
   "source": []
  }
 ],
 "metadata": {
  "kernelspec": {
   "display_name": "Python 3 (ipykernel)",
   "language": "python",
   "name": "python3"
  },
  "language_info": {
   "codemirror_mode": {
    "name": "ipython",
    "version": 3
   },
   "file_extension": ".py",
   "mimetype": "text/x-python",
   "name": "python",
   "nbconvert_exporter": "python",
   "pygments_lexer": "ipython3",
   "version": "3.9.7"
  }
 },
 "nbformat": 4,
 "nbformat_minor": 5
}
