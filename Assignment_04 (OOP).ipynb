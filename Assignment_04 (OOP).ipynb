{
 "cells": [
  {
   "cell_type": "markdown",
   "id": "a5d56ea8",
   "metadata": {},
   "source": [
    "# Q1. Which two operator overloading methods can you use in your classes to support iteration?"
   ]
  },
  {
   "cell_type": "markdown",
   "id": "06b7819e",
   "metadata": {},
   "source": [
    "**Ans:**"
   ]
  },
  {
   "cell_type": "markdown",
   "id": "85a20420",
   "metadata": {},
   "source": [
    "In Python, to support iteration in your classes, you can use the following two operator overloading methods:\n",
    "\n",
    "1. `__iter__`: This method is used to define how an object should behave when used in a `for` loop or when it is converted to an iterator. It should return an iterator object, which must have a `__next__` method to define how to retrieve the next element in the iteration.\n",
    "\n",
    "2. `__next__`: This method is used in conjunction with `__iter__` to define the behavior of retrieving the next element in the iteration. It should raise the `StopIteration` exception when there are no more items to iterate over."
   ]
  },
  {
   "cell_type": "code",
   "execution_count": 1,
   "id": "6578ca90",
   "metadata": {},
   "outputs": [
    {
     "name": "stdout",
     "output_type": "stream",
     "text": [
      "1\n",
      "2\n",
      "3\n",
      "4\n",
      "5\n"
     ]
    }
   ],
   "source": [
    "class MyIterable:\n",
    "    def __init__(self, data):\n",
    "        self.data = data\n",
    "        self.index = 0\n",
    "\n",
    "    def __iter__(self):\n",
    "        return self\n",
    "\n",
    "    def __next__(self):\n",
    "        if self.index < len(self.data):\n",
    "            result = self.data[self.index]\n",
    "            self.index += 1\n",
    "            return result\n",
    "        else:\n",
    "            raise StopIteration\n",
    "\n",
    "# Usage example:\n",
    "my_list = MyIterable([1, 2, 3, 4, 5])\n",
    "\n",
    "for item in my_list:\n",
    "    print(item)\n"
   ]
  },
  {
   "cell_type": "markdown",
   "id": "0f486b36",
   "metadata": {},
   "source": [
    "In the above example, the `MyIterable` class defines `__iter__` to return itself as an iterator and `__next__` to define how to retrieve the next element from the data. It raises `StopIteration` when there are no more items to iterate over.\n",
    "\n",
    "Using these methods allows instances of `MyIterable` to be used in `for` loops and other iterable contexts."
   ]
  },
  {
   "cell_type": "markdown",
   "id": "00121b00",
   "metadata": {},
   "source": [
    "# Q2. In what contexts do the two operator overloading methods manage printing?"
   ]
  },
  {
   "cell_type": "markdown",
   "id": "fa60f511",
   "metadata": {},
   "source": [
    "**Ans:**"
   ]
  },
  {
   "cell_type": "markdown",
   "id": "ff20a56f",
   "metadata": {},
   "source": [
    "In Python, there are two operator overloading methods that are commonly used to manage printing:\n",
    "\n",
    "1. `__str__`: The `__str__` method is used to define how an object should be represented as a string when the `str()` function is called on it or when it's used within a string format. This method is primarily used to provide a human-readable string representation of the object. It's often used for debugging or displaying information about the object in a user-friendly way."
   ]
  },
  {
   "cell_type": "code",
   "execution_count": 2,
   "id": "ab95c43d",
   "metadata": {},
   "outputs": [
    {
     "name": "stdout",
     "output_type": "stream",
     "text": [
      "This is an instance of MyClass\n"
     ]
    }
   ],
   "source": [
    "class MyClass:\n",
    "    def __str__(self):\n",
    "        return \"This is an instance of MyClass\"\n",
    "\n",
    "obj = MyClass()\n",
    "print(obj)"
   ]
  },
  {
   "cell_type": "markdown",
   "id": "ce6502fa",
   "metadata": {},
   "source": [
    "2. `__repr__`: The `__repr__` method is used to define how an object should be represented as a string when the `repr()` function is called on it or when it's used in the Python interactive shell. This method is more focused on providing a detailed and unambiguous representation of the object, often used for debugging and development purposes."
   ]
  },
  {
   "cell_type": "code",
   "execution_count": 6,
   "id": "d8218316",
   "metadata": {},
   "outputs": [
    {
     "name": "stdout",
     "output_type": "stream",
     "text": [
      "Printing...\n"
     ]
    }
   ],
   "source": [
    "class MyClass:\n",
    "    def __repr__(self):\n",
    "        return \"Printing...\"\n",
    "\n",
    "obj = MyClass()\n",
    "print(repr(obj))\n"
   ]
  },
  {
   "cell_type": "markdown",
   "id": "6c191848",
   "metadata": {},
   "source": [
    "**These methods allow you to customize the string representation of your objects, making it easier to work with them in various contexts such as debugging, logging, and interactive sessions.**"
   ]
  },
  {
   "cell_type": "markdown",
   "id": "9a4c8298",
   "metadata": {},
   "source": [
    "# Q3. In a class, how do you intercept slice operations?"
   ]
  },
  {
   "cell_type": "markdown",
   "id": "ac21b54c",
   "metadata": {},
   "source": [
    "**Ans:**"
   ]
  },
  {
   "cell_type": "markdown",
   "id": "3802585f",
   "metadata": {},
   "source": [
    "In a class, you can intercept slice operations by defining two special methods: `__getitem__` and `__setitem__`. These methods allow you to customize how objects of your class behave when accessed using square brackets, including slicing.\n",
    "\n",
    "1. `__getitem__(self, key)`: This method is called when you use square brackets to access an element or slice of an object. The `key` parameter can be an integer, a slice object, or any other index-like value. You can use it to define the behavior for retrieving values from your object.\n",
    "\n",
    "   Here's an example of how to implement `__getitem__` for custom slicing:"
   ]
  },
  {
   "cell_type": "code",
   "execution_count": 13,
   "id": "93b45e5a",
   "metadata": {},
   "outputs": [
    {
     "name": "stdout",
     "output_type": "stream",
     "text": [
      "2\n",
      "[2, 3, 4]\n"
     ]
    }
   ],
   "source": [
    "class MyList:\n",
    "    def __init__(self, data):\n",
    "        self.data = data\n",
    "\n",
    "    def __getitem__(self, key):\n",
    "        if isinstance(key, slice):\n",
    "            # Handle slicing\n",
    "            start, stop, step = key.start, key.stop, key.step\n",
    "            return self.data[start:stop:step]\n",
    "        else:\n",
    "            # Handle single element access\n",
    "            return self.data[key]\n",
    "\n",
    "my_list = MyList([1,2,3,4,5])\n",
    "print(my_list[1])       # Accessing single element\n",
    "print(my_list[1:4])     # Slicing\n"
   ]
  },
  {
   "cell_type": "markdown",
   "id": "06e37733",
   "metadata": {},
   "source": [
    "2. `__setitem__(self, key, value)`: This method is called when you use square brackets to set a value at a specific index or slice of an object. It allows you to define the behavior for assigning values to your object.\n",
    "\n",
    "   Here's an example of how to implement `__setitem__`:"
   ]
  },
  {
   "cell_type": "code",
   "execution_count": 15,
   "id": "0771bd0f",
   "metadata": {},
   "outputs": [],
   "source": [
    "class MyList:\n",
    "    def __init__(self, data):\n",
    "        self.data = data\n",
    "\n",
    "    def __setitem__(self, key, value):\n",
    "        self.data[key] = value\n",
    "\n",
    "my_list = MyList([1, 2, 3, 4, 5])\n",
    "my_list[2] = 42  # Assigning a value at a specific index\n"
   ]
  },
  {
   "cell_type": "markdown",
   "id": "1e408902",
   "metadata": {},
   "source": [
    "By defining these methods in your class, you can control how slicing and indexing operations work on instances of your class."
   ]
  },
  {
   "cell_type": "markdown",
   "id": "40b34fe2",
   "metadata": {},
   "source": [
    "# Q4. In a class, how do you capture in-place addition?"
   ]
  },
  {
   "cell_type": "markdown",
   "id": "cefa4c6d",
   "metadata": {},
   "source": [
    "**Ans:**"
   ]
  },
  {
   "cell_type": "markdown",
   "id": "7585c448",
   "metadata": {},
   "source": [
    "To capture in-place addition in a class, you need to implement the `__iadd__` method (in-place addition) for your class. This method allows you to define what happens when the `+=` operator is used with instances of your class. \n",
    "\n",
    "Here's an example of how to capture in-place addition:"
   ]
  },
  {
   "cell_type": "code",
   "execution_count": 17,
   "id": "d2fac957",
   "metadata": {},
   "outputs": [
    {
     "name": "stdout",
     "output_type": "stream",
     "text": [
      "15\n",
      "18.0\n"
     ]
    }
   ],
   "source": [
    "class MyNumber:\n",
    "    def __init__(self, value):\n",
    "        self.value = value\n",
    "\n",
    "    def __iadd__(self, other):\n",
    "        # Define the behavior for in-place addition +=\n",
    "        if isinstance(other, MyNumber):\n",
    "            # If 'other' is also a MyNumber instance, add their values\n",
    "            self.value += other.value\n",
    "        else:\n",
    "            # If 'other' is not a MyNumber instance, try to convert it to a number and add\n",
    "            try:\n",
    "                self.value += float(other)\n",
    "            except ValueError:\n",
    "                raise ValueError(\"Unsupported type for in-place addition\")\n",
    "\n",
    "        return self  # You should return the modified object\n",
    "\n",
    "    def __str__(self):\n",
    "        return str(self.value)\n",
    "\n",
    "# Create instances of MyNumber\n",
    "num1 = MyNumber(5)\n",
    "num2 = MyNumber(10)\n",
    "\n",
    "# Perform in-place addition\n",
    "num1 += num2\n",
    "print(num1)  # Output will be: 15\n",
    "\n",
    "# You can also use += with other types\n",
    "num1 += 3\n",
    "print(num1)  # Output will be: 18\n"
   ]
  },
  {
   "cell_type": "markdown",
   "id": "1dbbec1a",
   "metadata": {},
   "source": [
    "In this example, the `MyNumber` class defines the `__iadd__` method, which allows instances of the class to participate in in-place addition. The method checks whether the `other` operand is of the same class (a `MyNumber` instance) or not. If it's not, it tries to convert `other` to a number and adds it to the `value` attribute of the object.\n",
    "\n",
    "After implementing `__iadd__`, you can use the `+=` operator with instances of `MyNumber` to perform in-place addition."
   ]
  },
  {
   "cell_type": "markdown",
   "id": "caefa170",
   "metadata": {},
   "source": [
    "# Q5. When is it appropriate to use operator overloading?"
   ]
  },
  {
   "cell_type": "markdown",
   "id": "396935ef",
   "metadata": {},
   "source": [
    "**Ans:**"
   ]
  },
  {
   "cell_type": "markdown",
   "id": "80919ccc",
   "metadata": {},
   "source": [
    "- Operator overloading is appropriate when you want to define custom behavior for built-in operators in Python for your user-defined classes. It allows you to make your classes more intuitive and natural to work with, especially when they represent complex data structures or domain-specific objects.\n",
    "\n",
    "- In general, operator overloading is appropriate when it enhances the clarity, readability, and usability of your code by allowing your custom classes to mimic the behavior of built-in types or provide domain-specific functionality. However, it should be used judiciously to avoid confusion or unexpected behavior."
   ]
  },
  {
   "cell_type": "code",
   "execution_count": null,
   "id": "5a753acf",
   "metadata": {},
   "outputs": [],
   "source": []
  }
 ],
 "metadata": {
  "kernelspec": {
   "display_name": "Python 3 (ipykernel)",
   "language": "python",
   "name": "python3"
  },
  "language_info": {
   "codemirror_mode": {
    "name": "ipython",
    "version": 3
   },
   "file_extension": ".py",
   "mimetype": "text/x-python",
   "name": "python",
   "nbconvert_exporter": "python",
   "pygments_lexer": "ipython3",
   "version": "3.9.7"
  }
 },
 "nbformat": 4,
 "nbformat_minor": 5
}
