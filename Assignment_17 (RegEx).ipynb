{
 "cells": [
  {
   "cell_type": "markdown",
   "id": "931b9523",
   "metadata": {},
   "source": [
    "# Q1. Explain the difference between greedy and non-greedy syntax with visual terms in as few words as possible. What is the bare minimum effort required to transform a greedy pattern into a non-greedy one? What characters or characters can you introduce or change?"
   ]
  },
  {
   "cell_type": "markdown",
   "id": "4ea46f98",
   "metadata": {},
   "source": [
    "**Ans:**"
   ]
  },
  {
   "cell_type": "markdown",
   "id": "404b58f4",
   "metadata": {},
   "source": [
    "- **Greedy vs. Non-Greedy:** Greedy quantifiers in regular expressions match as much text as possible, while non-greedy (or lazy) quantifiers match as little as possible.\n",
    "\n",
    "- **Transformation:** To change a greedy pattern into a non-greedy one, add a `?` after the quantifier. For example, change `*` to `*?`, or `+` to `+?`."
   ]
  },
  {
   "cell_type": "code",
   "execution_count": 1,
   "id": "cbebfa36",
   "metadata": {},
   "outputs": [
    {
     "name": "stdout",
     "output_type": "stream",
     "text": [
      "abcabcabc\n"
     ]
    }
   ],
   "source": [
    "# with greedy quantifier\n",
    "import re\n",
    "\n",
    "text = \"abcabcabc\"\n",
    "pattern = r\"a.*c\"\n",
    "match = re.search(pattern, text)\n",
    "print(match.group()) \n"
   ]
  },
  {
   "cell_type": "code",
   "execution_count": 2,
   "id": "ea98e56c",
   "metadata": {},
   "outputs": [
    {
     "name": "stdout",
     "output_type": "stream",
     "text": [
      "abc\n"
     ]
    }
   ],
   "source": [
    "# with non-greedy quantifier\n",
    "import re\n",
    "\n",
    "text = \"abcabcabc\"\n",
    "pattern = r\"a.*?c\"\n",
    "match = re.search(pattern, text)\n",
    "print(match.group())  # Output will be \"abc\""
   ]
  },
  {
   "cell_type": "markdown",
   "id": "56b36d63",
   "metadata": {},
   "source": [
    "In the first example with the greedy quantifier (`.*`), it matches from the first \"a\" to the last \"c.\" In the second example with the non-greedy quantifier (`.*?`), it matches from the first \"a\" to the next \"c,\" resulting in a shorter match."
   ]
  },
  {
   "cell_type": "markdown",
   "id": "7ac72e41",
   "metadata": {},
   "source": [
    "# Q2. When exactly does greedy versus non-greedy make a difference?  What if you're looking for a non-greedy match but the only one available is greedy?"
   ]
  },
  {
   "cell_type": "markdown",
   "id": "9afb1d87",
   "metadata": {},
   "source": [
    "**Ans:**"
   ]
  },
  {
   "cell_type": "markdown",
   "id": "f928a6e3",
   "metadata": {},
   "source": [
    "Greedy versus non-greedy quantifiers make a difference when you're dealing with text that contains multiple occurrences of the pattern you're trying to match.\n",
    "\n",
    "- **Greedy**: Greedy quantifiers try to match as much text as possible while still allowing the overall pattern to match. They are appropriate when you want to find the longest possible match within the text.\n",
    "\n",
    "\n",
    "- **Non-Greedy (or Lazy)**: Non-greedy quantifiers, denoted by adding a `?` to the quantifier, try to match as little text as possible while still allowing the overall pattern to match. They are useful when you want to find the shortest possible match within the text.\n",
    "\n",
    "\n",
    "*For example*, let's say we have the text `\"abracadabra\"` and we looking for a pattern between the first \"a\" and the last \"a\":\n",
    "\n",
    "- Greedy: `.*a` would match the entire string `\"abracadabra\"`.\n",
    "- Non-Greedy: `.*?a` would match only `\"abra\"`."
   ]
  },
  {
   "cell_type": "markdown",
   "id": "2576504f",
   "metadata": {},
   "source": [
    "# Q3. In a simple match of a string, which looks only for one match and does not do any replacement, is the use of a nontagged group likely to make any practical difference?"
   ]
  },
  {
   "cell_type": "markdown",
   "id": "e913941c",
   "metadata": {},
   "source": [
    "**Ans:**"
   ]
  },
  {
   "cell_type": "markdown",
   "id": "6a252075",
   "metadata": {},
   "source": [
    "In a simple match of a string where you're only looking for one match and not doing any replacement, the use of a non-capturing group (a group that starts with `?:`) versus a capturing group (a group without `?:`) generally won't make a practical difference. \n",
    "\n",
    "\n",
    "Capturing groups are typically used when we want to extract specific portions of the matched text or when using backreferences within the regular expression. Non-capturing groups are useful when we want to create a group for logical grouping and applying quantifiers or modifiers but don't need to extract that specific part of the match."
   ]
  },
  {
   "cell_type": "code",
   "execution_count": 3,
   "id": "31fe97d8",
   "metadata": {},
   "outputs": [
    {
     "name": "stdout",
     "output_type": "stream",
     "text": [
      "Capturing group matches: ['5', '42', '123']\n",
      "Non-capturing group matches: ['apple5', 'apple42', 'apple123']\n"
     ]
    }
   ],
   "source": [
    "# Example:\n",
    "\n",
    "import re\n",
    "\n",
    "text = \"I have an apple5, another apple42, and one more apple123.\"\n",
    "\n",
    "# Using a capturing group to extract the matched words\n",
    "matches = re.findall(r'apple(\\d+)', text)\n",
    "print(\"Capturing group matches:\", matches)\n",
    "\n",
    "# Using a non-capturing group\n",
    "matches_non_capturing = re.findall(r'apple(?:\\d+)', text)\n",
    "print(\"Non-capturing group matches:\", matches_non_capturing)"
   ]
  },
  {
   "cell_type": "markdown",
   "id": "11e14510",
   "metadata": {},
   "source": [
    "# Q4. Describe a scenario in which using a nontagged category would have a significant impact on the program's outcomes."
   ]
  },
  {
   "cell_type": "markdown",
   "id": "15186521",
   "metadata": {},
   "source": [
    "**Ans:**"
   ]
  },
  {
   "cell_type": "markdown",
   "id": "b239c916",
   "metadata": {},
   "source": [
    "consider a scenario where parsing a large log file containing records of various events, and we want to extract specific pieces of information from each log entry. \n",
    "\n",
    "Let's say each log entry follows a pattern like this:\n",
    "\n",
    "```\n",
    "[INFO] User 'Alice' logged in from IP: 192.168.1.100\n",
    "[ERROR] Connection failed for user 'Bob' with IP: 192.168.1.200\n",
    "```\n",
    "\n",
    "We want to extract the usernames and IP addresses, but we are not interested in the log levels (\"INFO\" or \"ERROR\"). In this case, using non-capturing groups can have a significant impact on the program's outcomes.\n",
    "\n",
    "Using a capturing group for the log level:"
   ]
  },
  {
   "cell_type": "code",
   "execution_count": 4,
   "id": "0a706a00",
   "metadata": {},
   "outputs": [
    {
     "name": "stdout",
     "output_type": "stream",
     "text": [
      "Log Level: INFO\n",
      "Username: Alice\n",
      "IP Address: 192.168.1.100\n"
     ]
    }
   ],
   "source": [
    "import re\n",
    "\n",
    "log = \"[INFO] User 'Alice' logged in from IP: 192.168.1.100\"\n",
    "match = re.match(r'\\[(\\w+)\\] User \\'(\\w+)\\' logged in from IP: (\\d+\\.\\d+\\.\\d+\\.\\d+)', log)\n",
    "\n",
    "log_level = match.group(1)\n",
    "username = match.group(2)\n",
    "ip_address = match.group(3)\n",
    "\n",
    "print(f\"Log Level: {log_level}\")\n",
    "print(f\"Username: {username}\")\n",
    "print(f\"IP Address: {ip_address}\")"
   ]
  },
  {
   "cell_type": "markdown",
   "id": "259e7380",
   "metadata": {},
   "source": [
    "The program's outcome includes the log level, which we're not interested in.\n",
    "\n",
    "Now, let's use non-capturing groups to exclude the log level:"
   ]
  },
  {
   "cell_type": "code",
   "execution_count": 5,
   "id": "c7f4f3ab",
   "metadata": {},
   "outputs": [
    {
     "name": "stdout",
     "output_type": "stream",
     "text": [
      "Username: Alice\n",
      "IP Address: 192.168.1.100\n"
     ]
    }
   ],
   "source": [
    "import re\n",
    "\n",
    "log = \"[INFO] User 'Alice' logged in from IP: 192.168.1.100\"\n",
    "match = re.match(r'\\[(?:\\w+)\\] User \\'(\\w+)\\' logged in from IP: (\\d+\\.\\d+\\.\\d+\\.\\d+)', log)\n",
    "\n",
    "username = match.group(1)\n",
    "ip_address = match.group(2)\n",
    "\n",
    "print(f\"Username: {username}\")\n",
    "print(f\"IP Address: {ip_address}\")"
   ]
  },
  {
   "cell_type": "markdown",
   "id": "c0f7558c",
   "metadata": {},
   "source": [
    "By using non-capturing groups `(?:\\w+)` for the log level, we exclude it from the program's outcome, resulting in cleaner and more focused results, especially when processing a large number of log entries."
   ]
  },
  {
   "cell_type": "markdown",
   "id": "18aad346",
   "metadata": {},
   "source": [
    "# Q5. Unlike a normal regex pattern, a look-ahead condition does not consume the characters it examines. Describe a situation in which this could make a difference in the results of your programme."
   ]
  },
  {
   "cell_type": "markdown",
   "id": "6ad873ca",
   "metadata": {},
   "source": [
    "**Ans:**"
   ]
  },
  {
   "cell_type": "markdown",
   "id": "4c954970",
   "metadata": {},
   "source": [
    "Consider a scenario where you're analyzing a text document and need to find all occurrences of a specific word, but you want to exclude instances where the word is followed by another specific word. For example, you want to find all occurrences of \"apple\" but not when it's followed by \"pie.\"\n",
    "\n",
    "Using a lookahead condition makes a significant difference in the results because it allows you to match \"apple\" without consuming the characters that follow. \n",
    "\n",
    "Here's an example:"
   ]
  },
  {
   "cell_type": "code",
   "execution_count": 17,
   "id": "651f5c97",
   "metadata": {},
   "outputs": [
    {
     "name": "stdout",
     "output_type": "stream",
     "text": [
      "['apple']\n"
     ]
    }
   ],
   "source": [
    "import re\n",
    "\n",
    "text = \"I love apple. My favorite dessert is apple pie.\"\n",
    "\n",
    "# Match \"apple\" but not when followed by \"pie\"\n",
    "pattern = r'apple(?! pie)'\n",
    "matches = re.findall(pattern, text)\n",
    "\n",
    "print(matches)\n"
   ]
  },
  {
   "cell_type": "markdown",
   "id": "1876b940",
   "metadata": {},
   "source": [
    "In this example, the lookahead condition (?! pie) ensures that \"apple\" is matched only when it's not followed by \"pie.\" "
   ]
  },
  {
   "cell_type": "markdown",
   "id": "9b4b464c",
   "metadata": {},
   "source": [
    "# Q6. In standard expressions, what is the difference between positive look-ahead and negative look-ahead?"
   ]
  },
  {
   "cell_type": "markdown",
   "id": "dc853711",
   "metadata": {},
   "source": [
    "**Ans:**"
   ]
  },
  {
   "cell_type": "markdown",
   "id": "3b5d59f2",
   "metadata": {},
   "source": [
    "Positive look-ahead checks for the presence of a pattern, while negative look-ahead checks for the absence of a pattern ahead of the current position in the text."
   ]
  },
  {
   "cell_type": "markdown",
   "id": "9bf011ff",
   "metadata": {},
   "source": [
    "# Q7. What is the benefit of referring to groups by name rather than by number in a standard expression?"
   ]
  },
  {
   "cell_type": "markdown",
   "id": "6a51c94f",
   "metadata": {},
   "source": [
    "**Ans:**"
   ]
  },
  {
   "cell_type": "markdown",
   "id": "0c87235b",
   "metadata": {},
   "source": [
    "Using named groups enhances the clarity, maintainability, and robustness of the regular expressions, making them easier to work with and understand."
   ]
  },
  {
   "cell_type": "markdown",
   "id": "8aac69af",
   "metadata": {},
   "source": [
    "# Q8. Can you identify repeated items within a target string using named groups, as in \"The cow jumped over the moon\"?"
   ]
  },
  {
   "cell_type": "markdown",
   "id": "f6211672",
   "metadata": {},
   "source": [
    "**Ans:**"
   ]
  },
  {
   "cell_type": "code",
   "execution_count": 21,
   "id": "6fb82e00",
   "metadata": {},
   "outputs": [
    {
     "name": "stdout",
     "output_type": "stream",
     "text": [
      "Repeated word: The\n"
     ]
    }
   ],
   "source": [
    "import re\n",
    "\n",
    "text = \"The cow jumped over the moon\"\n",
    "\n",
    "# Define a pattern with a named group to capture repeated words\n",
    "pattern = r'\\b(?P<word>\\w+)\\b.*\\b\\1\\b'\n",
    "\n",
    "# Search for repeated words in the text\n",
    "matches = re.finditer(pattern, text, re.IGNORECASE)\n",
    "\n",
    "# Extract and print the repeated words\n",
    "for match in matches:\n",
    "    repeated_word = match.group('word')\n",
    "    print(f\"Repeated word: {repeated_word}\")"
   ]
  },
  {
   "cell_type": "markdown",
   "id": "42b53a61",
   "metadata": {},
   "source": [
    "# Q9. When parsing a string, what is at least one thing that the Scanner interface does for you that the re.findall feature does not?"
   ]
  },
  {
   "cell_type": "markdown",
   "id": "db8bbbb9",
   "metadata": {},
   "source": [
    "**Ans:**"
   ]
  },
  {
   "cell_type": "markdown",
   "id": "258f4c9e",
   "metadata": {},
   "source": [
    "Scanner is commonly used in Java.\n",
    "The Scanner interface might offer a built-in way to tokenize a string, breaking it down into meaningful units or tokens. This can be useful for more complex parsing tasks where you need to process individual components of the input string, such as words, numbers, or symbols. While re.findall can find patterns, it doesn't inherently perform tokenization."
   ]
  },
  {
   "cell_type": "markdown",
   "id": "1c5f78b7",
   "metadata": {},
   "source": [
    "# Q10. Does a scanner object have to be named scanner?"
   ]
  },
  {
   "cell_type": "markdown",
   "id": "2df6b379",
   "metadata": {},
   "source": [
    "To create a Scanner object, you use the new keyword. To create a Scanner object that gets input from the keyboard, specify System.in in the parentheses."
   ]
  },
  {
   "cell_type": "code",
   "execution_count": null,
   "id": "f6ac94b8",
   "metadata": {},
   "outputs": [],
   "source": []
  }
 ],
 "metadata": {
  "kernelspec": {
   "display_name": "Python 3 (ipykernel)",
   "language": "python",
   "name": "python3"
  },
  "language_info": {
   "codemirror_mode": {
    "name": "ipython",
    "version": 3
   },
   "file_extension": ".py",
   "mimetype": "text/x-python",
   "name": "python",
   "nbconvert_exporter": "python",
   "pygments_lexer": "ipython3",
   "version": "3.9.7"
  }
 },
 "nbformat": 4,
 "nbformat_minor": 5
}
