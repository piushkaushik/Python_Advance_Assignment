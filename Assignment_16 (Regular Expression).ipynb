{
 "cells": [
  {
   "cell_type": "markdown",
   "id": "a277af30",
   "metadata": {},
   "source": [
    "# Q1. What is the benefit of regular expressions?"
   ]
  },
  {
   "cell_type": "markdown",
   "id": "94d2f113",
   "metadata": {},
   "source": [
    "**Ans:**"
   ]
  },
  {
   "cell_type": "markdown",
   "id": "3c8fd9a9",
   "metadata": {},
   "source": [
    "The benefits of regular expressions (regex or regexp) in programming and text processing include:\n",
    "\n",
    "1. **Pattern Matching:** Regular expressions provide a powerful way to search for and match patterns within strings. You can define complex patterns to find specific text or data in a string.\n",
    "\n",
    "2. **Flexibility:** They are highly flexible and allow you to create patterns that match a wide range of text variations, making them suitable for tasks like data validation, text extraction, and parsing.\n",
    "\n",
    "3. **Efficiency:** When used correctly, regular expressions can be very efficient for searching and extracting data. They are optimized for this purpose, making them faster than manually writing code for string manipulation.\n",
    "\n",
    "4. **Portability:** Regular expressions are supported in many programming languages, text editors, and tools, so the skills you develop with regex can be applied across different platforms.\n",
    "\n",
    "5. **Expressiveness:** Regular expressions are concise and expressive, allowing you to describe patterns succinctly. This can make your code more readable and maintainable.\n",
    "\n",
    "6. **Data Validation:** They are often used for data validation tasks, such as email and phone number validation, ensuring that user input meets specific criteria.\n",
    "\n",
    "7. **Text Extraction:** Regular expressions are commonly used for text extraction in tasks like web scraping or log file analysis. You can extract specific data fields from unstructured text.\n",
    "\n",
    "8. **Replace and Transform:** They can be used for replacing text or transforming text. For example, you can replace all occurrences of a word with another word, or you can reformat text to a different layout.\n",
    "\n",
    "9. **Complex Search and Filtering:** Regular expressions allow you to perform complex searching and filtering of text data, such as finding all URLs in a document or extracting all mentions of a specific keyword.\n",
    "\n",
    "10. **Language-Agnostic:** Regular expressions are not tied to a specific programming language, making them useful in various contexts.\n"
   ]
  },
  {
   "cell_type": "markdown",
   "id": "21bd28a6",
   "metadata": {},
   "source": [
    "# Q2. Describe the difference between the effects of \"(ab)c+\" and \"a(bc)+\" Which of these, if any, is the unqualified pattern \"abc+\" ?"
   ]
  },
  {
   "cell_type": "markdown",
   "id": "a461c736",
   "metadata": {},
   "source": [
    "**Ans:**"
   ]
  },
  {
   "cell_type": "markdown",
   "id": "638bcd93",
   "metadata": {},
   "source": [
    "- The regular expression \"(ab)c+\" will match a sequence that starts with \"ab\" followed by one or more occurrences of \"c\". In this pattern, \"ab\" is treated as a single unit, and it looks for repetitions of the entire \"ab\" group followed by \"c\".\n",
    "\n",
    "\n",
    "\n",
    "- On the other hand, \"a(bc)+\" will match a sequence that starts with \"a\" followed by one or more occurrences of \"bc\". In this pattern, \"bc\" is treated as a single unit, and it looks for repetitions of the entire \"bc\" group preceded by \"a\".\n",
    "\n",
    "\n",
    "\n",
    "- The unqualified pattern \"abc+\" simply looks for one or more occurrences of the letter \"c\" immediately following \"ab\", so it matches sequences like \"ab\", \"abc\", \"abcc\", and so on."
   ]
  },
  {
   "cell_type": "markdown",
   "id": "9fdadc27",
   "metadata": {},
   "source": [
    "# Q3. How much do you need to use the following sentence while using regular expressions?\n",
    "\n",
    "## `import re`\n"
   ]
  },
  {
   "cell_type": "markdown",
   "id": "b14d3c1f",
   "metadata": {},
   "source": [
    "**Ans:**"
   ]
  },
  {
   "cell_type": "markdown",
   "id": "0cd35ff3",
   "metadata": {},
   "source": [
    "To use regular expressions in Python, we need to import the `re` module. The import statement `import re` is required at the beginning of the Python script or in an interactive Python environment like Jupyter Notebook. It allows us to access the functions and classes provided by the `re` module for working with regular expressions."
   ]
  },
  {
   "cell_type": "markdown",
   "id": "136c5329",
   "metadata": {},
   "source": [
    "# Q4. Which characters have special significance in square brackets when expressing a range, and under what circumstances?"
   ]
  },
  {
   "cell_type": "markdown",
   "id": "00c5ca63",
   "metadata": {},
   "source": [
    "**Ans:**"
   ]
  },
  {
   "cell_type": "markdown",
   "id": "b62b24a4",
   "metadata": {},
   "source": [
    "In square brackets within a regular expression pattern, some characters have special significance when expressing a range:\n",
    "\n",
    "1. Hyphen (-): When placed between two characters in square brackets, it indicates a character range. For example, `[a-z]` represents all lowercase letters from 'a' to 'z'. Similarly, `[0-9]` represents all digits from 0 to 9.\n",
    "\n",
    "2. Caret (^): When used as the first character within square brackets, it negates the range. For example, `[^0-9]` represents any character that is not a digit.\n",
    "\n",
    "3. Backslash (\\): If you need to match a literal hyphen or caret within square brackets, you can escape them using a backslash. For example, `[\\-]` matches a hyphen, and `[\\\\^]` matches a caret.\n",
    "\n",
    "These characters are used to define character classes and ranges within square brackets when creating regular expressions to match specific patterns in text."
   ]
  },
  {
   "cell_type": "markdown",
   "id": "96dbbdd5",
   "metadata": {},
   "source": [
    "# Q5. How does compiling a regular-expression object benefit you?"
   ]
  },
  {
   "cell_type": "markdown",
   "id": "2fc26cd7",
   "metadata": {},
   "source": [
    "**Ans:**"
   ]
  },
  {
   "cell_type": "markdown",
   "id": "9b46934f",
   "metadata": {},
   "source": [
    "Compiling a regular expression into a regular-expression object in Python offers several benefits:\n",
    "\n",
    "1. **Improved Performance:** Compiled regular expressions are faster for matching operations.\n",
    "\n",
    "2. **Enhanced Code Readability:** Increases code clarity and maintainability.\n",
    "\n",
    "3. **Code Reusability:** Allows reuse of compiled patterns throughout your code.\n",
    "\n",
    "4. **Better Error Handling:** Detects syntax errors in the pattern at compile-time for easier debugging."
   ]
  },
  {
   "cell_type": "markdown",
   "id": "c8fae0c9",
   "metadata": {},
   "source": [
    "# Q6. What are some examples of how to use the match object returned by re.match and re.search?"
   ]
  },
  {
   "cell_type": "markdown",
   "id": "2b49f742",
   "metadata": {},
   "source": [
    "**Ans:**"
   ]
  },
  {
   "cell_type": "markdown",
   "id": "9399044e",
   "metadata": {},
   "source": [
    "Here are some examples of how to use the match object returned by `re.match` and `re.search`:\n",
    "\n",
    "1. **Accessing Matched Text:** We can use `.group()` or `.group(0)` to get the entire matched text. \n",
    "\n",
    "For example:\n"
   ]
  },
  {
   "cell_type": "code",
   "execution_count": 4,
   "id": "b5d56e5c",
   "metadata": {},
   "outputs": [
    {
     "name": "stdout",
     "output_type": "stream",
     "text": [
      "Hello\n"
     ]
    }
   ],
   "source": [
    "import re\n",
    "\n",
    "text = \"Hello, World!\"\n",
    "match = re.search(r\"Hello\", text)\n",
    "if match:\n",
    "    print(match.group())  "
   ]
  },
  {
   "cell_type": "markdown",
   "id": "3a6be7cc",
   "metadata": {},
   "source": [
    " 2. **Accessing Specific Groups:** We can use `.group(n)` to access specific capture groups. \n",
    " \n",
    " For example:\n"
   ]
  },
  {
   "cell_type": "code",
   "execution_count": 13,
   "id": "8b06a795",
   "metadata": {},
   "outputs": [
    {
     "name": "stdout",
     "output_type": "stream",
     "text": [
      "123\n",
      "456\n",
      "7890\n"
     ]
    }
   ],
   "source": [
    "import re\n",
    "\n",
    "text = \"(123) 456-7890 is my phone number\"\n",
    "match = re.match(r\"\\((\\d{3})\\) (\\d{3})-(\\d{4})\", text)\n",
    "if match:\n",
    "    print(match.group(1))  \n",
    "    print(match.group(2))\n",
    "    print(match.group(3))\n"
   ]
  },
  {
   "cell_type": "markdown",
   "id": "77b08bdc",
   "metadata": {},
   "source": [
    "3. **Starting and Ending Positions:** We can use `.start()` and `.end()` to get the starting and ending positions of the match:"
   ]
  },
  {
   "cell_type": "code",
   "execution_count": 14,
   "id": "bf7a703a",
   "metadata": {},
   "outputs": [
    {
     "name": "stdout",
     "output_type": "stream",
     "text": [
      "0\n",
      "6\n"
     ]
    }
   ],
   "source": [
    "import re\n",
    "\n",
    "text = \"Python is great!\"\n",
    "match = re.search(r\"Python\", text)\n",
    "if match:\n",
    "    print(match.start())  # start position\n",
    "    print(match.end())    # end position\n"
   ]
  },
  {
   "cell_type": "markdown",
   "id": "2429b2e6",
   "metadata": {},
   "source": [
    "# Q7. What is the difference between using a vertical bar (|) as an alteration and using square brackets as a character set?"
   ]
  },
  {
   "cell_type": "markdown",
   "id": "571abf45",
   "metadata": {},
   "source": [
    "**Ans:**"
   ]
  },
  {
   "cell_type": "markdown",
   "id": "20248d7b",
   "metadata": {},
   "source": [
    "The vertical bar (`|`) and square brackets (`[]`) have different purposes in regular expressions:\n",
    "\n",
    "1. Vertical Bar (`|`):\n",
    "   - The vertical bar is used for alternation in regular expressions.\n",
    "   - It allows you to specify multiple alternative patterns, and the regular expression engine will match any of these alternatives.\n",
    "   - For example, `cat|dog` will match either \"cat\" or \"dog\" in the input string.\n",
    "\n",
    "2. Square Brackets (`[]`):\n",
    "   - Square brackets are used to define a character set or a character class.\n",
    "   - Inside square brackets, you list the characters you want to match, and the regular expression engine will match any one of those characters.\n",
    "   - For example, `[aeiou]` will match any vowel (a, e, i, o, or u) in the input string.\n",
    "\n",
    "The vertical bar is used for alternation between entire patterns, while square brackets are used to match any single character from a set of characters."
   ]
  },
  {
   "cell_type": "markdown",
   "id": "3b2876c9",
   "metadata": {},
   "source": [
    "# Q8. In regular-expression search patterns, why is it necessary to use the raw-string indicator (r)? In replacement strings?"
   ]
  },
  {
   "cell_type": "markdown",
   "id": "ec376a0b",
   "metadata": {},
   "source": [
    "**Ans:**"
   ]
  },
  {
   "cell_type": "markdown",
   "id": "b5312d91",
   "metadata": {},
   "source": [
    "1. **Search Patterns (Raw Strings in Search Patterns):**\n",
    "   - In search patterns, the raw-string indicator (`r`) is used to create a raw string literal. Raw string literals treat backslashes (`\\`) as literal characters, so they don't escape special characters.\n",
    "   - This is particularly important when working with regular expressions because regular expressions often contain backslashes that have special meanings. Using a raw string makes it easier to write and read regular expressions without having to escape backslashes multiple times."
   ]
  },
  {
   "cell_type": "code",
   "execution_count": 15,
   "id": "a5fabb93",
   "metadata": {},
   "outputs": [],
   "source": [
    "import re\n",
    "\n",
    "# Without raw string, we need to escape backslashes multiple times\n",
    "pattern = \"\\\\d{3}-\\\\d{2}-\\\\d{4}\"\n",
    "\n",
    "# With raw string, we escape backslashes only once\n",
    "pattern = r\"\\d{3}-\\d{2}-\\d{4}\""
   ]
  },
  {
   "cell_type": "markdown",
   "id": "9a4fe8bf",
   "metadata": {},
   "source": [
    "2. **Replacement Strings (Raw Strings in Replacement Strings):**\n",
    "   - In replacement strings, the raw-string indicator (`r`) is not necessary because replacement strings usually don't contain special characters that need escaping.\n",
    "   - However, using a raw string in replacement strings won't cause any issues, and it can make the code consistent.\n"
   ]
  },
  {
   "cell_type": "code",
   "execution_count": 16,
   "id": "54c0a35d",
   "metadata": {},
   "outputs": [],
   "source": [
    "import re\n",
    "\n",
    "text = \"Hello, world!\"\n",
    "pattern = r\"world\"\n",
    "replacement = r\"Python\"\n",
    "\n",
    "result = re.sub(pattern, replacement, text)"
   ]
  },
  {
   "cell_type": "code",
   "execution_count": null,
   "id": "61e7372c",
   "metadata": {},
   "outputs": [],
   "source": []
  }
 ],
 "metadata": {
  "kernelspec": {
   "display_name": "Python 3 (ipykernel)",
   "language": "python",
   "name": "python3"
  },
  "language_info": {
   "codemirror_mode": {
    "name": "ipython",
    "version": 3
   },
   "file_extension": ".py",
   "mimetype": "text/x-python",
   "name": "python",
   "nbconvert_exporter": "python",
   "pygments_lexer": "ipython3",
   "version": "3.9.7"
  }
 },
 "nbformat": 4,
 "nbformat_minor": 5
}
