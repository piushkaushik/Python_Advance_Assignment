{
 "cells": [
  {
   "cell_type": "markdown",
   "id": "d969acab",
   "metadata": {},
   "source": [
    "# Q1. What is the difference between `__getattr__` and `__getattribute__`?"
   ]
  },
  {
   "cell_type": "markdown",
   "id": "7013b80d",
   "metadata": {},
   "source": [
    "**Ans:**"
   ]
  },
  {
   "cell_type": "markdown",
   "id": "b18c4e51",
   "metadata": {},
   "source": [
    " `__getattr__` is used for handling attributes not found in the usual way, while `__getattribute__` is used for intercepting and controlling all attribute access. Be cautious when using `__getattribute__`, as it can lead to unexpected behavior if not implemented carefully."
   ]
  },
  {
   "cell_type": "code",
   "execution_count": 1,
   "id": "76a1ccaf",
   "metadata": {},
   "outputs": [
    {
     "name": "stdout",
     "output_type": "stream",
     "text": [
      "Attribute undefined_attribute not found.\n"
     ]
    }
   ],
   "source": [
    "# Example for __getattr__\n",
    "\n",
    "class Example:\n",
    "    def __getattr__(self, name):\n",
    "        return f'Attribute {name} not found.'\n",
    "\n",
    "obj = Example()\n",
    "print(obj.undefined_attribute)  # Calls __getattr__"
   ]
  },
  {
   "cell_type": "code",
   "execution_count": 5,
   "id": "2f8a8ce0",
   "metadata": {},
   "outputs": [
    {
     "name": "stdout",
     "output_type": "stream",
     "text": [
      "84\n",
      "None\n",
      "None\n"
     ]
    }
   ],
   "source": [
    "# Example for __getattribute__\n",
    "\n",
    "class DoubleAttributes:\n",
    "    def __init__(self):\n",
    "        self.value = 42  # Initialize a sample attribute\n",
    "\n",
    "    def __getattribute__(self, name):\n",
    "        try:\n",
    "            # Get the real attribute value\n",
    "            real_value = super().__getattribute__(name)\n",
    "            \n",
    "            # Double the value (for demonstration purposes)\n",
    "            if isinstance(real_value, int):\n",
    "                return real_value * 2\n",
    "            \n",
    "            # Return the real attribute value\n",
    "            return real_value\n",
    "        except AttributeError:\n",
    "            # Handle the case of a non-existent attribute\n",
    "            return None\n",
    "\n",
    "# Create an instance of the DoubleAttributes class\n",
    "obj = DoubleAttributes()\n",
    "\n",
    "# Access the 'value' attribute\n",
    "result = obj.value  # This will return 84 (doubled value)\n",
    "print(result)\n",
    "\n",
    "# Access a non-existent attribute\n",
    "non_existent = obj.non_existent  # This will return 'None'\n",
    "print(non_existent)\n",
    "\n",
    "# Access a string attribute\n",
    "message = obj.message  # This will return the original string attribute\n",
    "print(message)\n"
   ]
  },
  {
   "cell_type": "markdown",
   "id": "db4fa96c",
   "metadata": {},
   "source": [
    "In the above example, `DoubleAttributes` doubles the value of any integer attribute accessed. If you access an attribute that doesn't exist or an attribute of a different type (e.g., a string attribute), it behaves as usual without doubling. This demonstrates how `__getattribute__` can be used to customize attribute access behavior."
   ]
  },
  {
   "cell_type": "markdown",
   "id": "04c5c96e",
   "metadata": {},
   "source": [
    "# Q2. What is the difference between properties and descriptors?"
   ]
  },
  {
   "cell_type": "markdown",
   "id": "0a0a03f0",
   "metadata": {},
   "source": [
    "**Ans:**"
   ]
  },
  {
   "cell_type": "markdown",
   "id": "a3f4109d",
   "metadata": {},
   "source": [
    "Properties and descriptors are both ways to define custom behavior for attribute access in Python, but they differ in their implementation and use cases.\n",
    "\n",
    "**Properties:**\n",
    "1. Properties are a simpler and more common way to customize attribute access.\n",
    "2. They are defined within the class and are used as methods with the `@property` decorator for getters, and `@<attribute>.setter` for setters.\n",
    "3. Properties are suitable for adding custom behavior to individual attributes."
   ]
  },
  {
   "cell_type": "code",
   "execution_count": 6,
   "id": "01121eae",
   "metadata": {},
   "outputs": [
    {
     "name": "stdout",
     "output_type": "stream",
     "text": [
      "5\n"
     ]
    }
   ],
   "source": [
    "class Circle:\n",
    "    def __init__(self, radius):\n",
    "        self._radius = radius  # Note the use of a private variable\n",
    "\n",
    "    @property\n",
    "    def radius(self):\n",
    "        return self._radius\n",
    "\n",
    "    @radius.setter\n",
    "    def radius(self, value):\n",
    "        if value < 0:\n",
    "            raise ValueError(\"Radius cannot be negative\")\n",
    "        self._radius = value\n",
    "\n",
    "c = Circle(5)\n",
    "print(c.radius)  # Accessing the property\n",
    "c.radius = 7      # Setting the property"
   ]
  },
  {
   "cell_type": "markdown",
   "id": "cb8fa8bb",
   "metadata": {},
   "source": [
    "**Descriptors:**\n",
    "1. Descriptors provide more fine-grained control over attribute access and can be reused across multiple classes.\n",
    "2. They are defined as separate classes that implement the `__get__`, `__set__`, and `__delete__` methods.\n",
    "3. Descriptors are typically used for more complex attribute behaviors or when you want to apply the same behavior to multiple attributes or classes."
   ]
  },
  {
   "cell_type": "code",
   "execution_count": 17,
   "id": "a46819cf",
   "metadata": {},
   "outputs": [
    {
     "name": "stdout",
     "output_type": "stream",
     "text": [
      "5\n"
     ]
    }
   ],
   "source": [
    "class NonNegative:\n",
    "    def __get__(self, instance, owner):\n",
    "        return instance._value\n",
    "\n",
    "    def __set__(self, instance, value):\n",
    "        if value < 0:\n",
    "            raise ValueError(\"Value cannot be negative\")\n",
    "        instance._value = value\n",
    "\n",
    "class Circle:\n",
    "    def __init__(self, radius):\n",
    "        self._value = radius  # Corrected attribute name to _value\n",
    "\n",
    "    radius = NonNegative()  # Using the descriptor\n",
    "\n",
    "c = Circle(5)\n",
    "print(c.radius)  # Accessing the descriptor\n",
    "c.radius = 7    # Setting the descriptor\n"
   ]
  },
  {
   "cell_type": "markdown",
   "id": "dc87ed7e",
   "metadata": {},
   "source": [
    "**Properties are simpler and often sufficient for basic attribute behavior customization, while descriptors offer more control and reusability for complex cases.** "
   ]
  },
  {
   "cell_type": "markdown",
   "id": "3a871acc",
   "metadata": {},
   "source": [
    "# Q3. What are the key differences in functionality between __getattr__ and __getattribute__, as well as properties and descriptors?"
   ]
  },
  {
   "cell_type": "markdown",
   "id": "d995a649",
   "metadata": {},
   "source": [
    "**Ans:**"
   ]
  },
  {
   "cell_type": "markdown",
   "id": "0df49514",
   "metadata": {},
   "source": [
    " `getattribute` and descriptors provide more control and customization over attribute access compared to `getattr` and properties. While properties are simpler and easier to use for basic cases, descriptors are suitable for advanced scenarios requiring fine-grained attribute access control."
   ]
  },
  {
   "cell_type": "code",
   "execution_count": null,
   "id": "966627bf",
   "metadata": {},
   "outputs": [],
   "source": []
  }
 ],
 "metadata": {
  "kernelspec": {
   "display_name": "Python 3 (ipykernel)",
   "language": "python",
   "name": "python3"
  },
  "language_info": {
   "codemirror_mode": {
    "name": "ipython",
    "version": 3
   },
   "file_extension": ".py",
   "mimetype": "text/x-python",
   "name": "python",
   "nbconvert_exporter": "python",
   "pygments_lexer": "ipython3",
   "version": "3.9.7"
  }
 },
 "nbformat": 4,
 "nbformat_minor": 5
}
