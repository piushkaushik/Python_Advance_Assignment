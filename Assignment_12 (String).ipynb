{
 "cells": [
  {
   "cell_type": "markdown",
   "id": "4cbde1be",
   "metadata": {},
   "source": [
    "# Q1. Does assigning a value to a string's indexed character violate Python's string immutability?"
   ]
  },
  {
   "cell_type": "markdown",
   "id": "d68dfbd5",
   "metadata": {},
   "source": [
    "**Ans:**"
   ]
  },
  {
   "cell_type": "markdown",
   "id": "f2b19f50",
   "metadata": {},
   "source": [
    "No.\n",
    "In Python, strings are immutable, which means their individual characters cannot be changed after the string is created. However, assigning a value to a string's indexed character doesn't violate string immutability because it doesn't modify the original string. Instead, it creates a new string with the desired change.\n",
    "\n",
    "For example:\n"
   ]
  },
  {
   "cell_type": "code",
   "execution_count": 10,
   "id": "a77d73ca",
   "metadata": {},
   "outputs": [
    {
     "name": "stdout",
     "output_type": "stream",
     "text": [
      "Hello, Python!\n",
      "Hello, World!\n"
     ]
    }
   ],
   "source": [
    "text = \"Hello, World!\"\n",
    "new_text = text[:7] + \"Python\" + text[12:]\n",
    "print(new_text)\n",
    "print(text)"
   ]
  },
  {
   "cell_type": "markdown",
   "id": "0711dbba",
   "metadata": {},
   "source": [
    "In the above example, we are not modifying the original text string. Instead, we create a new string new_text by slicing and concatenating parts of the original string with the desired change. The original string remains unchanged."
   ]
  },
  {
   "cell_type": "markdown",
   "id": "d5fa33bc",
   "metadata": {},
   "source": [
    "# Q2. Does using the `+=` operator to concatenate strings violate Python's string immutability? Why or why not?"
   ]
  },
  {
   "cell_type": "markdown",
   "id": "1df31f5b",
   "metadata": {},
   "source": [
    "**Ans:**"
   ]
  },
  {
   "cell_type": "markdown",
   "id": "a32b3647",
   "metadata": {},
   "source": [
    "Using the `+=` operator to concatenate strings in Python does not violate Python's string immutability. \n",
    "\n",
    "When we use `+=` to concatenate strings, it creates a new string that is the result of concatenating the original strings. The original strings themselves are not modified. This behavior is consistent with the immutability of strings in Python."
   ]
  },
  {
   "cell_type": "code",
   "execution_count": 16,
   "id": "e51776cc",
   "metadata": {},
   "outputs": [
    {
     "name": "stdout",
     "output_type": "stream",
     "text": [
      "Hello, world!\n"
     ]
    }
   ],
   "source": [
    "string1 = \"Hello, \"\n",
    "string2 = \"world!\"\n",
    "\n",
    "string1 += string2\n",
    "\n",
    "print(string1) \n"
   ]
  },
  {
   "cell_type": "markdown",
   "id": "4924a202",
   "metadata": {},
   "source": [
    "In this example, `string1` and `string2` remain unchanged after concatenation, and a new string is created to hold the concatenated value. This behavior ensures that the original strings cannot be modified, preserving the immutability of strings in Python."
   ]
  },
  {
   "cell_type": "markdown",
   "id": "43271c73",
   "metadata": {},
   "source": [
    "# Q3. In Python, how many different ways are there to index a character?"
   ]
  },
  {
   "cell_type": "markdown",
   "id": "8d400552",
   "metadata": {},
   "source": [
    "**Ans:**"
   ]
  },
  {
   "cell_type": "markdown",
   "id": "96f06ebf",
   "metadata": {},
   "source": [
    "In Python, there are three main ways to index a character in a string:\n",
    "\n",
    "1. Using Positive Indexing:\n",
    "   - Positive indexing starts from 0 for the first character in the string.\n",
    "   - You can access characters by specifying their position using positive integers.\n",
    "   - For example, `string[0]` would access the first character of the string.\n",
    "\n",
    "2. Using Negative Indexing:\n",
    "   - Negative indexing starts from -1 for the last character in the string.\n",
    "   - You can access characters by specifying their position using negative integers.\n",
    "   - For example, `string[-1]` would access the last character of the string.\n",
    "\n",
    "3. Using Slicing:\n",
    "   - Slicing allows you to extract a range of characters from a string.\n",
    "   - You specify the start and end positions, and Python returns a substring.\n",
    "   - For example, `string[2:5]` would return a substring consisting of characters at positions 2, 3, and 4.\n"
   ]
  },
  {
   "cell_type": "code",
   "execution_count": 20,
   "id": "b63ea7a6",
   "metadata": {},
   "outputs": [
    {
     "name": "stdout",
     "output_type": "stream",
     "text": [
      "H\n",
      "d\n",
      "Python\n"
     ]
    }
   ],
   "source": [
    "string = \"Hello, Python World\"\n",
    "\n",
    "print(string[0])    # Positive indexing: Accesses the first character 'H'\n",
    "print(string[-1])   # Negative indexing: Accesses the last character 'd'\n",
    "print(string[7:13])  # Slicing: Returns 'Python', characters at positions 7 to 12."
   ]
  },
  {
   "cell_type": "markdown",
   "id": "62b65ccd",
   "metadata": {},
   "source": [
    "# Q4. What is the relationship between indexing and slicing?"
   ]
  },
  {
   "cell_type": "markdown",
   "id": "02ba4a81",
   "metadata": {},
   "source": [
    "**Ans:**"
   ]
  },
  {
   "cell_type": "markdown",
   "id": "b3820e9c",
   "metadata": {},
   "source": [
    "Indexing is the foundation for accessing elements in a sequence, and slicing is a more powerful tool that allows you to work with subsequences by specifying a range of indices. Slicing can be used to extract multiple elements or characters from a sequence at once."
   ]
  },
  {
   "cell_type": "code",
   "execution_count": 21,
   "id": "6c092857",
   "metadata": {},
   "outputs": [
    {
     "name": "stdout",
     "output_type": "stream",
     "text": [
      "t\n",
      "yth\n"
     ]
    }
   ],
   "source": [
    "string = \"Python\"\n",
    "\n",
    "# Indexing: Access individual characters\n",
    "print(string[2])    # Retrieves 't'\n",
    "\n",
    "# Slicing: Extract a substring\n",
    "print(string[1:4])  # Retrieves 'yth', characters at indices 1, 2, and 3"
   ]
  },
  {
   "cell_type": "markdown",
   "id": "cb7bd041",
   "metadata": {},
   "source": [
    "# Q5. What is an indexed character's exact data type? What is the data form of a slicing-generated substring?"
   ]
  },
  {
   "cell_type": "markdown",
   "id": "3ecb17b2",
   "metadata": {},
   "source": [
    "**Ans:**"
   ]
  },
  {
   "cell_type": "markdown",
   "id": "e5111997",
   "metadata": {},
   "source": [
    "When we access an indexed character, we get a string of length 1 with the character's value, and when we slice a sequence, we get a new sequence of the same type containing the sliced elements."
   ]
  },
  {
   "cell_type": "code",
   "execution_count": 26,
   "id": "6d403e02",
   "metadata": {},
   "outputs": [
    {
     "name": "stdout",
     "output_type": "stream",
     "text": [
      "t\n",
      "<class 'str'>\n",
      "yth\n",
      "<class 'str'>\n"
     ]
    }
   ],
   "source": [
    "# Indexed Character\n",
    "string = \"Python\"\n",
    "char_at_index_2 = string[2]\n",
    "print(char_at_index_2) \n",
    "print(type(char_at_index_2))  \n",
    "\n",
    "# Slicing-Generated Substring\n",
    "substring = string[1:4]  \n",
    "print(substring)  \n",
    "print(type(substring)) "
   ]
  },
  {
   "cell_type": "markdown",
   "id": "6cb17c9f",
   "metadata": {},
   "source": [
    "# Q6. What is the relationship between string and character \"types\" in Python?"
   ]
  },
  {
   "cell_type": "markdown",
   "id": "a84d3468",
   "metadata": {},
   "source": [
    "**Ans:**"
   ]
  },
  {
   "cell_type": "markdown",
   "id": "de4415b8",
   "metadata": {},
   "source": [
    "- In Python, there is no distinct \"character\" type like there is in some other programming languages. Instead, characters are typically represented as single-character strings."
   ]
  },
  {
   "cell_type": "code",
   "execution_count": 27,
   "id": "9d77cb1d",
   "metadata": {},
   "outputs": [
    {
     "name": "stdout",
     "output_type": "stream",
     "text": [
      "P\n",
      "y\n",
      "t\n",
      "h\n",
      "o\n",
      "n\n"
     ]
    }
   ],
   "source": [
    "# Individual characters are represented as single-character strings\n",
    "char_a = 'A'\n",
    "char_b = 'B'\n",
    "\n",
    "# Strings are sequences of characters\n",
    "string = 'Python'\n",
    "# You can access individual characters using indexing\n",
    "first_char = string[0]  # This is also a string containing 'P'\n",
    "second_char = string[1]  # This is a string containing 'y'\n",
    "\n",
    "# We can iterate over characters in a string\n",
    "for char in string:\n",
    "    print(char)"
   ]
  },
  {
   "cell_type": "markdown",
   "id": "05a9097a",
   "metadata": {},
   "source": [
    "So, in Python, characters and strings are intimately related, and characters are essentially represented as single-character strings. This makes it convenient to work with both individual characters and sequences of characters using the same data type: strings."
   ]
  },
  {
   "cell_type": "markdown",
   "id": "977bc46e",
   "metadata": {},
   "source": [
    "# Q7. Identify at least two operators and one method that allow you to combine one or more smaller strings to create a larger string."
   ]
  },
  {
   "cell_type": "markdown",
   "id": "aa57c906",
   "metadata": {},
   "source": [
    "**Ans:**"
   ]
  },
  {
   "cell_type": "markdown",
   "id": "855a71bf",
   "metadata": {},
   "source": [
    "1. **String Concatenation Operator (+):** \n",
    "\n",
    "You can use the `+` operator to concatenate (combine) two or more strings into a larger string."
   ]
  },
  {
   "cell_type": "code",
   "execution_count": 29,
   "id": "a347a283",
   "metadata": {},
   "outputs": [
    {
     "data": {
      "text/plain": [
       "'Piyush Sharma'"
      ]
     },
     "execution_count": 29,
     "metadata": {},
     "output_type": "execute_result"
    }
   ],
   "source": [
    "first_name = \"Piyush\"\n",
    "last_name = \"Sharma\"\n",
    "full_name = first_name + \" \" + last_name\n",
    "full_name"
   ]
  },
  {
   "cell_type": "markdown",
   "id": "b080de3d",
   "metadata": {},
   "source": [
    "2. **String Concatenation Assignment Operator (+=):** \n",
    "\n",
    "You can also use the `+=` operator to append one string to another, effectively concatenating them."
   ]
  },
  {
   "cell_type": "code",
   "execution_count": 30,
   "id": "e8879c2f",
   "metadata": {},
   "outputs": [
    {
     "data": {
      "text/plain": [
       "'Hello, Piyush'"
      ]
     },
     "execution_count": 30,
     "metadata": {},
     "output_type": "execute_result"
    }
   ],
   "source": [
    "greeting = \"Hello, \"\n",
    "name = \"Piyush\"\n",
    "greeting += name \n",
    "greeting"
   ]
  },
  {
   "cell_type": "markdown",
   "id": "8b26e49b",
   "metadata": {},
   "source": [
    " **String Formatting Method (str.format()):** \n",
    " \n",
    " You can use the `str.format()` method to create a formatted string by combining smaller strings and variables."
   ]
  },
  {
   "cell_type": "code",
   "execution_count": 32,
   "id": "bf3a27e2",
   "metadata": {},
   "outputs": [
    {
     "name": "stdout",
     "output_type": "stream",
     "text": [
      "My name is Alice and I am 25 years old.\n"
     ]
    }
   ],
   "source": [
    "name = \"Alice\"\n",
    "age = 25\n",
    "info = \"My name is {} and I am {} years old.\".format(name, age)\n",
    "print(info)"
   ]
  },
  {
   "cell_type": "markdown",
   "id": "247f549c",
   "metadata": {},
   "source": [
    "# Q8. What is the benefit of first checking the target string with in or not in before using the index method to find a substring?"
   ]
  },
  {
   "cell_type": "markdown",
   "id": "539e8d24",
   "metadata": {},
   "source": [
    "**Ans:**"
   ]
  },
  {
   "cell_type": "markdown",
   "id": "76303e2f",
   "metadata": {},
   "source": [
    "Checking the target string with `in` or `not in` before using the `index` method to find a substring has a few benefits:\n",
    "\n",
    "1. **Avoiding Errors:** Using `in` or `not in` allows you to first check if the substring exists in the target string. If it doesn't, you can avoid errors that might occur when trying to find the index of a non-existent substring using the `index` method. This is particularly important when you're not sure whether the substring is present in the string.\n",
    "\n",
    "   ```python\n",
    "   if \"substring\" in target_string:\n",
    "       index = target_string.index(\"substring\")\n",
    "   else:\n",
    "       # Handle the case when the substring is not present\n",
    "   ```\n",
    "\n",
    "2. **Efficiency:** `in` or `not in` checks are generally faster than searching for the index of a substring, especially if the target string is long. If you only need to determine if a substring exists, you can avoid the potentially costly operation of finding the index.\n",
    "\n",
    "3. **Clarity:** Using `in` or `not in` makes the code more readable and self-explanatory. It explicitly conveys the intention of checking for the existence of a substring, which can improve code maintainability.\n",
    "\n",
    "Here's an example that demonstrates the use of `in` to check for a substring before using the `index` method:"
   ]
  },
  {
   "cell_type": "code",
   "execution_count": 33,
   "id": "cb6ddacc",
   "metadata": {},
   "outputs": [
    {
     "name": "stdout",
     "output_type": "stream",
     "text": [
      "The substring 'world' is found at index 7.\n"
     ]
    }
   ],
   "source": [
    "target_string = \"Hello, world!\"\n",
    "substring_to_find = \"world\"\n",
    "\n",
    "if substring_to_find in target_string:\n",
    "    index = target_string.index(substring_to_find)\n",
    "    print(f\"The substring '{substring_to_find}' is found at index {index}.\")\n",
    "else:\n",
    "    print(f\"The substring '{substring_to_find}' is not present in the target string.\")"
   ]
  },
  {
   "cell_type": "markdown",
   "id": "b5b00251",
   "metadata": {},
   "source": [
    "Here's an example using `not in` to check if a substring is not present in a target string before using the `index` method:"
   ]
  },
  {
   "cell_type": "code",
   "execution_count": 34,
   "id": "0a6a04bd",
   "metadata": {},
   "outputs": [
    {
     "name": "stdout",
     "output_type": "stream",
     "text": [
      "The substring 'Python' is not present in the target string.\n"
     ]
    }
   ],
   "source": [
    "target_string = \"Hello, world!\"\n",
    "substring_to_find = \"Python\"\n",
    "\n",
    "if substring_to_find not in target_string:\n",
    "    print(f\"The substring '{substring_to_find}' is not present in the target string.\")\n",
    "else:\n",
    "    index = target_string.index(substring_to_find)\n",
    "    print(f\"The substring '{substring_to_find}' is found at index {index}.\")"
   ]
  },
  {
   "cell_type": "markdown",
   "id": "b7fceee8",
   "metadata": {},
   "source": [
    "# Q9. Which operators and built-in string methods produce simple Boolean (true/false) results?"
   ]
  },
  {
   "cell_type": "markdown",
   "id": "3c04ab60",
   "metadata": {},
   "source": [
    "**Ans:**"
   ]
  },
  {
   "cell_type": "markdown",
   "id": "978e71da",
   "metadata": {},
   "source": [
    "Operators:\n",
    "- `in`: Checks if a substring exists within a string and returns `True` if it does, `False` otherwise.\n",
    "- `not in`: Checks if a substring does not exist within a string and returns `True` if it doesn't, `False` otherwise.\n",
    "\n",
    "String Methods:\n",
    "- `startswith()`: Returns `True` if a string starts with a specified prefix, `False` otherwise.\n",
    "- `endswith()`: Returns `True` if a string ends with a specified suffix, `False` otherwise.\n",
    "- `isalpha()`: Returns `True` if all characters in a string are alphabetic, `False` otherwise.\n",
    "- `isdigit()`: Returns `True` if all characters in a string are digits, `False` otherwise.\n",
    "- `isalnum()`: Returns `True` if all characters in a string are alphanumeric (letters or digits), `False` otherwise.\n",
    "- `islower()`: Returns `True` if all characters in a string are lowercase letters, `False` otherwise.\n",
    "- `isupper()`: Returns `True` if all characters in a string are uppercase letters, `False` otherwise.\n",
    "- `isspace()`: Returns `True` if all characters in a string are whitespace characters (spaces, tabs, newlines), `False` otherwise."
   ]
  },
  {
   "cell_type": "code",
   "execution_count": null,
   "id": "ac59b66a",
   "metadata": {},
   "outputs": [],
   "source": []
  }
 ],
 "metadata": {
  "kernelspec": {
   "display_name": "Python 3 (ipykernel)",
   "language": "python",
   "name": "python3"
  },
  "language_info": {
   "codemirror_mode": {
    "name": "ipython",
    "version": 3
   },
   "file_extension": ".py",
   "mimetype": "text/x-python",
   "name": "python",
   "nbconvert_exporter": "python",
   "pygments_lexer": "ipython3",
   "version": "3.9.7"
  }
 },
 "nbformat": 4,
 "nbformat_minor": 5
}
