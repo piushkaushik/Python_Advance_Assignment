{
 "cells": [
  {
   "cell_type": "markdown",
   "id": "dbeda7c8",
   "metadata": {},
   "source": [
    "# Q1. What is the concept of a metaclass?"
   ]
  },
  {
   "cell_type": "markdown",
   "id": "ea91d347",
   "metadata": {},
   "source": [
    "**Ans:**"
   ]
  },
  {
   "cell_type": "markdown",
   "id": "dd9786c8",
   "metadata": {},
   "source": [
    "A metaclass in Python is a class that defines the behavior and structure of other classes, which are also known as its instances. In other words, it's a class for classes. Metaclasses allow you to customize the creation and behavior of class objects."
   ]
  },
  {
   "cell_type": "markdown",
   "id": "1f4beffa",
   "metadata": {},
   "source": [
    "**Some key points about metaclasses:**"
   ]
  },
  {
   "cell_type": "markdown",
   "id": "29d44919",
   "metadata": {},
   "source": [
    "\n",
    "1. **Classes are Objects**: In Python, classes themselves are objects. They are instances of metaclasses. By default, Python uses a built-in metaclass called \"type\" to create class objects.\n",
    "\n",
    "\n",
    "2. **Customizing Class Creation**: You can define your own metaclasses to customize how classes are created. This involves overriding methods like `__new__` and `__init__` in the metaclass.\n",
    "\n",
    "\n",
    "3. **Control Class Attributes and Methods**: Metaclasses allow you to control class attributes, methods, inheritance, and more. You can enforce coding standards, add class-level behavior, or implement design patterns.\n",
    "\n",
    "\n",
    "4. **Singletons and Factories**: Metaclasses can be used to implement design patterns like the Singleton pattern, where only one instance of a class is allowed, or the Factory pattern, where classes are created dynamically based on certain conditions.\n",
    "\n",
    "\n",
    "5. **Framework Development**: Metaclasses are often used in framework development to provide a structured way for developers to define and extend classes within the framework."
   ]
  },
  {
   "cell_type": "code",
   "execution_count": 2,
   "id": "ae26db71",
   "metadata": {},
   "outputs": [
    {
     "name": "stdout",
     "output_type": "stream",
     "text": [
      "10\n",
      "42\n"
     ]
    }
   ],
   "source": [
    "class MyMeta(type):\n",
    "    def __init__(cls, name, bases, attrs):\n",
    "        # Add a new class attribute\n",
    "        cls.new_attr = 42\n",
    "        super(MyMeta, cls).__init__(name, bases, attrs)\n",
    "\n",
    "class MyClass(metaclass=MyMeta):\n",
    "    def __init__(self, value):\n",
    "        self.value = value\n",
    "\n",
    "obj = MyClass(10)\n",
    "print(obj.value)   # Outputs: 10\n",
    "print(obj.new_attr)  # Outputs: 42"
   ]
  },
  {
   "cell_type": "markdown",
   "id": "bd90c6a0",
   "metadata": {},
   "source": [
    "In this example, `MyMeta` is a custom metaclass that adds a new class attribute (`new_attr`) to any class created using it. `MyClass` uses `MyMeta` as its metaclass."
   ]
  },
  {
   "cell_type": "markdown",
   "id": "d7460d2a",
   "metadata": {},
   "source": [
    "# Q2. What is the best way to declare a class's metaclass?"
   ]
  },
  {
   "cell_type": "markdown",
   "id": "fe349031",
   "metadata": {},
   "source": [
    "**Ans:**"
   ]
  },
  {
   "cell_type": "markdown",
   "id": "c2d42d55",
   "metadata": {},
   "source": [
    "In Python, you can declare a class's metaclass by specifying the metaclass when defining the class. There are multiple ways to do this, but the most common and recommended way is to use the `metaclass` argument in the class definition. \n",
    "\n",
    "Here's the syntax:"
   ]
  },
  {
   "cell_type": "markdown",
   "id": "fde915b3",
   "metadata": {},
   "source": [
    "\n",
    "```python\n",
    "class MyClass(metaclass=MyMeta):\n",
    "    # Class definition here\n",
    "```\n",
    "\n",
    "In the above code:\n",
    "\n",
    "- `MyClass` is the name of your class.\n",
    "- `metaclass` is a reserved keyword that specifies the metaclass for the class.\n",
    "- `MyMeta` is the actual metaclass that you want to use."
   ]
  },
  {
   "cell_type": "code",
   "execution_count": 7,
   "id": "dd4efb1f",
   "metadata": {},
   "outputs": [
    {
     "name": "stdout",
     "output_type": "stream",
     "text": [
      "Creating class MyClass with attributes {'__module__': '__main__', '__qualname__': 'MyClass', 'x': 1, 'y': 2}\n"
     ]
    }
   ],
   "source": [
    "# Example:\n",
    "\n",
    "class MyMeta(type):\n",
    "    def __init__(cls, name, bases, attrs):\n",
    "        print(f\"Creating class {name} with attributes {attrs}\")\n",
    "\n",
    "class MyClass(metaclass=MyMeta):\n",
    "    x = 1\n",
    "    y = 2\n",
    "\n",
    "# Output: Creating class MyClass with attributes {'x': 1, 'y': 2}\n"
   ]
  },
  {
   "cell_type": "markdown",
   "id": "05c799a7",
   "metadata": {},
   "source": [
    "*Output:*"
   ]
  },
  {
   "cell_type": "markdown",
   "id": "3341cd91",
   "metadata": {},
   "source": [
    "\n",
    "- `'{'__module__': '__main__', '__qualname__': 'MyClass', 'x': 1, 'y': 2}'`: This is a dictionary that includes several automatically generated attributes and the attributes you explicitly defined in your `MyClass`.\n",
    "\n",
    "    - `'__module__': '__main__'`: This is an automatically generated attribute indicating the module in which the class is defined (`'__main__'` means it's defined in the main script).\n",
    "\n",
    "    - `'__qualname__': 'MyClass'`: Another automatically generated attribute that specifies the qualified name of the class.\n",
    "\n",
    "    - `'x': 1, 'y': 2'`: These are the attributes you defined in your class, where `'x'` is set to `1`, and `'y'` is set to `2`.\n",
    "\n",
    "So, the output essentially tells you that a class named `MyClass` is being created, and it displays the attributes associated with that class, including both the ones you defined (`'x'` and `'y'`) and the automatically generated ones (`'__module__'` and `'__qualname__'`)."
   ]
  },
  {
   "cell_type": "markdown",
   "id": "d3d2a297",
   "metadata": {},
   "source": [
    "\n",
    "In this example, `MyMeta` is the metaclass, and `MyClass` uses it as its metaclass. When `MyClass` is defined, the `__init__` method of `MyMeta` is called, allowing you to customize the class creation process."
   ]
  },
  {
   "cell_type": "markdown",
   "id": "54f97984",
   "metadata": {},
   "source": [
    "# Q3. How do class decorators overlap with metaclasses for handling classes?"
   ]
  },
  {
   "cell_type": "markdown",
   "id": "078c36b0",
   "metadata": {},
   "source": [
    "**Ans:**"
   ]
  },
  {
   "cell_type": "markdown",
   "id": "ac9fa132",
   "metadata": {},
   "source": [
    "Class decorators and metaclasses are both mechanisms in Python for modifying or augmenting the behavior of classes. However, they serve slightly different purposes and operate at different levels in the class creation process.\n",
    "\n",
    "Here's an overview of how class decorators and metaclasses overlap and differ:\n",
    "\n",
    "1. **Purpose**:\n",
    "   - **Class Decorators**: Class decorators are typically used to modify or enhance the behavior of individual class instances. They work at the instance level and can be applied directly to a class or to methods within a class.\n",
    "   - **Metaclasses**: Metaclasses are used to customize the creation and behavior of classes themselves. They work at the class level and can influence the structure, attributes, and methods of classes.\n",
    "\n",
    "2. **Application**:\n",
    "   - **Class Decorators**: They are applied to classes or methods, allowing you to wrap, modify, or extend their behavior. Common use cases include adding logging, validation, or mixins to classes.\n",
    "   - **Metaclasses**: They define how classes are created, often by customizing class creation methods such as `__init__` and `__new__`. Metaclasses can enforce coding standards, auto-generate methods, or alter class inheritance.\n",
    "\n",
    "3. **Usage**:\n",
    "   - **Class Decorators**: Applied using the `@decorator` syntax just before a class or method definition. They can be used on an as-needed basis, allowing for fine-grained control over class behavior.\n",
    "   - **Metaclasses**: Defined by creating a custom metaclass, which is set as the metaclass of a class using the `metaclass` keyword or by defining it in a base class that your target classes inherit from. Metaclasses provide a global template for classes of a certain type.\n",
    "\n",
    "4. **Scope**:\n",
    "   - **Class Decorators**: Operate at the level of individual methods or classes, providing flexibility for modifying specific parts of a class.\n",
    "   - **Metaclasses**: Operate at a higher level and influence the overall structure and behavior of classes that use them.\n",
    "\n",
    "5. **Use Cases**:\n",
    "   - **Class Decorators**: Suitable for scenarios where you want to apply modifications to specific classes or methods while leaving others unaffected. They are often used for cross-cutting concerns like logging or access control.\n",
    "   - **Metaclasses**: Useful when you need centralized control over multiple classes of a certain type, enforcing class structure, or ensuring consistency across a group of related classes.\n",
    "\n",
    "In practice, the choice between class decorators and metaclasses depends on your specific requirements. Class decorators are more lightweight and offer more fine-grained control, while metaclasses are more powerful and provide global control over class creation."
   ]
  },
  {
   "cell_type": "markdown",
   "id": "1a3baab8",
   "metadata": {},
   "source": [
    "# Q4. How do class decorators overlap with metaclasses for handling instances?"
   ]
  },
  {
   "cell_type": "markdown",
   "id": "eadb4f57",
   "metadata": {},
   "source": [
    "**Ans:**"
   ]
  },
  {
   "cell_type": "markdown",
   "id": "3b4fc16a",
   "metadata": {},
   "source": [
    "Class decorators and metaclasses both provide ways to customize or enhance the behavior of classes and instances in Python, but they operate at different levels in the object creation process."
   ]
  },
  {
   "cell_type": "markdown",
   "id": "d6b2b4a1",
   "metadata": {},
   "source": [
    "While class decorators and metaclasses can both be used to customize Python classes and instances, class decorators primarily target individual instances or methods, whereas metaclasses have a broader scope, influencing the behavior of entire classes and all instances created from them."
   ]
  },
  {
   "cell_type": "markdown",
   "id": "67446d56",
   "metadata": {},
   "source": [
    "**Example 1: Using Class Decorators**\n",
    "\n",
    "In this example, we'll create a class decorator that logs method calls for individual instances of a class."
   ]
  },
  {
   "cell_type": "code",
   "execution_count": 8,
   "id": "267d098f",
   "metadata": {},
   "outputs": [
    {
     "name": "stdout",
     "output_type": "stream",
     "text": [
      "Calling add on instance <__main__.log_calls.<locals>.DecoratedClass object at 0x000001E6BF023BB0>\n",
      "Result: 3\n"
     ]
    }
   ],
   "source": [
    "def log_calls(cls):\n",
    "    class DecoratedClass(cls):\n",
    "        def __init__(self, *args, **kwargs):\n",
    "            super().__init__(*args, **kwargs)\n",
    "\n",
    "        def log_call(self, method_name):\n",
    "            print(f\"Calling {method_name} on instance {self}\")\n",
    "\n",
    "    return DecoratedClass\n",
    "\n",
    "@log_calls\n",
    "class MyClass:\n",
    "    def __init__(self, x, y):\n",
    "        self.x = x\n",
    "        self.y = y\n",
    "\n",
    "    def add(self):\n",
    "        return self.x + self.y\n",
    "\n",
    "obj = MyClass(1, 2)\n",
    "obj.log_call(\"add\")\n",
    "result = obj.add()\n",
    "print(f\"Result: {result}\")"
   ]
  },
  {
   "cell_type": "markdown",
   "id": "486d31fa",
   "metadata": {},
   "source": [
    "In this case, the `@log_calls` decorator is applied to the `MyClass` definition. It wraps the `MyClass` with a new class, `DecoratedClass`, which overrides the constructor to initialize the base class and adds a `log_call` method. This decorator customizes the behavior of individual instances of `MyClass`."
   ]
  },
  {
   "cell_type": "markdown",
   "id": "e5b8c230",
   "metadata": {},
   "source": [
    "**Example 2: Using a Metaclass**\n",
    "\n",
    "In this example, we'll use a metaclass to enforce a common structure for multiple classes. We'll create a metaclass that ensures all subclasses have a `description` attribute."
   ]
  },
  {
   "cell_type": "code",
   "execution_count": 13,
   "id": "a7471967",
   "metadata": {},
   "outputs": [
    {
     "ename": "TypeError",
     "evalue": "Class 'Product' must have a 'description' attribute.",
     "output_type": "error",
     "traceback": [
      "\u001b[1;31m---------------------------------------------------------------------------\u001b[0m",
      "\u001b[1;31mTypeError\u001b[0m                                 Traceback (most recent call last)",
      "\u001b[1;32m~\\AppData\\Local\\Temp/ipykernel_6844/1195440860.py\u001b[0m in \u001b[0;36m<module>\u001b[1;34m\u001b[0m\n\u001b[0;32m      5\u001b[0m         \u001b[1;32mreturn\u001b[0m \u001b[0msuper\u001b[0m\u001b[1;33m(\u001b[0m\u001b[1;33m)\u001b[0m\u001b[1;33m.\u001b[0m\u001b[0m__new__\u001b[0m\u001b[1;33m(\u001b[0m\u001b[0mcls\u001b[0m\u001b[1;33m,\u001b[0m \u001b[0mname\u001b[0m\u001b[1;33m,\u001b[0m \u001b[0mbases\u001b[0m\u001b[1;33m,\u001b[0m \u001b[0mattrs\u001b[0m\u001b[1;33m)\u001b[0m\u001b[1;33m\u001b[0m\u001b[1;33m\u001b[0m\u001b[0m\n\u001b[0;32m      6\u001b[0m \u001b[1;33m\u001b[0m\u001b[0m\n\u001b[1;32m----> 7\u001b[1;33m \u001b[1;32mclass\u001b[0m \u001b[0mProduct\u001b[0m\u001b[1;33m(\u001b[0m\u001b[0mmetaclass\u001b[0m\u001b[1;33m=\u001b[0m\u001b[0mEnsureDescriptionMeta\u001b[0m\u001b[1;33m)\u001b[0m\u001b[1;33m:\u001b[0m\u001b[1;33m\u001b[0m\u001b[1;33m\u001b[0m\u001b[0m\n\u001b[0m\u001b[0;32m      8\u001b[0m     \u001b[1;32mdef\u001b[0m \u001b[0m__init__\u001b[0m\u001b[1;33m(\u001b[0m\u001b[0mself\u001b[0m\u001b[1;33m,\u001b[0m \u001b[0mname\u001b[0m\u001b[1;33m,\u001b[0m \u001b[0mprice\u001b[0m\u001b[1;33m)\u001b[0m\u001b[1;33m:\u001b[0m\u001b[1;33m\u001b[0m\u001b[1;33m\u001b[0m\u001b[0m\n\u001b[0;32m      9\u001b[0m         \u001b[0mself\u001b[0m\u001b[1;33m.\u001b[0m\u001b[0mname\u001b[0m \u001b[1;33m=\u001b[0m \u001b[0mname\u001b[0m\u001b[1;33m\u001b[0m\u001b[1;33m\u001b[0m\u001b[0m\n",
      "\u001b[1;32m~\\AppData\\Local\\Temp/ipykernel_6844/1195440860.py\u001b[0m in \u001b[0;36m__new__\u001b[1;34m(cls, name, bases, attrs)\u001b[0m\n\u001b[0;32m      2\u001b[0m     \u001b[1;32mdef\u001b[0m \u001b[0m__new__\u001b[0m\u001b[1;33m(\u001b[0m\u001b[0mcls\u001b[0m\u001b[1;33m,\u001b[0m \u001b[0mname\u001b[0m\u001b[1;33m,\u001b[0m \u001b[0mbases\u001b[0m\u001b[1;33m,\u001b[0m \u001b[0mattrs\u001b[0m\u001b[1;33m)\u001b[0m\u001b[1;33m:\u001b[0m\u001b[1;33m\u001b[0m\u001b[1;33m\u001b[0m\u001b[0m\n\u001b[0;32m      3\u001b[0m         \u001b[1;32mif\u001b[0m \u001b[1;34m'description'\u001b[0m \u001b[1;32mnot\u001b[0m \u001b[1;32min\u001b[0m \u001b[0mattrs\u001b[0m\u001b[1;33m:\u001b[0m\u001b[1;33m\u001b[0m\u001b[1;33m\u001b[0m\u001b[0m\n\u001b[1;32m----> 4\u001b[1;33m             \u001b[1;32mraise\u001b[0m \u001b[0mTypeError\u001b[0m\u001b[1;33m(\u001b[0m\u001b[1;34mf\"Class '{name}' must have a 'description' attribute.\"\u001b[0m\u001b[1;33m)\u001b[0m\u001b[1;33m\u001b[0m\u001b[1;33m\u001b[0m\u001b[0m\n\u001b[0m\u001b[0;32m      5\u001b[0m         \u001b[1;32mreturn\u001b[0m \u001b[0msuper\u001b[0m\u001b[1;33m(\u001b[0m\u001b[1;33m)\u001b[0m\u001b[1;33m.\u001b[0m\u001b[0m__new__\u001b[0m\u001b[1;33m(\u001b[0m\u001b[0mcls\u001b[0m\u001b[1;33m,\u001b[0m \u001b[0mname\u001b[0m\u001b[1;33m,\u001b[0m \u001b[0mbases\u001b[0m\u001b[1;33m,\u001b[0m \u001b[0mattrs\u001b[0m\u001b[1;33m)\u001b[0m\u001b[1;33m\u001b[0m\u001b[1;33m\u001b[0m\u001b[0m\n\u001b[0;32m      6\u001b[0m \u001b[1;33m\u001b[0m\u001b[0m\n",
      "\u001b[1;31mTypeError\u001b[0m: Class 'Product' must have a 'description' attribute."
     ]
    }
   ],
   "source": [
    "class EnsureDescriptionMeta(type):\n",
    "    def __new__(cls, name, bases, attrs):\n",
    "        if 'description' not in attrs:\n",
    "            raise TypeError(f\"Class '{name}' must have a 'description' attribute.\")\n",
    "        return super().__new__(cls, name, bases, attrs)\n",
    "\n",
    "class Product(metaclass=EnsureDescriptionMeta):\n",
    "    def __init__(self, name, price):\n",
    "        self.name = name\n",
    "        self.price = price\n",
    "\n",
    "class Book(Product):\n",
    "    description = \"Book Product\"\n",
    "\n",
    "class Toy(Product):\n",
    "    pass  # This will raise an error because 'description' is missing.\n",
    "\n",
    "# Create instances of classes\n",
    "book = Book(\"Python Programming\", 29.99)\n",
    "# toy = Toy(\"Toy Car\", 9.99)  # Uncommenting this line would raise an error.\n",
    "\n",
    "print(f\"Book: {book.name}, Description: {book.description}\")\n",
    "\n",
    "\n",
    "# This will raise a TypeError because 'Product' doesn't have a 'description' attribute.\n"
   ]
  },
  {
   "cell_type": "code",
   "execution_count": null,
   "id": "be4d1764",
   "metadata": {},
   "outputs": [],
   "source": []
  }
 ],
 "metadata": {
  "kernelspec": {
   "display_name": "Python 3 (ipykernel)",
   "language": "python",
   "name": "python3"
  },
  "language_info": {
   "codemirror_mode": {
    "name": "ipython",
    "version": 3
   },
   "file_extension": ".py",
   "mimetype": "text/x-python",
   "name": "python",
   "nbconvert_exporter": "python",
   "pygments_lexer": "ipython3",
   "version": "3.9.7"
  }
 },
 "nbformat": 4,
 "nbformat_minor": 5
}
