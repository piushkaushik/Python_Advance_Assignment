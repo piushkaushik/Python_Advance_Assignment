{
 "cells": [
  {
   "cell_type": "markdown",
   "id": "cd584a0b",
   "metadata": {},
   "source": [
    "# Q1. Describe the differences between text and binary files in a single paragraph."
   ]
  },
  {
   "cell_type": "markdown",
   "id": "73e4ff26",
   "metadata": {},
   "source": [
    "**Ans:**"
   ]
  },
  {
   "cell_type": "markdown",
   "id": "788ca72c",
   "metadata": {},
   "source": [
    "Text files in Python are meant for storing human-readable text, handling character encoding and newline characters according to the platform. Binary files, however, are used for non-textual data like images or audio, preserving the raw binary data without encoding or newline conversions."
   ]
  },
  {
   "cell_type": "markdown",
   "id": "7aaec8c2",
   "metadata": {},
   "source": [
    "# Q2. What are some scenarios where using text files will be the better option? When would you like to use binary files instead of text files?"
   ]
  },
  {
   "cell_type": "markdown",
   "id": "531c6205",
   "metadata": {},
   "source": [
    "**Ans:**"
   ]
  },
  {
   "cell_type": "markdown",
   "id": "0959b028",
   "metadata": {},
   "source": [
    "- Text files are a better option when you want to store and manipulate human-readable data, like configuration files, logs, or simple text-based data formats such as CSV or JSON. They're suitable for data that you might need to edit or read outside your program.\n",
    "\n",
    "\n",
    "- On the other hand, binary files are preferred when working with non-textual data, such as images, audio, or proprietary file formats like databases. Binary files store data exactly as it is, without encoding or formatting, making them suitable for preserving the integrity of non-textual data."
   ]
  },
  {
   "cell_type": "markdown",
   "id": "419c504b",
   "metadata": {},
   "source": [
    "# Q3. What are some of the issues with using binary operations to read and write a Python integer directly to disc?"
   ]
  },
  {
   "cell_type": "markdown",
   "id": "a25b66f8",
   "metadata": {},
   "source": [
    "**Ans:**"
   ]
  },
  {
   "cell_type": "markdown",
   "id": "81803611",
   "metadata": {},
   "source": [
    "1. Byte Order: Python uses native byte order for binary data, which may not be consistent across systems. This can result in incorrect data interpretation if not handled correctly.\n",
    "\n",
    "\n",
    "2. Portability: Binary data may not be portable between different Python versions or implementations (e.g., CPython, Jython, IronPython). This can lead to compatibility problems when sharing binary files.\n",
    "\n",
    "\n",
    "3. Lack of Human Readability: Binary data is not human-readable, making it difficult to inspect and debug. Text-based formats (e.g., JSON or CSV) are more user-friendly in this regard.\n",
    "\n",
    "\n",
    "4. Data Type Compatibility: Binary data does not capture data types explicitly. When reading binary data, you need to know the expected data type and handle conversions manually.\n"
   ]
  },
  {
   "cell_type": "markdown",
   "id": "5adc1333",
   "metadata": {},
   "source": [
    "# Q4. Describe a benefit of using the with keyword instead of explicitly opening a file."
   ]
  },
  {
   "cell_type": "markdown",
   "id": "4e4a5749",
   "metadata": {},
   "source": [
    "**Ans:**"
   ]
  },
  {
   "cell_type": "markdown",
   "id": "a48d7d2a",
   "metadata": {},
   "source": [
    "\n",
    "1. **Automatic Cleanup**: Python ensures that the file is properly closed after you're done with it, even if an exception is raised during the process. This helps prevent resource leaks and makes your code more robust.\n",
    "\n",
    "\n",
    "2. **Cleaner Code**: It simplifies your code by eliminating the need to explicitly open and close the file. This makes the code cleaner, more readable, and less error-prone.\n",
    "\n"
   ]
  },
  {
   "cell_type": "code",
   "execution_count": 1,
   "id": "75692257",
   "metadata": {},
   "outputs": [],
   "source": [
    "with open('example.txt', 'r') as file:\n",
    "    data = file.read()\n",
    "# File is automatically closed when exiting the 'with' block"
   ]
  },
  {
   "cell_type": "markdown",
   "id": "c4709163",
   "metadata": {},
   "source": [
    "# Q5. Does Python have the trailing newline while reading a line of text? Does Python append a newline when you write a line of text?"
   ]
  },
  {
   "cell_type": "markdown",
   "id": "9eddf6a2",
   "metadata": {},
   "source": [
    "**Ans:**"
   ]
  },
  {
   "cell_type": "markdown",
   "id": "2e4fdf60",
   "metadata": {},
   "source": [
    "In Python, when reading a line of text using the `readline()` method or iterating over lines in a file, the trailing newline character (`'\\n'`) is included in the string read. This means that the newline character is part of the string you receive.\n",
    "\n",
    "\n",
    "When writing a line of text to a file using the `write()` method or other file output functions, you need to explicitly include the newline character (`'\\n'`) at the end of the line if you want a newline to be added. \n",
    "\n",
    "\n",
    "Python won't automatically append a newline when you write a line of text; you have to specify it yourself.\n",
    "\n"
   ]
  },
  {
   "cell_type": "code",
   "execution_count": 3,
   "id": "86c56435",
   "metadata": {},
   "outputs": [
    {
     "name": "stdout",
     "output_type": "stream",
     "text": [
      "In literary theory, a text is any object that can be \"read\", whether this object is a work of literature, a street sign, an arrangement of buildings on a city block, or styles of clothing. \n",
      "\n"
     ]
    }
   ],
   "source": [
    "# Reading a line from a file\n",
    "with open('example.txt', 'r') as file:\n",
    "    line = file.readline()\n",
    "print(line)  # This will include the newline character if it's present in the file\n",
    "\n",
    "# Writing a line to a file\n",
    "with open('output.txt', 'w') as file:\n",
    "    file.write(\"This is a line of text.\\n\")  # Include '\\n' to add a newline\n"
   ]
  },
  {
   "cell_type": "markdown",
   "id": "e7dd06ec",
   "metadata": {},
   "source": [
    "In the above example, we included '\\n' to ensure that a newline is appended to the written text."
   ]
  },
  {
   "cell_type": "markdown",
   "id": "fd50ed7d",
   "metadata": {},
   "source": [
    "# Q6. What file operations enable for random-access operation?"
   ]
  },
  {
   "cell_type": "markdown",
   "id": "a84e0ac1",
   "metadata": {},
   "source": [
    "**Ans:**"
   ]
  },
  {
   "cell_type": "markdown",
   "id": "98bf3ba0",
   "metadata": {},
   "source": [
    "By using `seek` and `tell` in combination, you can perform random-access reads and writes to specific positions within a file. This is especially useful when working with binary files or structured data where you need to read or modify specific portions of the file without reading it sequentially from start to finish."
   ]
  },
  {
   "cell_type": "code",
   "execution_count": 7,
   "id": "13cee0a1",
   "metadata": {},
   "outputs": [
    {
     "name": "stdout",
     "output_type": "stream",
     "text": [
      "his is line 2\n",
      "s is line 3\n",
      "Current position: 45 bytes\n"
     ]
    }
   ],
   "source": [
    "# Open a file in binary mode for both reading and writing\n",
    "with open('example.txt', 'rb+') as file:\n",
    "    # Write some data at specific positions\n",
    "    file.write(b'This is line 1\\n')\n",
    "    file.write(b'This is line 2\\n')\n",
    "    file.write(b'This is line 3\\n')\n",
    "\n",
    "    # Move the file pointer to the beginning of line 2\n",
    "    file.seek(16)  # Offset is set to 16 bytes (length of line 1)\n",
    "\n",
    "    # Read and print line 2\n",
    "    line2 = file.readline()\n",
    "    print(line2.decode('utf-8').strip())  # Decode from bytes and remove newline\n",
    "\n",
    "    # Move the file pointer to the beginning of line 3\n",
    "    file.seek(33)  # Offset is set to 33 bytes (length of lines 1 and 2)\n",
    "\n",
    "    # Read and print line 3\n",
    "    line3 = file.readline()\n",
    "    print(line3.decode('utf-8').strip())\n",
    "\n",
    "    # Check the current file pointer position\n",
    "    current_position = file.tell()\n",
    "    print(f'Current position: {current_position} bytes')\n"
   ]
  },
  {
   "cell_type": "markdown",
   "id": "bab090dc",
   "metadata": {},
   "source": [
    "# Q7. When do you think you'll use the struct package the most?"
   ]
  },
  {
   "cell_type": "markdown",
   "id": "2588b5c4",
   "metadata": {},
   "source": [
    "**Ans**"
   ]
  },
  {
   "cell_type": "markdown",
   "id": "37f47cb9",
   "metadata": {},
   "source": [
    "The `struct` package in Python is most commonly used when working with binary data formats or when we need to interact with systems or libraries that use binary data structures. \n",
    "\n",
    "We will use the `struct` package most when working on projects that involve binary data manipulation, low-level data access, or interfacing with external systems that use binary data formats. \n",
    "\n",
    "It's a versatile tool for handling binary data in a structured way."
   ]
  },
  {
   "cell_type": "markdown",
   "id": "1793146d",
   "metadata": {},
   "source": [
    "# Q8. When is pickling the best option?"
   ]
  },
  {
   "cell_type": "markdown",
   "id": "dec1fed1",
   "metadata": {},
   "source": [
    "**Ans:**"
   ]
  },
  {
   "cell_type": "markdown",
   "id": "e25e4f4f",
   "metadata": {},
   "source": [
    "Pickling in Python is the best option when we need to serialize (convert objects into a byte stream) and later deserialize (convert the byte stream back into objects) Python objects.\n",
    "\n",
    "Pickling is the best option when we need to store, share, or transport Python objects while preserving their original structure and data types."
   ]
  },
  {
   "cell_type": "markdown",
   "id": "00bde6ce",
   "metadata": {},
   "source": [
    "# Q9. When will it be best to use the shelve package?"
   ]
  },
  {
   "cell_type": "markdown",
   "id": "4141d162",
   "metadata": {},
   "source": [
    "**Ans:**"
   ]
  },
  {
   "cell_type": "markdown",
   "id": "1d77822a",
   "metadata": {},
   "source": [
    " `shelve` is best suited for small to medium-sized projects where we need simple, persistent storage for Python objects and don't require advanced database features or concurrent access control."
   ]
  },
  {
   "cell_type": "markdown",
   "id": "d17e56b7",
   "metadata": {},
   "source": [
    "# Q10. What is a special restriction when using the shelve package, as opposed to using other data dictionaries?"
   ]
  },
  {
   "cell_type": "markdown",
   "id": "201e8a51",
   "metadata": {},
   "source": [
    "**Ans:**"
   ]
  },
  {
   "cell_type": "markdown",
   "id": "3ca27411",
   "metadata": {},
   "source": [
    "One of the special restrictions when using the `shelve` package, as opposed to using other data dictionaries like Python dictionaries, is that the keys used in a `shelve` database must be strings. This is because `shelve` is designed to work with disk-based storage, and it relies on string keys to access and store data efficiently.\n",
    "\n",
    "In a regular Python dictionary, keys can be of various types, including integers, floats, tuples, or even custom objects, as long as they are hashable. However, in a `shelve` database, keys are mapped to strings internally. When you try to access data in a `shelve` database, the key you provide is converted to a string for lookup."
   ]
  },
  {
   "cell_type": "code",
   "execution_count": 8,
   "id": "e582f57c",
   "metadata": {},
   "outputs": [
    {
     "ename": "AttributeError",
     "evalue": "'int' object has no attribute 'encode'",
     "output_type": "error",
     "traceback": [
      "\u001b[1;31m---------------------------------------------------------------------------\u001b[0m",
      "\u001b[1;31mAttributeError\u001b[0m                            Traceback (most recent call last)",
      "\u001b[1;32m~\\AppData\\Local\\Temp/ipykernel_8764/3397839693.py\u001b[0m in \u001b[0;36m<module>\u001b[1;34m\u001b[0m\n\u001b[0;32m      3\u001b[0m \u001b[1;31m# Create a shelve database\u001b[0m\u001b[1;33m\u001b[0m\u001b[1;33m\u001b[0m\u001b[0m\n\u001b[0;32m      4\u001b[0m \u001b[1;32mwith\u001b[0m \u001b[0mshelve\u001b[0m\u001b[1;33m.\u001b[0m\u001b[0mopen\u001b[0m\u001b[1;33m(\u001b[0m\u001b[1;34m'mydata'\u001b[0m\u001b[1;33m)\u001b[0m \u001b[1;32mas\u001b[0m \u001b[0mdb\u001b[0m\u001b[1;33m:\u001b[0m\u001b[1;33m\u001b[0m\u001b[1;33m\u001b[0m\u001b[0m\n\u001b[1;32m----> 5\u001b[1;33m     \u001b[0mdb\u001b[0m\u001b[1;33m[\u001b[0m\u001b[1;36m42\u001b[0m\u001b[1;33m]\u001b[0m \u001b[1;33m=\u001b[0m \u001b[1;34m'Hello'\u001b[0m  \u001b[1;31m# This will raise an error because the key (42) is not a string\u001b[0m\u001b[1;33m\u001b[0m\u001b[1;33m\u001b[0m\u001b[0m\n\u001b[0m",
      "\u001b[1;32mC:\\ProgramData\\Anaconda3\\lib\\shelve.py\u001b[0m in \u001b[0;36m__setitem__\u001b[1;34m(self, key, value)\u001b[0m\n\u001b[0;32m    123\u001b[0m         \u001b[0mp\u001b[0m \u001b[1;33m=\u001b[0m \u001b[0mPickler\u001b[0m\u001b[1;33m(\u001b[0m\u001b[0mf\u001b[0m\u001b[1;33m,\u001b[0m \u001b[0mself\u001b[0m\u001b[1;33m.\u001b[0m\u001b[0m_protocol\u001b[0m\u001b[1;33m)\u001b[0m\u001b[1;33m\u001b[0m\u001b[1;33m\u001b[0m\u001b[0m\n\u001b[0;32m    124\u001b[0m         \u001b[0mp\u001b[0m\u001b[1;33m.\u001b[0m\u001b[0mdump\u001b[0m\u001b[1;33m(\u001b[0m\u001b[0mvalue\u001b[0m\u001b[1;33m)\u001b[0m\u001b[1;33m\u001b[0m\u001b[1;33m\u001b[0m\u001b[0m\n\u001b[1;32m--> 125\u001b[1;33m         \u001b[0mself\u001b[0m\u001b[1;33m.\u001b[0m\u001b[0mdict\u001b[0m\u001b[1;33m[\u001b[0m\u001b[0mkey\u001b[0m\u001b[1;33m.\u001b[0m\u001b[0mencode\u001b[0m\u001b[1;33m(\u001b[0m\u001b[0mself\u001b[0m\u001b[1;33m.\u001b[0m\u001b[0mkeyencoding\u001b[0m\u001b[1;33m)\u001b[0m\u001b[1;33m]\u001b[0m \u001b[1;33m=\u001b[0m \u001b[0mf\u001b[0m\u001b[1;33m.\u001b[0m\u001b[0mgetvalue\u001b[0m\u001b[1;33m(\u001b[0m\u001b[1;33m)\u001b[0m\u001b[1;33m\u001b[0m\u001b[1;33m\u001b[0m\u001b[0m\n\u001b[0m\u001b[0;32m    126\u001b[0m \u001b[1;33m\u001b[0m\u001b[0m\n\u001b[0;32m    127\u001b[0m     \u001b[1;32mdef\u001b[0m \u001b[0m__delitem__\u001b[0m\u001b[1;33m(\u001b[0m\u001b[0mself\u001b[0m\u001b[1;33m,\u001b[0m \u001b[0mkey\u001b[0m\u001b[1;33m)\u001b[0m\u001b[1;33m:\u001b[0m\u001b[1;33m\u001b[0m\u001b[1;33m\u001b[0m\u001b[0m\n",
      "\u001b[1;31mAttributeError\u001b[0m: 'int' object has no attribute 'encode'"
     ]
    }
   ],
   "source": [
    "import shelve\n",
    "\n",
    "# Create a shelve database\n",
    "with shelve.open('mydata') as db:\n",
    "    db[42] = 'Hello'  # This will raise an error because the key (42) is not a string\n"
   ]
  },
  {
   "cell_type": "code",
   "execution_count": null,
   "id": "8ffd2875",
   "metadata": {},
   "outputs": [],
   "source": []
  }
 ],
 "metadata": {
  "kernelspec": {
   "display_name": "Python 3 (ipykernel)",
   "language": "python",
   "name": "python3"
  },
  "language_info": {
   "codemirror_mode": {
    "name": "ipython",
    "version": 3
   },
   "file_extension": ".py",
   "mimetype": "text/x-python",
   "name": "python",
   "nbconvert_exporter": "python",
   "pygments_lexer": "ipython3",
   "version": "3.9.7"
  }
 },
 "nbformat": 4,
 "nbformat_minor": 5
}
