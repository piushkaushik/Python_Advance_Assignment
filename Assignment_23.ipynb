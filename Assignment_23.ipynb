{
 "cells": [
  {
   "cell_type": "markdown",
   "id": "45e786f3",
   "metadata": {},
   "source": [
    "# Q1. If you have any, what are your choices for increasing the comparison between different figures on the same graph?"
   ]
  },
  {
   "cell_type": "markdown",
   "id": "c398ad90",
   "metadata": {},
   "source": [
    "**Ans:**"
   ]
  },
  {
   "cell_type": "markdown",
   "id": "35ad8678",
   "metadata": {},
   "source": [
    "\n",
    "1. **Use Different Colors**: Assign distinct colors to each figure or dataset on the graph. This makes it easier to differentiate between them visually.\n",
    "\n",
    "\n",
    "2. **Legends**: Add a legend to the graph that labels each figure or dataset. Legends provide a quick reference for viewers to understand which data corresponds to each figure.\n",
    "\n",
    "\n",
    "3. **Annotations**: Use text annotations to label specific data points or figures of interest. Annotations can provide context and help viewers understand the significance of particular data.\n",
    "\n",
    "4. **Gridlines**: Add gridlines to the graph background to provide a visual reference for data points. Gridlines can make it easier to compare data values across figures.\n",
    "\n",
    "5. **Transparency**: Adjust the transparency (alpha) of data points or figures. This can be especially useful when multiple data points overlap, allowing viewers to see overlapping regions more clearly.\n",
    "\n",
    "6. **Data Scaling**: Consider normalizing or scaling the data if the figures have significantly different ranges. This ensures that all figures are on a similar scale for better comparison."
   ]
  },
  {
   "cell_type": "markdown",
   "id": "2149bb8c",
   "metadata": {},
   "source": [
    "# Q2. Can you explain the benefit of compound interest over a higher rate of interest that does not compound after reading this chapter?"
   ]
  },
  {
   "cell_type": "markdown",
   "id": "d27a18a7",
   "metadata": {},
   "source": [
    "**Ans:**"
   ]
  },
  {
   "cell_type": "markdown",
   "id": "c787b97e",
   "metadata": {},
   "source": [
    "- Compound interest offers the benefit of earning interest not only on the initial principal amount (the original sum of money) but also on the accumulated interest from previous periods. This means that as your investment or savings grow, the interest you earn increases at an accelerating rate.\n",
    "\n",
    "\n",
    "- In contrast, a higher rate of simple interest, which does not compound, would provide linear growth. You would earn a fixed amount of interest each period based on the initial principal, resulting in slower overall growth of your savings or investments.\n",
    "\n",
    "\n",
    "- Compound interest is a powerful financial concept that can significantly enhance your ability to grow wealth over time. It rewards long-term saving and investing and can help you achieve your financial goals more effectively than simple interest."
   ]
  },
  {
   "cell_type": "markdown",
   "id": "d8fa761d",
   "metadata": {},
   "source": [
    "# Q3. What is a histogram, exactly? Name a numpy method for creating such a graph."
   ]
  },
  {
   "cell_type": "markdown",
   "id": "e43a0c5c",
   "metadata": {},
   "source": [
    "**Ans:**"
   ]
  },
  {
   "cell_type": "markdown",
   "id": "730c9cec",
   "metadata": {},
   "source": [
    "- A histogram is a graphical representation of the distribution of a dataset. It divides the data into discrete bins or intervals and counts the number of data points that fall into each bin. Histograms are commonly used to visualize the frequency or probability distribution of a continuous or discrete dataset.\n",
    "\n",
    "\n",
    "- We can create a histogram using the `numpy.histogram` method, which computes and returns the histogram values without actually creating a graphical plot. To create a histogram plot, we can use libraries like Matplotlib. "
   ]
  },
  {
   "cell_type": "code",
   "execution_count": 2,
   "id": "af830efc",
   "metadata": {},
   "outputs": [
    {
     "data": {
      "image/png": "[encoded data removed]",
      "text/plain": [
       "<Figure size 432x288 with 1 Axes>"
      ]
     },
     "metadata": {
      "needs_background": "light"
     },
     "output_type": "display_data"
    }
   ],
   "source": [
    "import numpy as np\n",
    "import matplotlib.pyplot as plt\n",
    "\n",
    "# Sample data\n",
    "data = np.random.randn(1000) \n",
    "\n",
    "# Create a histogram\n",
    "hist, bins = np.histogram(data, bins=10)  \n",
    "\n",
    "# Plot the histogram\n",
    "plt.hist(data, bins=10, alpha=0.5, color='b', edgecolor='black')\n",
    "plt.xlabel('Value')\n",
    "plt.ylabel('Frequency')\n",
    "plt.title('Histogram')\n",
    "plt.show()"
   ]
  },
  {
   "cell_type": "markdown",
   "id": "78061ebc",
   "metadata": {},
   "source": [
    "# Q4. If necessary, how do you change the aspect ratios between the X and Y axes?"
   ]
  },
  {
   "cell_type": "markdown",
   "id": "2b3409d5",
   "metadata": {},
   "source": [
    "**Ans:**"
   ]
  },
  {
   "cell_type": "markdown",
   "id": "ccb448c0",
   "metadata": {},
   "source": [
    "To change the aspect ratios between the X and Y axes in a Matplotlib plot, we can use the `set_aspect` method of the `Axes` object. This method allows us to set the aspect ratio to a specific value or mode."
   ]
  },
  {
   "cell_type": "code",
   "execution_count": 13,
   "id": "3c748561",
   "metadata": {},
   "outputs": [
    {
     "data": {
      "image/png": "[encoded data removed]",
      "text/plain": [
       "<Figure size 432x288 with 1 Axes>"
      ]
     },
     "metadata": {
      "needs_background": "light"
     },
     "output_type": "display_data"
    }
   ],
   "source": [
    "import matplotlib.pyplot as plt\n",
    "\n",
    "# Sample data\n",
    "x = [1, 2, 3, 4, 5]\n",
    "y = [10, 20, 30, 40, 50]\n",
    "\n",
    "# Create a scatter plot\n",
    "plt.scatter(x, y)\n",
    "\n",
    "# Set the aspect ratio (X-axis to Y-axis ratio)\n",
    "plt.gca().set_aspect('equal', adjustable='box')  # 'equal' means X and Y axes have the same unit length\n",
    "\n",
    "# Show the plot\n",
    "plt.show()\n"
   ]
  },
  {
   "cell_type": "markdown",
   "id": "a1e3c49e",
   "metadata": {},
   "source": [
    "# Q5. Compare and contrast the three types of array multiplication between two numpy arrays: dot product, outer product, and regular multiplication of two numpy arrays."
   ]
  },
  {
   "cell_type": "markdown",
   "id": "4a1b2ea1",
   "metadata": {},
   "source": [
    "**Ans:**"
   ]
  },
  {
   "cell_type": "markdown",
   "id": "19547216",
   "metadata": {},
   "source": [
    "**Dot Product (Matrix Multiplication):**\n",
    "\n",
    "- Dot product is used for matrix multiplication and follows linear algebra rules, resulting in a differently shaped array.\n",
    "\n"
   ]
  },
  {
   "cell_type": "code",
   "execution_count": 16,
   "id": "e4a7b194",
   "metadata": {},
   "outputs": [
    {
     "name": "stdout",
     "output_type": "stream",
     "text": [
      "Dot Product:\n",
      "[[19 22]\n",
      " [43 50]]\n"
     ]
    }
   ],
   "source": [
    "# Creating two matrices\n",
    "A = np.array([[1, 2], [3, 4]])\n",
    "B = np.array([[5, 6], [7, 8]])\n",
    "\n",
    "# Performing dot product\n",
    "result_dot = np.dot(A, B)\n",
    "# Alternatively, you can use the @ operator:\n",
    "# result_dot = A @ B\n",
    "\n",
    "print(\"Dot Product:\")\n",
    "print(result_dot)"
   ]
  },
  {
   "cell_type": "markdown",
   "id": "fe143a8c",
   "metadata": {},
   "source": [
    "**Outer Product:**\n",
    "\n",
    "- Outer product computes pairwise products of elements and is used for vector operations, resulting in an array with the shape determined by input vectors' dimensions.\n",
    "\n"
   ]
  },
  {
   "cell_type": "code",
   "execution_count": 17,
   "id": "5e5f813e",
   "metadata": {},
   "outputs": [
    {
     "name": "stdout",
     "output_type": "stream",
     "text": [
      "Outer Product:\n",
      "[[ 4  5  6]\n",
      " [ 8 10 12]\n",
      " [12 15 18]]\n"
     ]
    }
   ],
   "source": [
    "# Creating two vectors\n",
    "A = np.array([1, 2, 3])\n",
    "B = np.array([4, 5, 6])\n",
    "\n",
    "# Performing outer product\n",
    "result_outer = np.outer(A, B)\n",
    "\n",
    "print(\"Outer Product:\")\n",
    "print(result_outer)\n"
   ]
  },
  {
   "cell_type": "markdown",
   "id": "0325721b",
   "metadata": {},
   "source": [
    "**Regular Element-Wise Multiplication:**\n",
    "\n",
    "- Regular element-wise multiplication simply multiplies corresponding elements and maintains the input arrays' shapes."
   ]
  },
  {
   "cell_type": "code",
   "execution_count": 20,
   "id": "6c4ac0df",
   "metadata": {},
   "outputs": [
    {
     "name": "stdout",
     "output_type": "stream",
     "text": [
      "Element-Wise Multiplication:\n",
      "[ 4 10 18]\n"
     ]
    }
   ],
   "source": [
    "import numpy as np\n",
    "\n",
    "# Creating two arrays\n",
    "A = np.array([1, 2, 3])\n",
    "B = np.array([4, 5, 6])\n",
    "\n",
    "# Performing element-wise multiplication\n",
    "result_elementwise = A * B\n",
    "# Alternatively, you can use np.multiply():\n",
    "# result_elementwise = np.multiply(A, B)\n",
    "\n",
    "print(\"Element-Wise Multiplication:\")\n",
    "print(result_elementwise)"
   ]
  },
  {
   "cell_type": "markdown",
   "id": "3605e9ee",
   "metadata": {},
   "source": [
    "# Q6. Before you buy a home, which numpy function will you use to measure your monthly mortgage payment?"
   ]
  },
  {
   "cell_type": "markdown",
   "id": "578a37fe",
   "metadata": {},
   "source": [
    "**Ans:**"
   ]
  },
  {
   "cell_type": "markdown",
   "id": "6f063cf2",
   "metadata": {},
   "source": [
    "To calculate your monthly mortgage payment before buying a home, we can use the `numpy_financial` library, which provides financial functions including `pmt`. This function calculates the monthly payment for a loan based on the principal amount, interest rate, and loan duration (in months). \n",
    "\n",
    "**Example:**"
   ]
  },
  {
   "cell_type": "code",
   "execution_count": 23,
   "id": "cbeb0fc2",
   "metadata": {},
   "outputs": [
    {
     "name": "stdout",
     "output_type": "stream",
     "text": [
      "Collecting numpy-financial\n",
      "  Downloading numpy_financial-1.0.0-py3-none-any.whl (14 kB)\n",
      "Requirement already satisfied: numpy>=1.15 in c:\\programdata\\anaconda3\\lib\\site-packages (from numpy-financial) (1.20.3)\n",
      "Installing collected packages: numpy-financial\n",
      "Successfully installed numpy-financial-1.0.0\n",
      "Note: you may need to restart the kernel to use updated packages.\n"
     ]
    }
   ],
   "source": [
    "pip install numpy-financial"
   ]
  },
  {
   "cell_type": "code",
   "execution_count": 31,
   "id": "545152dc",
   "metadata": {},
   "outputs": [
    {
     "name": "stdout",
     "output_type": "stream",
     "text": [
      "Your monthly mortgage payment is: INR 36688.23/-\n"
     ]
    }
   ],
   "source": [
    "import numpy_financial as npf\n",
    "\n",
    "# Principal amount (loan amount)\n",
    "principal = 5000000 \n",
    "\n",
    "# Annual interest rate (in decimal form)\n",
    "annual_rate = 0.08  #  (8% as 0.08)\n",
    "\n",
    "# Loan duration in years\n",
    "loan_duration_years = 30 \n",
    "\n",
    "# Calculate monthly mortgage payment\n",
    "monthly_payment = npf.pmt(annual_rate / 12, loan_duration_years * 12, -principal)\n",
    "\n",
    "print(f\"Your monthly mortgage payment is: INR {monthly_payment:.2f}/-\")\n"
   ]
  },
  {
   "cell_type": "markdown",
   "id": "881065a1",
   "metadata": {},
   "source": [
    "# Q7. Can string data be stored in numpy arrays? If so, list at least one restriction that applies to this data."
   ]
  },
  {
   "cell_type": "markdown",
   "id": "24622859",
   "metadata": {},
   "source": [
    "**Ans:**"
   ]
  },
  {
   "cell_type": "markdown",
   "id": "9c559966",
   "metadata": {},
   "source": [
    "Yes, string data can be stored in numpy arrays using the `numpy` data type `numpy.str_` or simply `numpy.string_`. However, there are some restrictions and considerations when working with string data in numpy arrays:\n",
    "\n",
    "\n",
    "1. Fixed Length: Numpy arrays require fixed-length strings, meaning that you need to specify a maximum string length when creating the array. \n",
    "\n",
    "\n",
    "2. No Automatic Resizing: Numpy arrays have a fixed size once created. If you try to assign a longer string to an element in the array than its specified maximum length, the string will be truncated, which can result in data loss.\n",
    "\n",
    "\n",
    "3. Limited String Operations: Numpy's string data type does not support the same extensive set of string operations and methods as native Python strings or other string-specific libraries like `str` in Python. Operations like slicing and concatenation are more limited with numpy string arrays.\n",
    "\n",
    "\n",
    "4. Performance Considerations: Working with large numpy arrays of strings can have performance implications, as numpy is optimized for numerical operations. \n"
   ]
  },
  {
   "cell_type": "code",
   "execution_count": 32,
   "id": "3165bb06",
   "metadata": {},
   "outputs": [
    {
     "name": "stdout",
     "output_type": "stream",
     "text": [
      "b'apple'\n",
      "b'strawberry'\n",
      "b'applestrawberry'\n",
      "b'app'\n"
     ]
    }
   ],
   "source": [
    "# Create a numpy array of strings with a maximum length of 10 characters\n",
    "str_array = np.array(['apple', 'banana', 'cherry'], dtype='S10')\n",
    "\n",
    "# Accessing elements\n",
    "print(str_array[0])  # 'apple'\n",
    "\n",
    "# Attempting to assign a longer string will result in truncation\n",
    "str_array[1] = 'strawberry'\n",
    "print(str_array[1])  # 'strawberry' (truncated to 10 characters)\n",
    "\n",
    "# Numpy string array operations are limited\n",
    "result = str_array[0] + str_array[1]  # Concatenation is possible but may not behave as expected\n",
    "print(result)  # 'applestraw'\n",
    "\n",
    "# Slicing may not work as expected\n",
    "substring = str_array[0][:3]  # Slicing is limited to individual characters\n",
    "print(substring)  # 'app'"
   ]
  },
  {
   "cell_type": "code",
   "execution_count": null,
   "id": "95bdfb0f",
   "metadata": {},
   "outputs": [],
   "source": []
  }
 ],
 "metadata": {
  "kernelspec": {
   "display_name": "Python 3 (ipykernel)",
   "language": "python",
   "name": "python3"
  },
  "language_info": {
   "codemirror_mode": {
    "name": "ipython",
    "version": 3
   },
   "file_extension": ".py",
   "mimetype": "text/x-python",
   "name": "python",
   "nbconvert_exporter": "python",
   "pygments_lexer": "ipython3",
   "version": "3.9.7"
  }
 },
 "nbformat": 4,
 "nbformat_minor": 5
}
