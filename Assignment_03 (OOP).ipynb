{
 "cells": [
  {
   "cell_type": "markdown",
   "id": "c8b21874",
   "metadata": {},
   "source": [
    "# 1. What is the concept of an abstract superclass?"
   ]
  },
  {
   "cell_type": "markdown",
   "id": "20b948fc",
   "metadata": {},
   "source": [
    "**Ans:**"
   ]
  },
  {
   "cell_type": "markdown",
   "id": "8ba16e6d",
   "metadata": {},
   "source": [
    "An abstract class can be considered a blueprint for other classes. It allows you to create a set of methods that must be created within any child classes built from the abstract class. A class that contains one or more abstract methods is called an abstract class.\n",
    "\n",
    "Here are some key points about abstract superclasses:\n",
    "\n",
    "1. **Cannot Be Instantiated:** An abstract superclass cannot be used to create objects. It's meant to be extended by subclasses.\n",
    "\n",
    "\n",
    "2. **Defines a Template:** It provides a template or a common structure that subclasses should adhere to. This means that abstract superclasses often declare abstract methods, which are methods that have no implementation in the superclass but must be implemented by concrete subclasses.\n",
    "\n",
    "\n",
    "3. **May Contain Common Functionality:** Abstract superclasses may include common methods and attributes that are shared among multiple subclasses. This promotes code reusability and helps maintain consistency across subclasses.\n",
    "\n",
    "\n",
    "4. **Forcing a Contract:** By defining abstract methods, abstract superclasses force concrete subclasses to implement these methods, ensuring that certain functionality is available in all subclasses.\n",
    "\n",
    "\n",
    "5. **Example:** In Python, you can create an abstract superclass using the `abc` (Abstract Base Classes) module. Here's an example:"
   ]
  },
  {
   "cell_type": "code",
   "execution_count": 1,
   "id": "a966defe",
   "metadata": {},
   "outputs": [],
   "source": [
    "from abc import ABC, abstractmethod\n",
    "\n",
    "class Shape(ABC):  # Abstract superclass\n",
    "    @abstractmethod\n",
    "    def area(self):\n",
    "        pass\n",
    "\n",
    "class Circle(Shape):  # Concrete subclass\n",
    "    def __init__(self, radius):\n",
    "        self.radius = radius\n",
    "\n",
    "    def area(self):\n",
    "        return 3.14 * self.radius ** 2\n",
    "\n",
    "class Square(Shape):  # Concrete subclass\n",
    "    def __init__(self, side_length):\n",
    "        self.side_length = side_length\n",
    "\n",
    "    def area(self):\n",
    "        return self.side_length ** 2\n"
   ]
  },
  {
   "cell_type": "code",
   "execution_count": 2,
   "id": "6801cfec",
   "metadata": {},
   "outputs": [
    {
     "name": "stdout",
     "output_type": "stream",
     "text": [
      "Toyota Camry's engine is started.\n",
      "Honda CBR 1000RR's engine is stopped.\n"
     ]
    }
   ],
   "source": [
    "# Real example:\n",
    "\n",
    "# Abstract superclass for vehicles\n",
    "class Vehicle(ABC):\n",
    "    def __init__(self, make, model):\n",
    "        self.make = make\n",
    "        self.model = model\n",
    "\n",
    "    @abstractmethod\n",
    "    def start_engine(self):\n",
    "        pass\n",
    "\n",
    "    @abstractmethod\n",
    "    def stop_engine(self):\n",
    "        pass\n",
    "\n",
    "# Concrete subclass for a car\n",
    "class Car(Vehicle):\n",
    "    def start_engine(self):\n",
    "        return f\"{self.make} {self.model}'s engine is started.\"\n",
    "\n",
    "    def stop_engine(self):\n",
    "        return f\"{self.make} {self.model}'s engine is stopped.\"\n",
    "\n",
    "# Concrete subclass for a motorcycle\n",
    "class Motorcycle(Vehicle):\n",
    "    def start_engine(self):\n",
    "        return f\"{self.make} {self.model}'s engine is started.\"\n",
    "\n",
    "    def stop_engine(self):\n",
    "        return f\"{self.make} {self.model}'s engine is stopped.\"\n",
    "\n",
    "# Create instances of concrete subclasses\n",
    "my_car = Car(\"Toyota\", \"Camry\")\n",
    "my_motorcycle = Motorcycle(\"Honda\", \"CBR 1000RR\")\n",
    "\n",
    "# Call methods on instances\n",
    "print(my_car.start_engine())  # Output: Toyota Camry's engine is started.\n",
    "print(my_motorcycle.stop_engine())  # Output: Honda CBR 1000RR's engine is stopped.\n"
   ]
  },
  {
   "cell_type": "markdown",
   "id": "2acb5011",
   "metadata": {},
   "source": [
    "# 2. What happens when a class statement's top level contains a basic assignment statement?"
   ]
  },
  {
   "cell_type": "markdown",
   "id": "b208aa25",
   "metadata": {},
   "source": [
    "**Ans:**"
   ]
  },
  {
   "cell_type": "markdown",
   "id": "64d522b3",
   "metadata": {},
   "source": [
    "When a class statement's top level contains a basic assignment statement, it defines a class-level attribute or variable shared by all instances of that class. These attributes are essentially class-level variables, and they are not specific to any instance of the class. \n",
    "\n",
    "For example, if you have a class Car and you define a variable like fuel_type directly inside the class (not inside any method), it becomes a class-level variable. All instances of Car will share this variable, but each instance can have its own value for it.\n",
    "\n",
    "Here's how it works:"
   ]
  },
  {
   "cell_type": "code",
   "execution_count": 3,
   "id": "e78c91fa",
   "metadata": {},
   "outputs": [
    {
     "name": "stdout",
     "output_type": "stream",
     "text": [
      "42\n",
      "Instance 1\n",
      "Instance 2\n"
     ]
    }
   ],
   "source": [
    "class MyClass:\n",
    "    class_variable = 42  # This is a class-level attribute\n",
    "\n",
    "    def __init__(self, instance_variable):\n",
    "        self.instance_variable = instance_variable  # This is an instance-level attribute\n",
    "\n",
    "# Creating instances of MyClass\n",
    "obj1 = MyClass(\"Instance 1\")\n",
    "obj2 = MyClass(\"Instance 2\")\n",
    "\n",
    "# Accessing class-level and instance-level attributes\n",
    "print(MyClass.class_variable)  # Accessing class-level attribute\n",
    "# Output: 42\n",
    "\n",
    "print(obj1.instance_variable)  # Accessing instance-level attribute for obj1\n",
    "# Output: Instance 1\n",
    "\n",
    "print(obj2.instance_variable)  # Accessing instance-level attribute for obj2\n",
    "# Output: Instance 2\n"
   ]
  },
  {
   "cell_type": "markdown",
   "id": "acb8515a",
   "metadata": {},
   "source": [
    "In the example above:\n",
    "\n",
    "- `class_variable` is a class-level attribute defined at the top level of the class statement. It is shared by all instances of `MyClass`.\n",
    "- `instance_variable` is an instance-level attribute defined in the constructor (`__init__`) and is specific to each instance of `MyClass`.\n",
    "\n",
    "Class-level attributes are shared among all instances of the class and can be accessed using the class name or any instance of the class. They are typically used for storing data or values that are common to all instances of the class."
   ]
  },
  {
   "cell_type": "code",
   "execution_count": 4,
   "id": "c397b82b",
   "metadata": {},
   "outputs": [
    {
     "name": "stdout",
     "output_type": "stream",
     "text": [
      "Total persons created: 3\n"
     ]
    }
   ],
   "source": [
    "# Real example:\n",
    "\n",
    "class Person:\n",
    "    # Class-level variable to keep track of the total number of people\n",
    "    total_persons = 0\n",
    "\n",
    "    def __init__(self, name, age):\n",
    "        self.name = name\n",
    "        self.age = age\n",
    "        # When a new person is created, increment the total_persons count\n",
    "        Person.total_persons += 1\n",
    "\n",
    "    def display_info(self):\n",
    "        print(f\"Name: {self.name}, Age: {self.age}\")\n",
    "\n",
    "# Creating instances of Person\n",
    "person1 = Person(\"Alice\", 30)\n",
    "person2 = Person(\"Bob\", 25)\n",
    "person3 = Person(\"Charlie\", 35)\n",
    "\n",
    "# Accessing the class-level variable\n",
    "print(f\"Total persons created: {Person.total_persons}\")"
   ]
  },
  {
   "cell_type": "markdown",
   "id": "7f61f5b3",
   "metadata": {},
   "source": [
    "# 3. Why does a class need to manually call a superclass's `__init__` method?"
   ]
  },
  {
   "cell_type": "markdown",
   "id": "b4db6789",
   "metadata": {},
   "source": [
    "**Ans:**"
   ]
  },
  {
   "cell_type": "markdown",
   "id": "e0abccba",
   "metadata": {},
   "source": [
    "In Python, when you create a subclass (a class that inherits from another class, the superclass), it does not automatically call the superclass's `__init__` method unless you explicitly instruct it to do so. This behavior provides flexibility and allows you to customize the initialization process for the subclass.\n",
    "\n",
    "Here are a few reasons why a class needs to manually call a superclass's `__init__` method:\n",
    "\n",
    "1. Customization: Sometimes, a subclass may need to perform additional initialization steps specific to its own attributes or behavior. By calling the superclass's `__init__` method explicitly, you can ensure that the superclass's initialization logic is executed before or after the subclass's custom initialization.\n",
    "\n",
    "2. Parameter Passing: If the superclass's `__init__` method expects certain parameters or arguments, the subclass needs to provide these arguments when calling the superclass's constructor. This allows the superclass to initialize its attributes properly.\n",
    "\n",
    "3. Multiple Inheritance: In cases of multiple inheritance (where a class inherits from more than one superclass), explicitly calling the `__init__` methods of all relevant superclasses becomes essential to ensure that each superclass is properly initialized."
   ]
  },
  {
   "cell_type": "code",
   "execution_count": 5,
   "id": "0d8e7bb5",
   "metadata": {},
   "outputs": [
    {
     "name": "stdout",
     "output_type": "stream",
     "text": [
      "Name: Buddy, Breed: Golden Retriever\n"
     ]
    }
   ],
   "source": [
    "class Animal:\n",
    "    def __init__(self, name):\n",
    "        self.name = name\n",
    "\n",
    "class Dog(Animal):\n",
    "    def __init__(self, name, breed):\n",
    "        # Call the superclass's __init__ method explicitly\n",
    "        super().__init__(name)\n",
    "        self.breed = breed\n",
    "\n",
    "# Creating an instance of Dog\n",
    "dog = Dog(\"Buddy\", \"Golden Retriever\")\n",
    "print(f\"Name: {dog.name}, Breed: {dog.breed}\")\n"
   ]
  },
  {
   "cell_type": "markdown",
   "id": "8af7f049",
   "metadata": {},
   "source": [
    "In this example, `Dog` is a subclass of `Animal`. By calling `super().__init__(name)`, we ensure that the `Animal` superclass is properly initialized before initializing the `Dog` subclass with its specific attribute, `breed`.\n",
    "\n",
    "So, the manual call to the superclass's `__init__` method allows for a controlled and organized initialization process in Python classes, providing flexibility and customization when needed."
   ]
  },
  {
   "cell_type": "markdown",
   "id": "24febecd",
   "metadata": {},
   "source": [
    "# 4. How can you augment, instead of completely replacing, an inherited method?"
   ]
  },
  {
   "cell_type": "markdown",
   "id": "31363fa0",
   "metadata": {},
   "source": [
    "**Ans:**"
   ]
  },
  {
   "cell_type": "markdown",
   "id": "93fb53a1",
   "metadata": {},
   "source": [
    "To augment, or extend, an inherited method in Python without completely replacing it, you can follow these steps:\n",
    "\n",
    "1. Call the Parent Method: In the child class, you first call the parent class's method that you want to augment using the `super()` function. This ensures that the parent's behavior is preserved.\n",
    "\n",
    "2. Extend the Behavior: After calling the parent method, you can add additional behavior or functionality specific to the child class."
   ]
  },
  {
   "cell_type": "code",
   "execution_count": 6,
   "id": "d5c097b2",
   "metadata": {},
   "outputs": [
    {
     "name": "stdout",
     "output_type": "stream",
     "text": [
      "Hello, I'm the parent!\n",
      "And I'm the child!\n"
     ]
    }
   ],
   "source": [
    "class Parent:\n",
    "    def greet(self):\n",
    "        print(\"Hello, I'm the parent!\")\n",
    "\n",
    "class Child(Parent):\n",
    "    def greet(self):\n",
    "        super().greet()  # Call the parent's greet method\n",
    "        print(\"And I'm the child!\")\n",
    "\n",
    "# Creating an instance of the Child class\n",
    "child = Child()\n",
    "\n",
    "# Calling the augmented greet method\n",
    "child.greet()\n"
   ]
  },
  {
   "cell_type": "markdown",
   "id": "11f5ffe0",
   "metadata": {},
   "source": [
    "\n",
    "In this example, the `Child` class inherits from the `Parent` class and overrides the `greet` method. However, it also calls the `greet` method of the parent class using `super().greet()` before adding its own message. This way, the child class augments the behavior of the parent class's method instead of replacing it completely.\n",
    "\n",
    "When you run this code, it will output:\n",
    "\n",
    "\n",
    "    Hello, I'm the parent!\n",
    "    And I'm the child!\n",
    "\n",
    "\n",
    "So, by calling the parent method using `super()` and then extending the behavior, you can augment the inherited method while preserving the original functionality from the parent class."
   ]
  },
  {
   "cell_type": "markdown",
   "id": "c643af60",
   "metadata": {},
   "source": [
    "# 5. How is the local scope of a class different from that of a function?"
   ]
  },
  {
   "cell_type": "markdown",
   "id": "8fbf4470",
   "metadata": {},
   "source": [
    "**Ans:**"
   ]
  },
  {
   "cell_type": "markdown",
   "id": "aa0500bb",
   "metadata": {},
   "source": [
    "While both local variables in functions and instance variables in classes are used for data storage, they differ in terms of their lifespan, scope, and purpose within the context of a program."
   ]
  },
  {
   "cell_type": "markdown",
   "id": "e28742ba",
   "metadata": {},
   "source": [
    "The local scope of a class and that of a function differ in several ways:\n",
    "\n",
    "1. **Duration**: Function local variables exist only during the function's execution, while class instance variables persist as long as the object exists.\n",
    "\n",
    "2. **Access**: Function local variables are accessible only within the function, whereas instance variables can be accessed throughout the class.\n",
    "\n",
    "3. **Namespace**: Function local variables have function-level namespaces, while instance variables have object-level namespaces.\n",
    "\n",
    "4. **Scope**: Function local variables have limited scope within the function, while instance variables have wider object-level scope.\n",
    "\n",
    "5. **Purpose**: Function local variables are typically used for temporary storage, while instance variables store data associated with and available to instances of the class."
   ]
  },
  {
   "cell_type": "code",
   "execution_count": null,
   "id": "d3e83e2a",
   "metadata": {},
   "outputs": [],
   "source": []
  }
 ],
 "metadata": {
  "kernelspec": {
   "display_name": "Python 3 (ipykernel)",
   "language": "python",
   "name": "python3"
  },
  "language_info": {
   "codemirror_mode": {
    "name": "ipython",
    "version": 3
   },
   "file_extension": ".py",
   "mimetype": "text/x-python",
   "name": "python",
   "nbconvert_exporter": "python",
   "pygments_lexer": "ipython3",
   "version": "3.9.7"
  }
 },
 "nbformat": 4,
 "nbformat_minor": 5
}
