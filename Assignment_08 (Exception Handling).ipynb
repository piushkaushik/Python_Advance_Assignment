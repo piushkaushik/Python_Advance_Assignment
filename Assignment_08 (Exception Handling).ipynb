{
 "cells": [
  {
   "cell_type": "markdown",
   "id": "6754aa8d",
   "metadata": {},
   "source": [
    "# Q1. What are the two latest user-defined exception constraints in Python 3.X?"
   ]
  },
  {
   "cell_type": "markdown",
   "id": "0a0e5f33",
   "metadata": {},
   "source": [
    "**Ans:**"
   ]
  },
  {
   "cell_type": "markdown",
   "id": "0bcfb6c9",
   "metadata": {},
   "source": [
    "The two latest user-defined exception constraints in Python 3.X are:\n",
    "\n",
    "**Contextual exceptions:** Contextual exceptions allow you to define exceptions that are specific to a particular context, such as a function or module. This can make your code more readable and maintainable.\n",
    "\n",
    "**Pattern matching:** Python 3.10 introduces pattern matching, which can be used to define exceptions that match specific patterns. This can be useful for handling different types of errors in a uniform way."
   ]
  },
  {
   "cell_type": "markdown",
   "id": "50924ead",
   "metadata": {},
   "source": [
    "# Q2. How are class-based exceptions that have been raised matched to handlers?"
   ]
  },
  {
   "cell_type": "markdown",
   "id": "9cf676c2",
   "metadata": {},
   "source": [
    "**Ans:**"
   ]
  },
  {
   "cell_type": "markdown",
   "id": "1211efdf",
   "metadata": {},
   "source": [
    "In Python, class-based exceptions are raised using the `raise` statement, and they can be caught and handled by exception handlers using `try` and `except` blocks. When an exception is raised, the Python interpreter searches for an appropriate exception handler to process it. \n",
    "\n",
    "Here's how class-based exceptions are matched to handlers:"
   ]
  },
  {
   "cell_type": "code",
   "execution_count": 3,
   "id": "35f937a6",
   "metadata": {},
   "outputs": [
    {
     "name": "stdout",
     "output_type": "stream",
     "text": [
      "Error: division by zero\n"
     ]
    }
   ],
   "source": [
    "try:\n",
    "    # Code that may raise an exception\n",
    "    result = 10 / 0\n",
    "except ZeroDivisionError as e:\n",
    "    # Handling a specific exception\n",
    "    print(\"Error:\", e)\n",
    "except ArithmeticError as e:\n",
    "    # Handling a more general exception\n",
    "    print(\"Arithmetic error:\", e)"
   ]
  },
  {
   "cell_type": "markdown",
   "id": "56b37dd8",
   "metadata": {},
   "source": [
    "In this example, if a `ZeroDivisionError` occurs, the first `except` block will catch it. If any other `ArithmeticError` occurs, the second `except` block will handle it because `ZeroDivisionError` is a subclass of `ArithmeticError`.\n",
    "\n",
    "\n",
    "\n",
    "\n",
    "This allows you to write more specific handlers for particular exceptions and more general handlers for broader categories of exceptions, providing a mechanism to gracefully handle unexpected errors in your code."
   ]
  },
  {
   "cell_type": "markdown",
   "id": "7513b863",
   "metadata": {},
   "source": [
    "# Q3. Describe two methods for attaching context information to exception artefacts."
   ]
  },
  {
   "cell_type": "markdown",
   "id": "4028d077",
   "metadata": {},
   "source": [
    "**Ans:**"
   ]
  },
  {
   "cell_type": "markdown",
   "id": "1fa8238a",
   "metadata": {},
   "source": [
    "1. **Using `str.format()` or F-Strings:**\n",
    "   You can include additional context information in your exception messages by formatting the error message string using `str.format()` or F-Strings (Python 3.6+). This allows you to embed variables or relevant information directly into the error message."
   ]
  },
  {
   "cell_type": "code",
   "execution_count": 5,
   "id": "c92933ba",
   "metadata": {},
   "outputs": [
    {
     "ename": "ValueError",
     "evalue": "ValueError: Unable to convert 'not_an_integer' to int - invalid literal for int() with base 10: 'not_an_integer'",
     "output_type": "error",
     "traceback": [
      "\u001b[1;31m---------------------------------------------------------------------------\u001b[0m",
      "\u001b[1;31mValueError\u001b[0m                                Traceback (most recent call last)",
      "\u001b[1;32m~\\AppData\\Local\\Temp/ipykernel_4376/252284943.py\u001b[0m in \u001b[0;36m<module>\u001b[1;34m\u001b[0m\n\u001b[0;32m      2\u001b[0m     \u001b[1;31m# Code that may raise an exception\u001b[0m\u001b[1;33m\u001b[0m\u001b[1;33m\u001b[0m\u001b[0m\n\u001b[1;32m----> 3\u001b[1;33m     \u001b[0mvalue\u001b[0m \u001b[1;33m=\u001b[0m \u001b[0mint\u001b[0m\u001b[1;33m(\u001b[0m\u001b[1;34m\"not_an_integer\"\u001b[0m\u001b[1;33m)\u001b[0m\u001b[1;33m\u001b[0m\u001b[1;33m\u001b[0m\u001b[0m\n\u001b[0m\u001b[0;32m      4\u001b[0m \u001b[1;32mexcept\u001b[0m \u001b[0mValueError\u001b[0m \u001b[1;32mas\u001b[0m \u001b[0me\u001b[0m\u001b[1;33m:\u001b[0m\u001b[1;33m\u001b[0m\u001b[1;33m\u001b[0m\u001b[0m\n",
      "\u001b[1;31mValueError\u001b[0m: invalid literal for int() with base 10: 'not_an_integer'",
      "\nDuring handling of the above exception, another exception occurred:\n",
      "\u001b[1;31mValueError\u001b[0m                                Traceback (most recent call last)",
      "\u001b[1;32m~\\AppData\\Local\\Temp/ipykernel_4376/252284943.py\u001b[0m in \u001b[0;36m<module>\u001b[1;34m\u001b[0m\n\u001b[0;32m      5\u001b[0m     \u001b[1;31m# Attach context information to the exception message\u001b[0m\u001b[1;33m\u001b[0m\u001b[1;33m\u001b[0m\u001b[0m\n\u001b[0;32m      6\u001b[0m     \u001b[0merror_msg\u001b[0m \u001b[1;33m=\u001b[0m \u001b[1;34mf\"ValueError: Unable to convert 'not_an_integer' to int - {e}\"\u001b[0m\u001b[1;33m\u001b[0m\u001b[1;33m\u001b[0m\u001b[0m\n\u001b[1;32m----> 7\u001b[1;33m     \u001b[1;32mraise\u001b[0m \u001b[0mValueError\u001b[0m\u001b[1;33m(\u001b[0m\u001b[0merror_msg\u001b[0m\u001b[1;33m)\u001b[0m\u001b[1;33m\u001b[0m\u001b[1;33m\u001b[0m\u001b[0m\n\u001b[0m",
      "\u001b[1;31mValueError\u001b[0m: ValueError: Unable to convert 'not_an_integer' to int - invalid literal for int() with base 10: 'not_an_integer'"
     ]
    }
   ],
   "source": [
    "try:\n",
    "    # Code that may raise an exception\n",
    "    value = int(\"not_an_integer\")\n",
    "except ValueError as e:\n",
    "    # Attach context information to the exception message\n",
    "    error_msg = f\"ValueError: Unable to convert 'not_an_integer' to int - {e}\"\n",
    "    raise ValueError(error_msg)"
   ]
  },
  {
   "cell_type": "markdown",
   "id": "5a3f1260",
   "metadata": {},
   "source": [
    "2. **Using the `traceback` Module:**\n",
    "   The `traceback` module provides functions for working with Python stack traces. You can use this module to extract and include stack trace information in your exception."
   ]
  },
  {
   "cell_type": "code",
   "execution_count": 9,
   "id": "60a30149",
   "metadata": {},
   "outputs": [
    {
     "ename": "ZeroDivisionError",
     "evalue": "ZeroDivisionError: division by zero\n\nTraceback:\nTraceback (most recent call last):\n  File \"C:\\Users\\piush\\AppData\\Local\\Temp/ipykernel_4376/459326722.py\", line 5, in <module>\n    result = 10 / 0\nZeroDivisionError: division by zero\n",
     "output_type": "error",
     "traceback": [
      "\u001b[1;31m---------------------------------------------------------------------------\u001b[0m",
      "\u001b[1;31mZeroDivisionError\u001b[0m                         Traceback (most recent call last)",
      "\u001b[1;32m~\\AppData\\Local\\Temp/ipykernel_4376/459326722.py\u001b[0m in \u001b[0;36m<module>\u001b[1;34m\u001b[0m\n\u001b[0;32m      4\u001b[0m     \u001b[1;31m# Code that may raise an exception\u001b[0m\u001b[1;33m\u001b[0m\u001b[1;33m\u001b[0m\u001b[0m\n\u001b[1;32m----> 5\u001b[1;33m     \u001b[0mresult\u001b[0m \u001b[1;33m=\u001b[0m \u001b[1;36m10\u001b[0m \u001b[1;33m/\u001b[0m \u001b[1;36m0\u001b[0m\u001b[1;33m\u001b[0m\u001b[1;33m\u001b[0m\u001b[0m\n\u001b[0m\u001b[0;32m      6\u001b[0m \u001b[1;32mexcept\u001b[0m \u001b[0mZeroDivisionError\u001b[0m \u001b[1;32mas\u001b[0m \u001b[0me\u001b[0m\u001b[1;33m:\u001b[0m\u001b[1;33m\u001b[0m\u001b[1;33m\u001b[0m\u001b[0m\n",
      "\u001b[1;31mZeroDivisionError\u001b[0m: division by zero",
      "\nDuring handling of the above exception, another exception occurred:\n",
      "\u001b[1;31mZeroDivisionError\u001b[0m                         Traceback (most recent call last)",
      "\u001b[1;32m~\\AppData\\Local\\Temp/ipykernel_4376/459326722.py\u001b[0m in \u001b[0;36m<module>\u001b[1;34m\u001b[0m\n\u001b[0;32m      7\u001b[0m     \u001b[1;31m# Get the current traceback and attach it to the exception\u001b[0m\u001b[1;33m\u001b[0m\u001b[1;33m\u001b[0m\u001b[0m\n\u001b[0;32m      8\u001b[0m     \u001b[0mtb_info\u001b[0m \u001b[1;33m=\u001b[0m \u001b[0mtraceback\u001b[0m\u001b[1;33m.\u001b[0m\u001b[0mformat_exc\u001b[0m\u001b[1;33m(\u001b[0m\u001b[1;33m)\u001b[0m\u001b[1;33m\u001b[0m\u001b[1;33m\u001b[0m\u001b[0m\n\u001b[1;32m----> 9\u001b[1;33m     \u001b[1;32mraise\u001b[0m \u001b[0mZeroDivisionError\u001b[0m\u001b[1;33m(\u001b[0m\u001b[1;34mf\"ZeroDivisionError: {e}\\n\\nTraceback:\\n{tb_info}\"\u001b[0m\u001b[1;33m)\u001b[0m\u001b[1;33m\u001b[0m\u001b[1;33m\u001b[0m\u001b[0m\n\u001b[0m",
      "\u001b[1;31mZeroDivisionError\u001b[0m: ZeroDivisionError: division by zero\n\nTraceback:\nTraceback (most recent call last):\n  File \"C:\\Users\\piush\\AppData\\Local\\Temp/ipykernel_4376/459326722.py\", line 5, in <module>\n    result = 10 / 0\nZeroDivisionError: division by zero\n"
     ]
    }
   ],
   "source": [
    "import traceback\n",
    "\n",
    "try:\n",
    "    # Code that may raise an exception\n",
    "    result = 10 / 0\n",
    "except ZeroDivisionError as e:\n",
    "    # Get the current traceback and attach it to the exception\n",
    "    tb_info = traceback.format_exc()\n",
    "    raise ZeroDivisionError(f\"ZeroDivisionError: {e}\\n\\nTraceback:\\n{tb_info}\")"
   ]
  },
  {
   "cell_type": "markdown",
   "id": "81199138",
   "metadata": {},
   "source": [
    "# Q4. Describe two methods for specifying the text of an exception object's error message."
   ]
  },
  {
   "cell_type": "markdown",
   "id": "c91d8594",
   "metadata": {},
   "source": [
    "**Ans:**"
   ]
  },
  {
   "cell_type": "markdown",
   "id": "4b7359cf",
   "metadata": {},
   "source": [
    "1. **Using the Exception Class Constructor:**\n",
    "   You can set the error message when raising an exception by passing a string argument to the constructor of the exception class. This string argument becomes the error message associated with the exception. \n",
    "   \n",
    "For example:"
   ]
  },
  {
   "cell_type": "code",
   "execution_count": 12,
   "id": "c1fe8e59",
   "metadata": {},
   "outputs": [
    {
     "name": "stdout",
     "output_type": "stream",
     "text": [
      "Enter your age: -25\n",
      "Error: Age cannot be negative\n"
     ]
    }
   ],
   "source": [
    "try:\n",
    "    # Code that may raise an exception\n",
    "    age = int(input(\"Enter your age: \"))\n",
    "    if age < 0:\n",
    "        raise ValueError(\"Age cannot be negative\")\n",
    "except ValueError as e:\n",
    "    # The error message is specified when the exception is raised\n",
    "    print(f\"Error: {e}\")\n"
   ]
  },
  {
   "cell_type": "markdown",
   "id": "27cb533d",
   "metadata": {},
   "source": [
    "2. **Using Custom Exception Classes:**\n",
    "   You can create custom exception classes by inheriting from Python's built-in `Exception` class and defining an `__init__` method to set the error message. This allows you to create exceptions with customized error messages. \n",
    "   \n",
    " For example:"
   ]
  },
  {
   "cell_type": "code",
   "execution_count": 15,
   "id": "1d3ede8d",
   "metadata": {},
   "outputs": [
    {
     "name": "stdout",
     "output_type": "stream",
     "text": [
      "Enter your age: -25\n",
      "Error: Value cannot be negative: -25\n"
     ]
    }
   ],
   "source": [
    "class NegativeValueError(Exception):\n",
    "    def __init__(self, value):\n",
    "        self.value = value\n",
    "        self.message = f\"Value cannot be negative: {value}\"\n",
    "        super().__init__(self.message)\n",
    "\n",
    "try:\n",
    "    # Code that may raise a custom exception\n",
    "    age = int(input(\"Enter your age: \"))\n",
    "    if age < 0:\n",
    "        raise NegativeValueError(age)\n",
    "except NegativeValueError as e:\n",
    "    # The custom error message is set in the exception class constructor\n",
    "    print(f\"Error: {e.message}\")"
   ]
  },
  {
   "cell_type": "markdown",
   "id": "0ff165ed",
   "metadata": {},
   "source": [
    "# Q5. Why do you no longer use string-based exceptions?"
   ]
  },
  {
   "cell_type": "markdown",
   "id": "4889324d",
   "metadata": {},
   "source": [
    "**Ans:**"
   ]
  },
  {
   "cell_type": "markdown",
   "id": "02dbf664",
   "metadata": {},
   "source": [
    "While string-based exceptions were used in older Python versions, class-based exceptions have become the standard due to their advantages in terms of structure, extensibility, readability, and consistency. Python 3 and later versions encourage developers to use class-based exceptions for more effective and maintainable exception handling."
   ]
  },
  {
   "cell_type": "code",
   "execution_count": null,
   "id": "319d65b5",
   "metadata": {},
   "outputs": [],
   "source": []
  }
 ],
 "metadata": {
  "kernelspec": {
   "display_name": "Python 3 (ipykernel)",
   "language": "python",
   "name": "python3"
  },
  "language_info": {
   "codemirror_mode": {
    "name": "ipython",
    "version": 3
   },
   "file_extension": ".py",
   "mimetype": "text/x-python",
   "name": "python",
   "nbconvert_exporter": "python",
   "pygments_lexer": "ipython3",
   "version": "3.9.7"
  }
 },
 "nbformat": 4,
 "nbformat_minor": 5
}
