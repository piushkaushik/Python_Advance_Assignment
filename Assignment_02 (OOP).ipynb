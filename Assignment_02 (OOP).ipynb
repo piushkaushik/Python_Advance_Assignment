{
 "cells": [
  {
   "cell_type": "markdown",
   "id": "ff4f5b91",
   "metadata": {},
   "source": [
    "# Q1. What is the relationship between classes and modules?"
   ]
  },
  {
   "cell_type": "markdown",
   "id": "0219fd59",
   "metadata": {},
   "source": [
    "**Ans:**"
   ]
  },
  {
   "cell_type": "markdown",
   "id": "8ec420a4",
   "metadata": {},
   "source": [
    "In Python, both classes and modules are fundamental concepts, but they serve different purposes and have different relationships:\n",
    "\n",
    "1. **Modules**:\n",
    "   - Modules are files containing Python code.\n",
    "   - They are used to organize code into reusable, separate files.\n",
    "   - Modules can contain functions, classes, and variables.\n",
    "   - Modules can be imported into other Python scripts or modules using the `import` statement.\n",
    "   - Modules provide a way to encapsulate and group related code.\n",
    "\n",
    "2. **Classes**:\n",
    "   - Classes are templates for creating objects in object-oriented programming (OOP).\n",
    "   - They define the structure and behavior of objects.\n",
    "   - Classes can have attributes (variables) and methods (functions).\n",
    "   - Objects created from classes are instances of those classes.\n",
    "   - Classes help achieve abstraction, encapsulation, and inheritance in OOP.\n",
    "\n",
    "**Relationship**:\n",
    "- You can define classes within modules, meaning you can place class definitions inside a Python module file. This allows you to organize your classes and reuse them across different scripts.\n",
    "- Modules can also contain functions and variables that are not part of any class.\n",
    "- When you want to use a class defined in a module, you import that module into your script using `import`. For example, if you have a module named `my_module` containing a class `MyClass`, you can use it in another script like this: `import my_module`.\n"
   ]
  },
  {
   "cell_type": "markdown",
   "id": "37dc6cbf",
   "metadata": {},
   "source": [
    "**Modules are used for organizing and reusing code, while classes define the blueprint for creating objects with specific behaviors and attributes. Modules can contain classes, and classes can be imported from modules when needed.**"
   ]
  },
  {
   "cell_type": "markdown",
   "id": "0878550c",
   "metadata": {},
   "source": [
    "### Example:"
   ]
  },
  {
   "cell_type": "markdown",
   "id": "294c9c67",
   "metadata": {},
   "source": [
    "Suppose you have a Python module named shapes.py, which defines a class called Circle. The Circle class calculates the area of a circle based on its radius."
   ]
  },
  {
   "cell_type": "markdown",
   "id": "19645cdb",
   "metadata": {},
   "source": [
    "**shapes.py**:\n",
    "```python\n",
    "import math\n",
    "\n",
    "class Circle:\n",
    "    def __init__(self, radius):\n",
    "        self.radius = radius\n",
    "\n",
    "    def calculate_area(self):\n",
    "        return math.pi * self.radius**2\n",
    "```\n",
    "\n",
    "Now, you can create another Python script that uses this `Circle` class by importing it from the `shapes` module."
   ]
  },
  {
   "cell_type": "markdown",
   "id": "7e05987d",
   "metadata": {},
   "source": [
    "Now, you can create another Python script that uses this Circle class by importing it from the shapes module."
   ]
  },
  {
   "cell_type": "code",
   "execution_count": 1,
   "id": "25944508",
   "metadata": {},
   "outputs": [],
   "source": [
    "from shapes import Circle"
   ]
  },
  {
   "cell_type": "code",
   "execution_count": 11,
   "id": "257aa267",
   "metadata": {},
   "outputs": [
    {
     "name": "stdout",
     "output_type": "stream",
     "text": [
      "The area of the circle is: 102.070\n"
     ]
    }
   ],
   "source": [
    "# Create a circle object with a radius of 5\n",
    "my_circle = Circle(5.7)\n",
    "\n",
    "# Calculate and print the area of the circle\n",
    "area = my_circle.calculate_area()\n",
    "print(f\"The area of the circle is: {area:.3f}\")"
   ]
  },
  {
   "cell_type": "markdown",
   "id": "ffb359c6",
   "metadata": {},
   "source": [
    "# Q2. How do you make instances and classes?"
   ]
  },
  {
   "cell_type": "markdown",
   "id": "19976bc9",
   "metadata": {},
   "source": [
    "**Ans:**"
   ]
  },
  {
   "cell_type": "markdown",
   "id": "96c29be6",
   "metadata": {},
   "source": [
    "In Python, you create instances (objects) and classes as follows:\n",
    "\n",
    "1. **Creating a Class:**\n",
    "   To create a class, you use the `class` keyword followed by the class name. Here's a simple example:"
   ]
  },
  {
   "cell_type": "code",
   "execution_count": 13,
   "id": "28229b9e",
   "metadata": {},
   "outputs": [],
   "source": [
    "class MyClass:\n",
    "    def __init__(self, attribute1, attribute2):\n",
    "        self.attribute1 = attribute1\n",
    "        self.attribute2 = attribute2"
   ]
  },
  {
   "cell_type": "markdown",
   "id": "e5dd2f7c",
   "metadata": {},
   "source": [
    "2. **Creating Instances (Objects):**\n",
    "   To create instances (objects) of a class, you call the class as if it were a function. This invokes the constructor (`__init__`) to create an object. Here's how you create instances:"
   ]
  },
  {
   "cell_type": "code",
   "execution_count": 14,
   "id": "a92c0654",
   "metadata": {},
   "outputs": [],
   "source": [
    "obj1 = MyClass(\"value1\", \"value2\")\n",
    "obj2 = MyClass(\"another_value1\", \"another_value2\")"
   ]
  },
  {
   "cell_type": "markdown",
   "id": "fe4c93d3",
   "metadata": {},
   "source": [
    "3. **Accessing Attributes:**\n",
    "   You can access the attributes of an instance using dot notation:"
   ]
  },
  {
   "cell_type": "code",
   "execution_count": 15,
   "id": "274e69a2",
   "metadata": {},
   "outputs": [
    {
     "name": "stdout",
     "output_type": "stream",
     "text": [
      "value1\n",
      "another_value2\n"
     ]
    }
   ],
   "source": [
    "print(obj1.attribute1)  # Accessing attribute1 of obj1\n",
    "print(obj2.attribute2)  # Accessing attribute2 of obj2"
   ]
  },
  {
   "cell_type": "markdown",
   "id": "cf84cb3a",
   "metadata": {},
   "source": [
    "# Q3. Where and how should be class attributes created?"
   ]
  },
  {
   "cell_type": "markdown",
   "id": "efb2020d",
   "metadata": {},
   "source": [
    "**Ans:**"
   ]
  },
  {
   "cell_type": "markdown",
   "id": "02c9d8e1",
   "metadata": {},
   "source": [
    "Class attributes in Python should be created within the class definition, typically outside of any methods, and at the top level of the class. They are defined directly within the class block but outside of any instance methods."
   ]
  },
  {
   "cell_type": "markdown",
   "id": "b8957195",
   "metadata": {},
   "source": [
    "#### Example:"
   ]
  },
  {
   "cell_type": "code",
   "execution_count": 18,
   "id": "d0482945",
   "metadata": {},
   "outputs": [],
   "source": [
    "class Dog:\n",
    "    # Class attribute\n",
    "    species = \"Canis familiaris\"\n",
    "\n",
    "    def __init__(self, name, breed):\n",
    "        # Instance attributes\n",
    "        self.name = name\n",
    "        self.breed = breed\n",
    "\n",
    "    def bark(self):\n",
    "        return f\"{self.name} barks!\""
   ]
  },
  {
   "cell_type": "code",
   "execution_count": 19,
   "id": "eababacc",
   "metadata": {},
   "outputs": [],
   "source": [
    "# Creating instances of the Dog class\n",
    "dog1 = Dog(\"Buddy\", \"Golden Retriever\")\n",
    "dog2 = Dog(\"Max\", \"German Shepherd\")"
   ]
  },
  {
   "cell_type": "code",
   "execution_count": 20,
   "id": "9e2e0697",
   "metadata": {},
   "outputs": [
    {
     "name": "stdout",
     "output_type": "stream",
     "text": [
      "Buddy is a Golden Retriever\n",
      "Max is a German Shepherd\n"
     ]
    }
   ],
   "source": [
    "# Accessing instance attributes\n",
    "print(f\"{dog1.name} is a {dog1.breed}\")\n",
    "print(f\"{dog2.name} is a {dog2.breed}\")"
   ]
  },
  {
   "cell_type": "code",
   "execution_count": 21,
   "id": "038a6c27",
   "metadata": {},
   "outputs": [
    {
     "name": "stdout",
     "output_type": "stream",
     "text": [
      "They are all Canis familiaris\n"
     ]
    }
   ],
   "source": [
    "# Accessing the class attribute\n",
    "print(f\"They are all {Dog.species}\")"
   ]
  },
  {
   "cell_type": "code",
   "execution_count": 23,
   "id": "88e05f7d",
   "metadata": {},
   "outputs": [
    {
     "name": "stdout",
     "output_type": "stream",
     "text": [
      "Buddy barks!\n",
      "Max barks!\n"
     ]
    }
   ],
   "source": [
    "# Calling an instance method\n",
    "print(dog1.bark())\n",
    "print(dog2.bark())"
   ]
  },
  {
   "cell_type": "markdown",
   "id": "33d75223",
   "metadata": {},
   "source": [
    "# Q4. Where and how are instance attributes created?"
   ]
  },
  {
   "cell_type": "markdown",
   "id": "54a2f540",
   "metadata": {},
   "source": [
    "**Ans:**"
   ]
  },
  {
   "cell_type": "markdown",
   "id": "2e1b8211",
   "metadata": {},
   "source": [
    "Instance attributes are created within the constructor method of a class, typically named `__init__`. They are specific to each instance of the class and store unique data for each object. Here's how instance attributes are created and assigned values:"
   ]
  },
  {
   "cell_type": "code",
   "execution_count": 26,
   "id": "6e23d5ac",
   "metadata": {},
   "outputs": [],
   "source": [
    "class MyClass:\n",
    "    def __init__(self, attribute1, attribute2):\n",
    "        # Create and assign instance attributes\n",
    "        self.attribute1 = attribute1\n",
    "        self.attribute2 = attribute2"
   ]
  },
  {
   "cell_type": "markdown",
   "id": "a65513d1",
   "metadata": {},
   "source": [
    "# Q5. What does the term &quot;self&quot; in a Python class mean?"
   ]
  },
  {
   "cell_type": "markdown",
   "id": "b1882773",
   "metadata": {},
   "source": [
    "**Ans:**"
   ]
  },
  {
   "cell_type": "markdown",
   "id": "f28d128d",
   "metadata": {},
   "source": [
    "In Python, `self` is a conventionally used name for the first parameter of instance methods in a class. It refers to the instance of the class itself. When you create an instance of a class and call a method on that instance, Python automatically passes the instance as the first argument to the method, and by convention, that parameter is named `self`."
   ]
  },
  {
   "cell_type": "code",
   "execution_count": 30,
   "id": "f4c041b6",
   "metadata": {},
   "outputs": [],
   "source": [
    "class MyClass:\n",
    "    \n",
    "    def __init__(self, value):\n",
    "        self.value = value  # 'self' refers to the instance being created\n",
    "\n",
    "    def print_value(self):\n",
    "        print(self.value)"
   ]
  },
  {
   "cell_type": "code",
   "execution_count": 31,
   "id": "9eee3fdf",
   "metadata": {},
   "outputs": [],
   "source": [
    "obj = MyClass(\"Piyush\")"
   ]
  },
  {
   "cell_type": "code",
   "execution_count": 34,
   "id": "174791a6",
   "metadata": {},
   "outputs": [
    {
     "data": {
      "text/plain": [
       "'Piyush'"
      ]
     },
     "execution_count": 34,
     "metadata": {},
     "output_type": "execute_result"
    }
   ],
   "source": [
    "obj.value"
   ]
  },
  {
   "cell_type": "markdown",
   "id": "2b3825f9",
   "metadata": {},
   "source": [
    "# Q6. How does a Python class handle operator overloading?"
   ]
  },
  {
   "cell_type": "markdown",
   "id": "e6ceaeef",
   "metadata": {},
   "source": [
    "**Ans:**"
   ]
  },
  {
   "cell_type": "markdown",
   "id": "09a875aa",
   "metadata": {},
   "source": [
    "In Python, operator overloading allows you to define how operators should behave when used with instances of your custom classes. You can customize the behavior of operators like `+`, `-`, `*`, `/`, `==`, and more for your objects.\n",
    "\n",
    "To implement operator overloading, you need to define special methods in your class. These methods have double underscores (`__`) as prefixes and are called \"magic\" or \"dunder\" methods. Here are some common ones:\n",
    "\n",
    "1. `__init__`: This method initializes objects of your class.\n",
    "2. `__str__`: This method returns a string representation of your object.\n",
    "3. `__add__`: Defines the behavior of the `+` operator.\n",
    "4. `__sub__`: Defines the behavior of the `-` operator.\n",
    "5. `__mul__`: Defines the behavior of the `*` operator.\n",
    "6. `__truediv__`: Defines the behavior of the `/` operator.\n",
    "7. `__eq__`: Defines how objects are compared using `==`."
   ]
  },
  {
   "cell_type": "code",
   "execution_count": 35,
   "id": "124158d1",
   "metadata": {},
   "outputs": [],
   "source": [
    "class Vector:\n",
    "    def __init__(self, x, y):\n",
    "        self.x = x\n",
    "        self.y = y\n",
    "\n",
    "    def __str__(self):\n",
    "        return f\"({self.x}, {self.y})\"\n",
    "\n",
    "    def __add__(self, other):\n",
    "        if isinstance(other, Vector):\n",
    "            return Vector(self.x + other.x, self.y + other.y)\n",
    "        else:\n",
    "            raise TypeError(\"Unsupported operand type\")\n",
    "\n",
    "    def __eq__(self, other):\n",
    "        if isinstance(other, Vector):\n",
    "            return self.x == other.x and self.y == other.y\n",
    "        return False"
   ]
  },
  {
   "cell_type": "code",
   "execution_count": 56,
   "id": "8b110115",
   "metadata": {},
   "outputs": [],
   "source": [
    "# Creating vectors\n",
    "v1 = Vector(3, 2)\n",
    "v2 = Vector(-6, 4)"
   ]
  },
  {
   "cell_type": "code",
   "execution_count": 57,
   "id": "9fd04100",
   "metadata": {},
   "outputs": [
    {
     "name": "stdout",
     "output_type": "stream",
     "text": [
      "(-3, 6)\n"
     ]
    }
   ],
   "source": [
    "# Adding vectors\n",
    "print(v1 + v2)  # Calls __add__"
   ]
  },
  {
   "cell_type": "code",
   "execution_count": 53,
   "id": "024234c0",
   "metadata": {},
   "outputs": [
    {
     "name": "stdout",
     "output_type": "stream",
     "text": [
      "False\n"
     ]
    }
   ],
   "source": [
    "# Comparing vectors\n",
    "print(v1 == v2)   # Calls __eq__ "
   ]
  },
  {
   "cell_type": "markdown",
   "id": "672206f3",
   "metadata": {},
   "source": [
    "# Q7. When do you consider allowing operator overloading of your classes?"
   ]
  },
  {
   "cell_type": "markdown",
   "id": "b5f080f1",
   "metadata": {},
   "source": [
    "**Ans:**"
   ]
  },
  {
   "cell_type": "markdown",
   "id": "69383e53",
   "metadata": {},
   "source": [
    "Operator overloading in classes should be considered when you want to provide custom behavior for standard Python operators (e.g., +, -, *, /) when applied to objects of your class. You might consider allowing operator overloading in your classes for the following reasons:\n",
    "\n",
    "1. **Clarity and Usability:** Overloading operators can make your code more intuitive and readable. For example, if you have a `Vector` class, allowing the use of `+` for vector addition makes mathematical operations more natural to read and understand.\n",
    "\n",
    "2. **Consistency:** Overloading operators can help maintain consistency in your code. If your class represents a mathematical concept like vectors or matrices, overloading operators like `+`, `-`, `*`, and `/` allows users to perform operations as they would with built-in types.\n",
    "\n",
    "3. **Customization:** Operator overloading allows you to customize the behavior of operators for your specific class. You can define how instances of your class should respond to these operations, which can be very powerful for creating domain-specific classes.\n",
    "\n",
    "4. **Integration:** If your class interacts with other classes or libraries that use standard Python operators, overloading those operators can make the integration smoother and more seamless.\n",
    "\n",
    "However, you should also consider the potential for confusion and misuse when overloading operators. It's essential to follow Python conventions and ensure that the overloaded operators behave consistently with users' expectations. Proper documentation is crucial when implementing operator overloading to avoid surprises for other developers using your classes."
   ]
  },
  {
   "cell_type": "markdown",
   "id": "8f9a6db1",
   "metadata": {},
   "source": [
    "# Q8. What is the most popular form of operator overloading?"
   ]
  },
  {
   "cell_type": "markdown",
   "id": "614c6d51",
   "metadata": {},
   "source": [
    "**Ans:**"
   ]
  },
  {
   "cell_type": "markdown",
   "id": "9c790be5",
   "metadata": {},
   "source": [
    "The most popular form of operator overloading in Python is the overloading of arithmetic operators (+, -, *, /) for mathematical operations on objects of custom classes. This allows you to define how instances of your class should behave when operated on with these operators. For example, you can create classes like `Vector`, `Matrix`, or `ComplexNumber` and define custom methods for addition, subtraction, multiplication, and division."
   ]
  },
  {
   "cell_type": "code",
   "execution_count": 62,
   "id": "95b591f4",
   "metadata": {},
   "outputs": [
    {
     "name": "stdout",
     "output_type": "stream",
     "text": [
      "(4, 6)\n"
     ]
    }
   ],
   "source": [
    "class Vector:\n",
    "    def __init__(self, x, y):\n",
    "        self.x = x\n",
    "        self.y = y\n",
    "    \n",
    "    def __add__(self, other):\n",
    "        if isinstance(other, Vector):\n",
    "            return Vector(self.x + other.x, self.y + other.y)\n",
    "        else:\n",
    "            raise ValueError(\"Can only add two Vector instances.\")\n",
    "    \n",
    "    def __str__(self):\n",
    "        return f\"({self.x}, {self.y})\"\n",
    "    \n",
    "# Usage\n",
    "v1 = Vector(1, 2)\n",
    "v2 = Vector(3, 4)\n",
    "result = v1 + v2\n",
    "print(result) \n"
   ]
  },
  {
   "cell_type": "markdown",
   "id": "603a9c7e",
   "metadata": {},
   "source": [
    "In this example, the `__add__` method is overloaded to define the behavior of the + operator when used with Vector instances."
   ]
  },
  {
   "cell_type": "markdown",
   "id": "63823e3d",
   "metadata": {},
   "source": [
    "# Q9. What are the two most important concepts to grasp in order to comprehend Python OOP code?"
   ]
  },
  {
   "cell_type": "markdown",
   "id": "4676c33b",
   "metadata": {},
   "source": [
    "**Ans:**"
   ]
  },
  {
   "cell_type": "markdown",
   "id": "66938e7c",
   "metadata": {},
   "source": [
    "The two most important concepts to grasp in order to comprehend Python Object-Oriented Programming (OOP) code are:"
   ]
  },
  {
   "cell_type": "markdown",
   "id": "19f08cc1",
   "metadata": {},
   "source": [
    "1. **Classes and Objects**: Think of a class like a blueprint for creating objects. Objects are like instances of the blueprint. Classes define what attributes (like data) and methods (like functions) objects will have.\n",
    "\n",
    "2. **Inheritance and Polymorphism**: Inheritance is like making a new class by taking qualities from an existing class. Polymorphism means objects from different classes can respond to the same action in their own unique way. These concepts help in reusing and customizing code."
   ]
  },
  {
   "cell_type": "code",
   "execution_count": null,
   "id": "f53762aa",
   "metadata": {},
   "outputs": [],
   "source": []
  }
 ],
 "metadata": {
  "kernelspec": {
   "display_name": "Python 3 (ipykernel)",
   "language": "python",
   "name": "python3"
  },
  "language_info": {
   "codemirror_mode": {
    "name": "ipython",
    "version": 3
   },
   "file_extension": ".py",
   "mimetype": "text/x-python",
   "name": "python",
   "nbconvert_exporter": "python",
   "pygments_lexer": "ipython3",
   "version": "3.9.7"
  }
 },
 "nbformat": 4,
 "nbformat_minor": 5
}
