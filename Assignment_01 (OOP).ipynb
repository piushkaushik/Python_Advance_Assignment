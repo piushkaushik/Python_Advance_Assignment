{
 "cells": [
  {
   "cell_type": "markdown",
   "id": "161fff5a",
   "metadata": {},
   "source": [
    "# Q1. What is the purpose of Python's OOP?"
   ]
  },
  {
   "cell_type": "markdown",
   "id": "6aa01ea2",
   "metadata": {},
   "source": [
    "**Ans:**"
   ]
  },
  {
   "cell_type": "markdown",
   "id": "bf82662e",
   "metadata": {},
   "source": [
    "The purpose of Python's Object-Oriented Programming (OOP) is to provide a programming paradigm that allows you to structure your code in a way that models real-world objects and their interactions. OOP in Python, as in many other programming languages, is based on the concept of \"objects,\" which are instances of classes."
   ]
  },
  {
   "cell_type": "markdown",
   "id": "c24c287f",
   "metadata": {},
   "source": [
    "1. **Modularity**: Python's OOP encourages breaking code into reusable, smaller components by encapsulating data and behavior within objects.\n",
    "\n",
    "2. **Abstraction**: OOP lets you create abstract data types and classes that model real-world entities, focusing on what objects do rather than how they do it.\n",
    "\n",
    "3. **Encapsulation**: It bundles data and methods within objects, hiding internal details, enhancing code security, and providing a clear interface.\n",
    "\n",
    "4. **Inheritance**: Python's OOP allows the creation of new classes based on existing ones, promoting code reuse and hierarchy construction.\n",
    "\n",
    "5. **Polymorphism**: It enables treating objects of different classes as if they were objects of a common base class, enhancing code flexibility.\n",
    "\n",
    "6. **Organization**: OOP helps in structuring code logically, making it easier to manage and comprehend.\n",
    "\n",
    "7. **Simplicity**: Python's OOP features contribute to code that is more intuitive, readable, and maintainable, especially in larger projects."
   ]
  },
  {
   "cell_type": "markdown",
   "id": "5c97410d",
   "metadata": {},
   "source": [
    "# Q2. Where does an inheritance search look for an attribute?"
   ]
  },
  {
   "cell_type": "markdown",
   "id": "df16e9a6",
   "metadata": {},
   "source": [
    "**Ans:**"
   ]
  },
  {
   "cell_type": "markdown",
   "id": "c8dba205",
   "metadata": {},
   "source": [
    "In Python, when you access an attribute (a variable or method) of an object, the inheritance search, also known as the method resolution order (MRO), follows a specific order to look for that attribute. The search order is as follows:\n",
    "\n",
    "1. **Instance**: Python first checks if the attribute exists in the instance of the object itself. If it's found, the search stops, and that attribute is used.\n",
    "\n",
    "2. **Class**: If the attribute is not found in the instance, Python looks for it in the class of the object. If the attribute is defined in the class, it is used.\n",
    "\n",
    "3. **Base Classes (Superclasses)**: If the attribute is not found in the class, Python continues the search in the base classes (superclasses) of the class. The search follows the method resolution order defined by the C3 Linearization algorithm, which ensures a consistent and predictable order for multiple inheritance scenarios.\n",
    "\n",
    "4. **Built-in Object**: If the attribute is not found in the instance, class, or base classes, Python finally checks in the built-in object, which serves as the ultimate fallback.\n",
    "\n",
    "This search order allows for the concept of inheritance, where attributes and methods defined in a superclass can be inherited and overridden by subclasses. It ensures that the most specific implementation of an attribute or method is used while maintaining a hierarchy of classes."
   ]
  },
  {
   "cell_type": "markdown",
   "id": "fa2a040c",
   "metadata": {},
   "source": [
    "Example:"
   ]
  },
  {
   "cell_type": "code",
   "execution_count": 9,
   "id": "3e44ddbe",
   "metadata": {},
   "outputs": [],
   "source": [
    "# Suppose we have a class hierarchy for different animals:\n",
    "\n",
    "class Animal:\n",
    "    def __init__(self, name):\n",
    "        self.name = name\n",
    "\n",
    "    def speak(self):\n",
    "        pass\n",
    "\n",
    "class Dog(Animal):\n",
    "    def speak(self):\n",
    "        return \"Woof!\"\n",
    "\n",
    "class Cat(Animal):\n",
    "    def speak(self):\n",
    "        return \"Meow!\"\n",
    "\n",
    "class Fish(Animal):\n",
    "    pass\n"
   ]
  },
  {
   "cell_type": "code",
   "execution_count": 10,
   "id": "806e1be3",
   "metadata": {},
   "outputs": [],
   "source": [
    "# Now, let's create instances of these classes and explore attribute lookup:\n",
    "\n",
    "# Create instances\n",
    "dog = Dog(\"Rover\")\n",
    "cat = Cat(\"Whiskers\")\n",
    "fish = Fish(\"Nemo\")"
   ]
  },
  {
   "cell_type": "code",
   "execution_count": 11,
   "id": "25580967",
   "metadata": {},
   "outputs": [
    {
     "name": "stdout",
     "output_type": "stream",
     "text": [
      "Rover\n"
     ]
    }
   ],
   "source": [
    "# Accessing the 'name' attribute\n",
    "print(dog.name)"
   ]
  },
  {
   "cell_type": "code",
   "execution_count": 12,
   "id": "1b8cb859",
   "metadata": {},
   "outputs": [
    {
     "name": "stdout",
     "output_type": "stream",
     "text": [
      "Meow!\n"
     ]
    }
   ],
   "source": [
    "# Accessing the 'speak' method\n",
    "print(cat.speak())"
   ]
  },
  {
   "cell_type": "code",
   "execution_count": 13,
   "id": "e9c37360",
   "metadata": {},
   "outputs": [
    {
     "name": "stdout",
     "output_type": "stream",
     "text": [
      "Nemo\n"
     ]
    }
   ],
   "source": [
    "# Attribute lookup in inheritance\n",
    "print(fish.name) "
   ]
  },
  {
   "cell_type": "code",
   "execution_count": 14,
   "id": "949ecb94",
   "metadata": {},
   "outputs": [
    {
     "name": "stdout",
     "output_type": "stream",
     "text": [
      "None\n"
     ]
    }
   ],
   "source": [
    "# fish object does not have a 'speak' method,\n",
    "# but it inherits it from the Animal class\n",
    "print(fish.speak())  # No output, it's an empty method in Animal"
   ]
  },
  {
   "cell_type": "markdown",
   "id": "2a5c7994",
   "metadata": {},
   "source": [
    "# Q3. How do you distinguish between a class object and an instance object?"
   ]
  },
  {
   "cell_type": "markdown",
   "id": "e5e80097",
   "metadata": {},
   "source": [
    "**Ans:**"
   ]
  },
  {
   "cell_type": "markdown",
   "id": "f705f2ba",
   "metadata": {},
   "source": [
    "In Python, a class object and an instance object are two distinct concepts, and they serve different purposes within the object-oriented programming paradigm. Here's how you can distinguish between them:\n",
    "\n",
    "1. **Class Object**:\n",
    "\n",
    "   - **Definition**: A class object is the blueprint or template for creating instances of that class. It defines the structure and behavior of objects of that class.\n",
    "   \n",
    "   - **Usage**: You typically work with class objects when defining the attributes, methods, and behaviors that will be shared among all instances created from that class.\n",
    "   \n",
    "   - **Access**: You access class attributes and methods using the class name itself, followed by dot notation. For example, `ClassName.attribute` or `ClassName.method()`.\n",
    "   \n",
    "   - **Example**: `class Dog:` defines a class object named \"Dog.\" It contains attributes and methods that describe the characteristics and behavior of dogs. `Dog.bark()` accesses a class method.\n",
    "\n",
    "2. **Instance Object**:\n",
    "\n",
    "   - **Definition**: An instance object is a specific, individual object created from a class. It represents a unique instance of that class, with its own set of attribute values.\n",
    "   \n",
    "   - **Usage**: You work with instance objects when you want to interact with or manipulate specific instances of a class. Each instance can have its own attribute values.\n",
    "   \n",
    "   - **Access**: You access instance attributes and methods using an instance of the class. For example, `instance_name.attribute` or `instance_name.method()`.\n",
    "   \n",
    "   - **Example**: `my_dog = Dog()` creates an instance object of the \"Dog\" class named \"my_dog.\" You can access its specific attributes like `my_dog.name` and call its methods like `my_dog.bark()`.\n"
   ]
  },
  {
   "cell_type": "markdown",
   "id": "d81f050e",
   "metadata": {},
   "source": [
    "# Q4. What makes the first argument in a class’s method function special?"
   ]
  },
  {
   "cell_type": "markdown",
   "id": "b6ee1743",
   "metadata": {},
   "source": [
    "**Ans:**"
   ]
  },
  {
   "cell_type": "markdown",
   "id": "63407e1b",
   "metadata": {},
   "source": [
    "In Python, the first argument in a class's method function is typically named `self`, although you can technically use any valid variable name. However, `self` is a convention widely followed by Python programmers, and it serves a special purpose:\n",
    "\n",
    "\n",
    "1. **Reference to the Instance**: The `self` argument represents the instance of the class itself. When you call a method on an instance, Python automatically passes that instance as the first argument (i.e., `self`) to the method. This allows the method to access and manipulate the attributes and methods of that specific instance.\n",
    "\n",
    "\n",
    "2. **Access to Instance Attributes**: Inside a class method, you can access the instance's attributes using `self.attribute_name`. This enables you to work with the unique data associated with the instance.\n",
    "\n",
    "\n",
    "3. **Access to Other Methods**: `self` also allows you to call other methods of the class within the method. For example, you can use `self.some_method()` to call another method defined within the same class."
   ]
  },
  {
   "cell_type": "code",
   "execution_count": 46,
   "id": "faab8eb0",
   "metadata": {},
   "outputs": [],
   "source": [
    "# example to illustrate the use of `self` in a class method:\n",
    "\n",
    "class MyClass:\n",
    "    def __init__(self, value):\n",
    "        self.value = value\n",
    "\n",
    "    def display_value(self):\n",
    "        print(f\"The value is: {self.value}\")\n",
    "\n",
    "    def increment_value(self, increment):\n",
    "        self.value += increment"
   ]
  },
  {
   "cell_type": "code",
   "execution_count": 47,
   "id": "2126e780",
   "metadata": {},
   "outputs": [],
   "source": [
    "# Creating an instance of MyClass\n",
    "obj = MyClass(5)"
   ]
  },
  {
   "cell_type": "code",
   "execution_count": 48,
   "id": "9e123402",
   "metadata": {},
   "outputs": [
    {
     "name": "stdout",
     "output_type": "stream",
     "text": [
      "The value is: 5\n"
     ]
    }
   ],
   "source": [
    "# Calling methods using 'self'\n",
    "\n",
    "obj.display_value()"
   ]
  },
  {
   "cell_type": "code",
   "execution_count": 20,
   "id": "77dff13c",
   "metadata": {},
   "outputs": [
    {
     "name": "stdout",
     "output_type": "stream",
     "text": [
      "The value is: 8\n"
     ]
    }
   ],
   "source": [
    "obj.increment_value(3)\n",
    "obj.display_value()"
   ]
  },
  {
   "cell_type": "code",
   "execution_count": null,
   "id": "100b34a8",
   "metadata": {},
   "outputs": [],
   "source": []
  },
  {
   "cell_type": "markdown",
   "id": "c21efd04",
   "metadata": {},
   "source": [
    "# Q5. What is the purpose of the __init__ method?"
   ]
  },
  {
   "cell_type": "markdown",
   "id": "96dea4bb",
   "metadata": {},
   "source": [
    "**Ans:**"
   ]
  },
  {
   "cell_type": "markdown",
   "id": "57d876f0",
   "metadata": {},
   "source": [
    "The `__init__` method in Python is a special method, also known as a **constructor**, and its primary purpose is to initialize the attributes (or properties) of an object when an instance of a class is created. It is one of the most commonly used methods in Python classes and plays a fundamental role in the object-oriented programming paradigm. \n",
    "\n",
    "\n",
    "Here's the main purpose and role of the `__init__` method:\n",
    "\n",
    "1. **Initialization of Attributes**: The primary purpose of the `__init__` method is to initialize the attributes of an object. It allows you to set the initial state of an object by assigning values to its attributes. These attributes can represent the object's properties or characteristics.\n",
    "\n",
    "\n",
    "2. **Customized Initialization**: You can define the behavior of object creation by providing arguments to the `__init__` method. This allows you to create instances with customized initial values. The `self` parameter is used to refer to the instance itself, and you can set instance-specific attribute values using it.\n",
    "\n",
    "\n",
    "3. **Automatic Invocation**: The `__init__` method is automatically called when you create an instance of a class. For example, if you have a class `MyClass`, when you do `obj = MyClass()`, the `__init__` method of `MyClass` is executed to initialize the attributes of the `obj` instance.\n",
    "\n",
    "\n",
    "4. **Attributes Binding**: It binds the attribute values to the instance, making them accessible within other methods of the class. These attributes can then be used to store and manage data associated with the object."
   ]
  },
  {
   "cell_type": "code",
   "execution_count": 33,
   "id": "e990891d",
   "metadata": {},
   "outputs": [],
   "source": [
    "# a simple example to illustrate the purpose of the __init__ method:\n",
    "\n",
    "class Person:\n",
    "    def __init__(self, name, age, email):\n",
    "        self.name = name\n",
    "        self.age = age\n",
    "        self.email = email\n",
    "\n",
    "# creating instance\n",
    "\n",
    "person1 = Person(\"piyush\", 30, \"piush@gmail.com\")\n",
    "person2 = Person(\"Ram\", 27, \"ram@gmail.com\")\n",
    "person3 = Person(\"Shyam\", 25, \"shyam@gmail.com\")"
   ]
  },
  {
   "cell_type": "code",
   "execution_count": 34,
   "id": "6c751099",
   "metadata": {},
   "outputs": [
    {
     "name": "stdout",
     "output_type": "stream",
     "text": [
      "piyush\n"
     ]
    }
   ],
   "source": [
    "print(person1.name)"
   ]
  },
  {
   "cell_type": "code",
   "execution_count": 35,
   "id": "14280356",
   "metadata": {},
   "outputs": [
    {
     "name": "stdout",
     "output_type": "stream",
     "text": [
      "ram@gmail.com\n"
     ]
    }
   ],
   "source": [
    "print(person2.email)"
   ]
  },
  {
   "cell_type": "code",
   "execution_count": 37,
   "id": "3bb4381f",
   "metadata": {},
   "outputs": [
    {
     "name": "stdout",
     "output_type": "stream",
     "text": [
      "25\n"
     ]
    }
   ],
   "source": [
    "print(person3.age)"
   ]
  },
  {
   "cell_type": "code",
   "execution_count": 40,
   "id": "0403c439",
   "metadata": {},
   "outputs": [],
   "source": [
    "# We can modify Instance Attributes\n",
    "\n",
    "person1.name = \"Piyush\""
   ]
  },
  {
   "cell_type": "code",
   "execution_count": 41,
   "id": "90940a4f",
   "metadata": {},
   "outputs": [
    {
     "name": "stdout",
     "output_type": "stream",
     "text": [
      "Piyush\n"
     ]
    }
   ],
   "source": [
    "print(person1.name)"
   ]
  },
  {
   "cell_type": "markdown",
   "id": "cae95613",
   "metadata": {},
   "source": [
    "# Q6. What is the process for creating a class instance?"
   ]
  },
  {
   "cell_type": "markdown",
   "id": "f265c53c",
   "metadata": {},
   "source": [
    "**Ans:**"
   ]
  },
  {
   "cell_type": "markdown",
   "id": "b112cbd6",
   "metadata": {},
   "source": [
    "Here are the steps to create a class instance:\n",
    "\n",
    "1. **Define a Class**: First, you need to define a class. A class is a blueprint or template that describes the attributes and methods that instances of the class will have. Here's an example of a simple class definition:"
   ]
  },
  {
   "cell_type": "code",
   "execution_count": 42,
   "id": "047da275",
   "metadata": {},
   "outputs": [],
   "source": [
    "class MyClass:\n",
    "    def __init__(self, attribute1, attribute2):\n",
    "        self.attribute1 = attribute1\n",
    "        self.attribute2 = attribute2"
   ]
  },
  {
   "cell_type": "markdown",
   "id": "99ebb8bc",
   "metadata": {},
   "source": [
    "2. **Instantiate the Class**: To create an instance of the class, you simply call the class as if it were a function, passing any required arguments to the class's `__init__` method. The `__init__` method initializes the attributes of the instance. Here's how you can create instances of the `MyClass` class:"
   ]
  },
  {
   "cell_type": "code",
   "execution_count": 43,
   "id": "45495696",
   "metadata": {},
   "outputs": [],
   "source": [
    "# Creating instances of MyClass\n",
    "\n",
    "instance1 = MyClass(\"Value1\", 42)\n",
    "instance2 = MyClass(\"Value2\", 99)"
   ]
  },
  {
   "cell_type": "markdown",
   "id": "2ce1d830",
   "metadata": {},
   "source": [
    "3. **Access Instance Attributes and Methods**: Once you've created instances, you can access their attributes and methods using the dot notation (`instance.attribute` or `instance.method()`). For example:"
   ]
  },
  {
   "cell_type": "code",
   "execution_count": 45,
   "id": "0d630c58",
   "metadata": {},
   "outputs": [
    {
     "name": "stdout",
     "output_type": "stream",
     "text": [
      "Value1\n",
      "99\n"
     ]
    }
   ],
   "source": [
    "# Accessing instance attributes\n",
    "\n",
    "print(instance1.attribute1)  # Output: \"Value1\"\n",
    "print(instance2.attribute2)  # Output: 99"
   ]
  },
  {
   "cell_type": "markdown",
   "id": "9243e289",
   "metadata": {},
   "source": [
    "4. **Modify Instance Attributes**: You can modify the attribute values of an instance by assigning new values to them using the dot notation. For example:"
   ]
  },
  {
   "cell_type": "code",
   "execution_count": 54,
   "id": "d45ea7ec",
   "metadata": {},
   "outputs": [],
   "source": [
    "instance1.attribute1 = \"NewValue\""
   ]
  },
  {
   "cell_type": "markdown",
   "id": "dd5687d8",
   "metadata": {},
   "source": [
    "5. **Perform Actions with Instances**: You can perform various actions and operations with your instances, depending on the class's methods and functionality."
   ]
  },
  {
   "cell_type": "markdown",
   "id": "4dab6dec",
   "metadata": {},
   "source": [
    "# Q7. What is the process for creating a class?"
   ]
  },
  {
   "cell_type": "markdown",
   "id": "457519b7",
   "metadata": {},
   "source": [
    "Creating a class in Python involves the following steps:\n",
    "\n",
    "1. **Use the `class` Keyword**: To create a class, start by using the `class` keyword, followed by the name you want to give to your class. The class name should follow Python naming conventions (typically using CamelCase, **starting with an uppercase letter**)."
   ]
  },
  {
   "cell_type": "markdown",
   "id": "8b1736f3",
   "metadata": {},
   "source": [
    "\n",
    "   ```python\n",
    "   class MyClass:\n",
    "       # Class definition goes here\n",
    "   ```"
   ]
  },
  {
   "cell_type": "markdown",
   "id": "c91d8613",
   "metadata": {},
   "source": [
    "2. **Define Class Attributes**: Within the class, define attributes (variables) that will represent the data associated with instances of the class. These attributes can be initialized with default values or set in the constructor method (`__init__`)."
   ]
  },
  {
   "cell_type": "code",
   "execution_count": 56,
   "id": "7a783f36",
   "metadata": {},
   "outputs": [],
   "source": [
    "class MyClass:\n",
    "    class_attribute = \"I am a class attribute\"\n",
    "\n",
    "    def __init__(self, attribute1, attribute2):\n",
    "        self.attribute1 = attribute1\n",
    "        self.attribute2 = attribute2"
   ]
  },
  {
   "cell_type": "markdown",
   "id": "2b853c05",
   "metadata": {},
   "source": [
    "3. **Define Methods**: Methods are functions defined within the class that can perform actions and operations on the class's attributes. Methods should always have `self` as their first parameter to access instance-specific attributes."
   ]
  },
  {
   "cell_type": "markdown",
   "id": "ead0bbb1",
   "metadata": {},
   "source": [
    "\n",
    "   ```python\n",
    "   class MyClass:\n",
    "       def __init__(self, attribute1, attribute2):\n",
    "           self.attribute1 = attribute1\n",
    "           self.attribute2 = attribute2\n",
    "\n",
    "       def method1(self):\n",
    "           # Method logic here\n",
    "   ```"
   ]
  },
  {
   "cell_type": "markdown",
   "id": "20df144c",
   "metadata": {},
   "source": [
    "4. **Create Class Instances**: To create instances (objects) of the class, call the class as if it were a function, passing any required arguments to the `__init__` method. This initializes the attributes for each instance."
   ]
  },
  {
   "cell_type": "code",
   "execution_count": 57,
   "id": "36f935d7",
   "metadata": {},
   "outputs": [],
   "source": [
    "instance1 = MyClass(\"Value1\", \"Value2\")\n",
    "instance2 = MyClass(\"Value3\", \"Value4\")"
   ]
  },
  {
   "cell_type": "markdown",
   "id": "12a51d32",
   "metadata": {},
   "source": [
    "5. **Access Class Members**: You can access class attributes and call class methods using the class name. For instance-specific data, use instances and the dot notation."
   ]
  },
  {
   "cell_type": "code",
   "execution_count": 59,
   "id": "2ce4973d",
   "metadata": {},
   "outputs": [
    {
     "name": "stdout",
     "output_type": "stream",
     "text": [
      "I am a class attribute\n",
      "Value1\n"
     ]
    }
   ],
   "source": [
    "print(MyClass.class_attribute)      # Access class attribute\n",
    "print(instance1.attribute1)         # Access instance attribute\n",
    "# instance1.method1()                 # Call instance method"
   ]
  },
  {
   "cell_type": "markdown",
   "id": "96272a8f",
   "metadata": {},
   "source": [
    "6. **Modify Instance Attributes**: You can modify the values of instance attributes by using the dot notation."
   ]
  },
  {
   "cell_type": "code",
   "execution_count": 60,
   "id": "165b4cce",
   "metadata": {},
   "outputs": [],
   "source": [
    "instance1.attribute1 = \"NewValue\"   # Modify instance attribute"
   ]
  },
  {
   "cell_type": "markdown",
   "id": "0499bb9a",
   "metadata": {},
   "source": [
    "7. **Extend and Customize the Class**: You can further extend the class by adding more attributes and methods, customizing its behavior, or creating subclasses (inheritance) to build upon the existing class."
   ]
  },
  {
   "cell_type": "markdown",
   "id": "f4759162",
   "metadata": {},
   "source": [
    "# Q8. How would you define the superclasses of a class?"
   ]
  },
  {
   "cell_type": "markdown",
   "id": "ec20b380",
   "metadata": {},
   "source": [
    "**Ans:**"
   ]
  },
  {
   "cell_type": "markdown",
   "id": "8b44dd35",
   "metadata": {},
   "source": [
    "In Python, you can define the superclasses (also known as parent classes or base classes) of a class by specifying them within the parentheses after the class name when defining the class. This process is known as class inheritance. Superclasses are the classes from which the current class inherits attributes and methods.\n",
    "\n",
    "Here's how you define superclasses in a class definition:\n",
    "\n",
    "```python\n",
    "class Subclass(Superclass1, Superclass2, ...):\n",
    "    # Class attributes and methods go here\n",
    "```\n",
    "\n",
    "In the code snippet above:\n",
    "\n",
    "- `Subclass` is the name of the subclass you are defining.\n",
    "- `Superclass1`, `Superclass2`, etc., are the names of the superclasses from which `Subclass` inherits.\n",
    "\n",
    "For example, if you have a class hierarchy where `Superclass1` and `Superclass2` are the parent classes, and you want to create a new class `Subclass` that inherits from both of them, you would define it like this:\n",
    "\n",
    "```python\n",
    "class Subclass(Superclass1, Superclass2):\n",
    "    # Subclass attributes and methods go here\n",
    "```\n",
    "\n",
    "In this case, `Subclass` would inherit attributes and methods from both `Superclass1` and `Superclass2`.\n",
    "\n",
    "When a method is called on an instance of `Subclass`, Python will first look for that method within `Subclass`. If it's not found, it will search in `Superclass1`, and then in `Superclass2`, following the method resolution order (MRO) defined by Python's C3 linearization algorithm.\n",
    "\n",
    "This mechanism allows you to create complex class hierarchies and reuse code effectively by inheriting from existing classes."
   ]
  },
  {
   "cell_type": "code",
   "execution_count": 63,
   "id": "6a9a6335",
   "metadata": {},
   "outputs": [],
   "source": [
    "# Example: \n",
    "\n",
    "# Define superclass 1\n",
    "class Superclass1:\n",
    "    def method1(self):\n",
    "        print(\"Method from Superclass1\")\n",
    "\n",
    "# Define superclass 2\n",
    "class Superclass2:\n",
    "    def method2(self):\n",
    "        print(\"Method from Superclass2\")\n",
    "\n",
    "# Define a subclass that inherits from both Superclass1 and Superclass2\n",
    "class Subclass(Superclass1, Superclass2):\n",
    "    def subclass_method(self):\n",
    "        print(\"Method from Subclass\")"
   ]
  },
  {
   "cell_type": "code",
   "execution_count": 64,
   "id": "29833180",
   "metadata": {},
   "outputs": [],
   "source": [
    "# Create an instance of the subclass\n",
    "obj = Subclass()"
   ]
  },
  {
   "cell_type": "code",
   "execution_count": 65,
   "id": "72b0abaf",
   "metadata": {},
   "outputs": [
    {
     "name": "stdout",
     "output_type": "stream",
     "text": [
      "Method from Superclass1\n",
      "Method from Superclass2\n",
      "Method from Subclass\n"
     ]
    }
   ],
   "source": [
    "# Call methods from the superclass and subclass\n",
    "\n",
    "obj.method1()\n",
    "obj.method2()  \n",
    "obj.subclass_method()"
   ]
  },
  {
   "cell_type": "code",
   "execution_count": null,
   "id": "d9e5fc5c",
   "metadata": {},
   "outputs": [],
   "source": []
  }
 ],
 "metadata": {
  "kernelspec": {
   "display_name": "Python 3 (ipykernel)",
   "language": "python",
   "name": "python3"
  },
  "language_info": {
   "codemirror_mode": {
    "name": "ipython",
    "version": 3
   },
   "file_extension": ".py",
   "mimetype": "text/x-python",
   "name": "python",
   "nbconvert_exporter": "python",
   "pygments_lexer": "ipython3",
   "version": "3.9.7"
  }
 },
 "nbformat": 4,
 "nbformat_minor": 5
}
