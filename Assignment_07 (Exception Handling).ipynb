{
 "cells": [
  {
   "cell_type": "markdown",
   "id": "b813f677",
   "metadata": {},
   "source": [
    "# Q1. What is the purpose of the try statement?"
   ]
  },
  {
   "cell_type": "markdown",
   "id": "9c8c6046",
   "metadata": {},
   "source": [
    "**Ans:**"
   ]
  },
  {
   "cell_type": "markdown",
   "id": "093d4669",
   "metadata": {},
   "source": [
    "The `try` statement in Python is used to define a block of code that may potentially raise an exception or error during its execution. Its primary purpose is to handle exceptions gracefully, allowing you to write code that can respond to errors or exceptional conditions without crashing the entire program.\n",
    "\n",
    "Here's how it works:\n",
    "\n",
    "1. The `try` block contains the code that might raise an exception.\n",
    "\n",
    "2. If an exception occurs within the `try` block, Python immediately jumps to the corresponding `except` block(s) that handle that type of exception.\n",
    "\n",
    "3. If no exception occurs, the `except` block(s) are skipped, and the program continues executing after the `try...except` statement.\n",
    "\n",
    "The main purposes of the `try` statement are as follows:\n",
    "\n",
    "1. **Error Handling**: It allows you to catch and handle exceptions, preventing the program from terminating unexpectedly due to errors.\n",
    "\n",
    "2. **Graceful Degradation**: It enables your program to continue executing even when it encounters errors, allowing it to provide useful feedback or take alternative actions.\n",
    "\n",
    "3. **Resource Cleanup**: You can use `try` with the `finally` block to ensure that certain resources (like file handles or network connections) are properly closed or released, regardless of whether an exception occurred."
   ]
  },
  {
   "cell_type": "markdown",
   "id": "14541202",
   "metadata": {},
   "source": [
    "# Q2. What are the two most popular try statement variations?"
   ]
  },
  {
   "cell_type": "markdown",
   "id": "689fbaf0",
   "metadata": {},
   "source": [
    "**Ans:**"
   ]
  },
  {
   "cell_type": "markdown",
   "id": "ca67d8c7",
   "metadata": {},
   "source": [
    "The two most popular variations of the `try` statement in Python are:\n",
    "\n",
    "1. **try...except**: This variation is used to catch and handle exceptions. It allows you to specify one or more `except` blocks to handle different types of exceptions that may occur within the `try` block. \n",
    "\n",
    "Here's an example:"
   ]
  },
  {
   "cell_type": "code",
   "execution_count": 3,
   "id": "2f7c8f2e",
   "metadata": {},
   "outputs": [
    {
     "name": "stdout",
     "output_type": "stream",
     "text": [
      "Division by zero is not allowed.\n"
     ]
    }
   ],
   "source": [
    "try:\n",
    "    # Code that might raise an exception\n",
    "    result = 10 / 0  # This will raise a ZeroDivisionError\n",
    "except ZeroDivisionError:\n",
    "    # Handle the specific exception\n",
    "    print(\"Division by zero is not allowed.\")"
   ]
  },
  {
   "cell_type": "markdown",
   "id": "aab8ddd5",
   "metadata": {},
   "source": [
    "2. **try...except...else**: This variation extends the basic `try...except` structure by adding an `else` block. Code within the `else` block is executed if no exception occurs in the `try` block. It's often used when you want to perform additional actions when no exceptions are raised. \n",
    "\n",
    "Here's an example:"
   ]
  },
  {
   "cell_type": "code",
   "execution_count": 4,
   "id": "b035202d",
   "metadata": {},
   "outputs": [
    {
     "name": "stdout",
     "output_type": "stream",
     "text": [
      "Division successful: 5.0\n"
     ]
    }
   ],
   "source": [
    "try:\n",
    "    # Code that might raise an exception\n",
    "    result = 10 / 2  # This will not raise an exception\n",
    "except ZeroDivisionError:\n",
    "    # Handle the specific exception\n",
    "    print(\"Division by zero is not allowed.\")\n",
    "else:\n",
    "    # Code to execute if no exception occurred\n",
    "    print(\"Division successful:\", result)"
   ]
  },
  {
   "cell_type": "markdown",
   "id": "ae57b24a",
   "metadata": {},
   "source": [
    "# Q3. What is the purpose of the raise statement?"
   ]
  },
  {
   "cell_type": "markdown",
   "id": "8a829bb0",
   "metadata": {},
   "source": [
    "**Ans:**"
   ]
  },
  {
   "cell_type": "markdown",
   "id": "1f53c813",
   "metadata": {},
   "source": [
    "The `raise` statement in Python is used to explicitly raise an exception. It allows you to create custom exceptions or propagate existing ones when a certain condition is met in your code. The primary purposes of the `raise` statement are:\n",
    "\n",
    "1. **Raising Custom Exceptions**: You can use `raise` to create and raise custom exceptions that are specific to your program's requirements. This is often done by defining new exception classes that inherit from the built-in `Exception` class or one of its subclasses. \n",
    "\n",
    "For example:"
   ]
  },
  {
   "cell_type": "code",
   "execution_count": 6,
   "id": "af44620b",
   "metadata": {},
   "outputs": [],
   "source": [
    "class CustomError(Exception):\n",
    "    pass\n",
    "\n",
    "def some_function():\n",
    "    if something_is_wrong:\n",
    "        raise CustomError(\"This is a custom exception.\")"
   ]
  },
  {
   "cell_type": "markdown",
   "id": "2e8cc9bb",
   "metadata": {},
   "source": [
    "2. **Propagating Exceptions**: In some cases, you may want to catch an exception in one part of your code and then re-raise it to let it propagate up the call stack. This can be useful for logging or handling exceptions at a higher level in your application.\n",
    "\n",
    "For example:"
   ]
  },
  {
   "cell_type": "markdown",
   "id": "baf4b778",
   "metadata": {},
   "source": [
    "\n",
    "   ```python\n",
    "   try:\n",
    "       # Some code that might raise an exception\n",
    "   except SpecificError as e:\n",
    "       # Handle the exception\n",
    "       log_error(e)\n",
    "       # Re-raise the same exception\n",
    "       raise\n",
    "   ```"
   ]
  },
  {
   "cell_type": "markdown",
   "id": "f06ca039",
   "metadata": {},
   "source": [
    "3. **Modifying Exceptions**: You can use `raise` to catch an exception and then raise a modified version of it with additional context or information. This allows you to provide more detailed error messages or wrap exceptions to add application-specific details.\n",
    "\n",
    "The `raise` statement is a powerful tool for controlling the flow of your program when exceptions occur, enabling you to handle errors gracefully and provide meaningful feedback to users or developers."
   ]
  },
  {
   "cell_type": "markdown",
   "id": "151001c0",
   "metadata": {},
   "source": [
    "# Q4. What does the assert statement do, and what other statement is it like?"
   ]
  },
  {
   "cell_type": "markdown",
   "id": "0c05c840",
   "metadata": {},
   "source": [
    "**Ans:**"
   ]
  },
  {
   "cell_type": "markdown",
   "id": "f9caa302",
   "metadata": {},
   "source": [
    "The `assert` statement in Python is used for debugging purposes. It tests a condition, and if the condition is `False`, it raises an `AssertionError` exception with an optional error message.\n",
    "\n",
    "Here's the basic syntax of the `assert` statement:\n",
    "\n",
    "```python\n",
    "assert condition, \"Error message\"\n",
    "```\n",
    "\n",
    "- `condition` is the expression that is tested.\n",
    "- `\"Error message\"` (optional) is the message that will be displayed if the condition is `False`. This message helps you identify what went wrong.\n",
    "\n",
    "For example:"
   ]
  },
  {
   "cell_type": "code",
   "execution_count": 7,
   "id": "69d5f2ee",
   "metadata": {},
   "outputs": [
    {
     "ename": "AssertionError",
     "evalue": "x should be equal to 10",
     "output_type": "error",
     "traceback": [
      "\u001b[1;31m---------------------------------------------------------------------------\u001b[0m",
      "\u001b[1;31mAssertionError\u001b[0m                            Traceback (most recent call last)",
      "\u001b[1;32m~\\AppData\\Local\\Temp/ipykernel_12416/4099980179.py\u001b[0m in \u001b[0;36m<module>\u001b[1;34m\u001b[0m\n\u001b[0;32m      1\u001b[0m \u001b[0mx\u001b[0m \u001b[1;33m=\u001b[0m \u001b[1;36m5\u001b[0m\u001b[1;33m\u001b[0m\u001b[1;33m\u001b[0m\u001b[0m\n\u001b[1;32m----> 2\u001b[1;33m \u001b[1;32massert\u001b[0m \u001b[0mx\u001b[0m \u001b[1;33m==\u001b[0m \u001b[1;36m10\u001b[0m\u001b[1;33m,\u001b[0m \u001b[1;34m\"x should be equal to 10\"\u001b[0m\u001b[1;33m\u001b[0m\u001b[1;33m\u001b[0m\u001b[0m\n\u001b[0m",
      "\u001b[1;31mAssertionError\u001b[0m: x should be equal to 10"
     ]
    }
   ],
   "source": [
    "x = 5\n",
    "assert x == 10, \"x should be equal to 10\""
   ]
  },
  {
   "cell_type": "markdown",
   "id": "8a093045",
   "metadata": {},
   "source": [
    "    In this example, the `assert` statement tests if `x` is equal to `10`. Since it's not, it raises an `AssertionError` with the specified error message.\n",
    "\n"
   ]
  },
  {
   "cell_type": "markdown",
   "id": "7ac1424c",
   "metadata": {},
   "source": [
    "**It's important to note that the `assert` statement is typically used for debugging and should not be relied upon for handling runtime errors in production code. When an assertion fails, it indicates a bug in the code that needs to be fixed.**"
   ]
  },
  {
   "cell_type": "markdown",
   "id": "dbbb7774",
   "metadata": {},
   "source": [
    "**What other statement is it like?**\n",
    "\n",
    "The `assert` statement is somewhat similar to the `if` statement, but it's distinct in its purpose. While `if` statements are used for conditional execution of code blocks, `assert` is specifically designed for testing and debugging assertions about the correctness of the program's logic."
   ]
  },
  {
   "cell_type": "markdown",
   "id": "62c6d79f",
   "metadata": {},
   "source": [
    "# Q5. What is the purpose of the with/as argument, and what other statement is it like?"
   ]
  },
  {
   "cell_type": "markdown",
   "id": "7c3ddb66",
   "metadata": {},
   "source": [
    "**Ans:**"
   ]
  },
  {
   "cell_type": "markdown",
   "id": "853a8806",
   "metadata": {},
   "source": [
    "The `with/as` statement in Python is used for simplifying the management of resources, such as file handling or database connections. It's often used with objects that have defined `__enter__` and `__exit__` methods, which define how the resource is acquired and released.\n",
    "\n",
    "The `with` statement creates a context where the resource is acquired when entering the block and automatically released when exiting the block. \n",
    "\n",
    "Here's the basic syntax of the `with/as` statement:\n",
    "\n",
    "```python\n",
    "with expression as variable:\n",
    "    # Code that uses the resource referred to by 'variable'\n",
    "# Resource is automatically released after the block\n",
    "```\n",
    "\n",
    "- `expression` typically creates or returns an object that represents the resource.\n",
    "- `variable` is a name assigned to the resource for use within the block.\n",
    "\n",
    "For example, when working with files, you can use the `with` statement to ensure the file is properly closed:\n"
   ]
  },
  {
   "cell_type": "code",
   "execution_count": 8,
   "id": "1fb39759",
   "metadata": {},
   "outputs": [],
   "source": [
    "with open('example.txt', 'r') as file:\n",
    "    data = file.read()\n",
    "# 'file' is automatically closed after the block"
   ]
  },
  {
   "cell_type": "markdown",
   "id": "b780d2c6",
   "metadata": {},
   "source": [
    "    In this example, the `open` function returns a file object, which is used within the `with` block. When the block is exited, the file is automatically closed, even if an exception occurs."
   ]
  },
  {
   "cell_type": "markdown",
   "id": "c156f945",
   "metadata": {},
   "source": [
    "**what other statement is it like?**\n",
    "\n",
    "The `with/as` statement is similar in purpose to a `try/finally` block, where you acquire a resource in the `try` block and release it in the `finally` block. However, `with/as` provides a more readable and Pythonic way to manage resources, especially when dealing with complex context management."
   ]
  },
  {
   "cell_type": "code",
   "execution_count": null,
   "id": "adf28f88",
   "metadata": {},
   "outputs": [],
   "source": []
  }
 ],
 "metadata": {
  "kernelspec": {
   "display_name": "Python 3 (ipykernel)",
   "language": "python",
   "name": "python3"
  },
  "language_info": {
   "codemirror_mode": {
    "name": "ipython",
    "version": 3
   },
   "file_extension": ".py",
   "mimetype": "text/x-python",
   "name": "python",
   "nbconvert_exporter": "python",
   "pygments_lexer": "ipython3",
   "version": "3.9.7"
  }
 },
 "nbformat": 4,
 "nbformat_minor": 5
}
