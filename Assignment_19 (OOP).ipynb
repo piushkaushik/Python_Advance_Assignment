{
 "cells": [
  {
   "cell_type": "markdown",
   "id": "ed707d1e",
   "metadata": {},
   "source": [
    "# Q1. Define the relationship between a class and its instances. Is it a one-to-one or a one-to-many partnership, for example?"
   ]
  },
  {
   "cell_type": "markdown",
   "id": "554f702e",
   "metadata": {},
   "source": [
    "**Ans:**"
   ]
  },
  {
   "cell_type": "markdown",
   "id": "37a06fa9",
   "metadata": {},
   "source": [
    "The relationship between a class and its instances in object-oriented programming can be described as a one-to-many partnership. \n",
    "\n",
    "\n",
    "A class is like a blueprint or a template that defines the structure, behavior, and attributes that its instances (objects) will have. When you create instances of a class, each instance is an independent object with its own unique set of attributes and values. Therefore, there can be many instances of a class, each representing a distinct object with its own state.\n",
    "\n",
    "\n",
    "In this sense, the relationship is one-to-many because one class can be used to create multiple instances, and each instance is distinct and separate from the others. Each instance can have its own data and can execute methods independently."
   ]
  },
  {
   "cell_type": "markdown",
   "id": "bae5df47",
   "metadata": {},
   "source": [
    "# Q2. What kind of data is held only in an instance?"
   ]
  },
  {
   "cell_type": "markdown",
   "id": "5439881d",
   "metadata": {},
   "source": [
    "**Ans:**"
   ]
  },
  {
   "cell_type": "markdown",
   "id": "db57deb5",
   "metadata": {},
   "source": [
    "In object-oriented programming, data held only in an instance (object) typically includes instance variables or attributes. Instance variables are specific to each instance of a class and store unique data for that particular object. These variables define the object's state and characteristics.\n",
    "\n",
    "For example, consider a class `Car` with attributes like `color`, `make`, and `model`. Each instance of the `Car` class (each car object) will have its own values for these attributes, representing the color, make, and model of that specific car. These values are stored as instance variables and are unique to each car object.\n",
    "\n",
    "Instance methods, on the other hand, can also operate on instance-specific data and can access and modify these instance variables to perform actions or provide functionality specific to that instance.\n",
    "\n",
    "**Data held only in an instance refers to instance variables or attributes that store unique information about an object's state and characteristics, and these variables are distinct for each instance of a class.**"
   ]
  },
  {
   "cell_type": "markdown",
   "id": "f9661d06",
   "metadata": {},
   "source": [
    "# Q3. What kind of knowledge is stored in a class?"
   ]
  },
  {
   "cell_type": "markdown",
   "id": "38573d44",
   "metadata": {},
   "source": [
    "**Ans:**"
   ]
  },
  {
   "cell_type": "markdown",
   "id": "9119ce88",
   "metadata": {},
   "source": [
    "In a class, you store information about the structure and behavior of objects. This includes attributes (object-specific data), methods (object-specific actions), class variables (shared data), class methods (operations related to the class), and static methods (utility functions). Objects created from the class inherit this knowledge."
   ]
  },
  {
   "cell_type": "markdown",
   "id": "480ef9f2",
   "metadata": {},
   "source": [
    "# Q4. What exactly is a method, and how is it different from a regular function?"
   ]
  },
  {
   "cell_type": "markdown",
   "id": "f9e6356e",
   "metadata": {},
   "source": [
    "**Ans:**"
   ]
  },
  {
   "cell_type": "markdown",
   "id": "9e993e57",
   "metadata": {},
   "source": [
    "A method is a function associated with an object. The key difference between a method and a regular function is that methods are defined within the context of a class and are intended to operate on instances (objects) of that class. When you call a method on an object, it has access to the object's attributes and can manipulate its state. Regular functions, on the other hand, are not tied to any specific object or class and operate independently. Methods are typically used for actions that are specific to the objects they belong to, while functions are more general-purpose and can be used in various contexts."
   ]
  },
  {
   "cell_type": "markdown",
   "id": "c13bb792",
   "metadata": {},
   "source": [
    "# Q5. Is inheritance supported in Python, and if so, what is the syntax?"
   ]
  },
  {
   "cell_type": "markdown",
   "id": "9729d9d7",
   "metadata": {},
   "source": [
    "**Ans:**"
   ]
  },
  {
   "cell_type": "markdown",
   "id": "39e947ae",
   "metadata": {},
   "source": [
    "Yes, inheritance is supported in Python. The syntax for defining a subclass that inherits from a superclass is as follows:\n",
    "\n",
    "```python\n",
    "class Subclass(Superclass):\n",
    "    # Subclass-specific attributes and methods go here\n",
    "```\n",
    "\n",
    "In this syntax:\n",
    "\n",
    "- `Subclass` is the name of the new class you want to create, which is the subclass.\n",
    "- `Superclass` is the name of the existing class from which you want to inherit, which is the superclass.\n",
    "- Inside the `Subclass` definition, you can add new attributes and methods specific to the subclass, in addition to those inherited from the superclass.\n",
    "\n",
    "Subclasses inherit attributes and methods from the superclass, which allows for code reuse and the creation of more specialized classes."
   ]
  },
  {
   "cell_type": "markdown",
   "id": "1af1aab2",
   "metadata": {},
   "source": [
    "# Q6. How much encapsulation (making instance or class variables private) does Python support?"
   ]
  },
  {
   "cell_type": "markdown",
   "id": "bded7644",
   "metadata": {},
   "source": [
    "**Ans:**"
   ]
  },
  {
   "cell_type": "markdown",
   "id": "572f2634",
   "metadata": {},
   "source": [
    "Python supports a limited form of encapsulation by using naming conventions rather than strict access control like some other programming languages. Here's how it works:\n",
    "\n",
    "1. **Public:** If a variable or method name starts with an underscore (`_`), it is considered a non-public part of the API. However, it can still be accessed from outside the class.\n",
    "\n",
    "\n",
    "2. **Protected:** Python doesn't have a strict \"protected\" access modifier like some other languages. By convention, variables and methods prefixed with a double underscore (`__`) are considered protected, but they are still accessible if you know the name mangling rules (e.g., `_ClassName__variable`). However, it's generally discouraged to access such attributes directly.\n",
    "\n",
    "\n",
    "3. **Private:** Variables and methods that start with double underscores (`__`) and end with at most one trailing underscore (`_`) are considered private. They undergo name mangling (e.g., `_ClassName__variable`). This makes it harder to access them from outside the class, but they are not entirely private.\n",
    "\n",
    "\n",
    "So, Python supports encapsulation to some extent but relies on naming conventions and developer discipline rather than strict access control. The philosophy is often summarized as \"We are all consenting adults here,\" meaning that developers are trusted to follow conventions and not misuse or access private parts of classes."
   ]
  },
  {
   "cell_type": "markdown",
   "id": "e6f07915",
   "metadata": {},
   "source": [
    "# Q7. How do you distinguish between a class variable and an instance variable?"
   ]
  },
  {
   "cell_type": "markdown",
   "id": "9d49b964",
   "metadata": {},
   "source": [
    "**Ans:**"
   ]
  },
  {
   "cell_type": "markdown",
   "id": "75c8f363",
   "metadata": {},
   "source": [
    "- Class variables are shared across all instances of a class, while instance variables are unique to each instance. The use of self is a key indicator that a variable is an instance variable."
   ]
  },
  {
   "cell_type": "code",
   "execution_count": 3,
   "id": "86d88d1c",
   "metadata": {},
   "outputs": [
    {
     "name": "stdout",
     "output_type": "stream",
     "text": [
      "55\n",
      "55\n"
     ]
    }
   ],
   "source": [
    "# Example for Class Variable:\n",
    "\n",
    "class MyClass:\n",
    "    class_variable = 55\n",
    "\n",
    "obj1 = MyClass()\n",
    "obj2 = MyClass()\n",
    "\n",
    "print(MyClass.class_variable)  # Access using the class name\n",
    "print(obj1.class_variable)     # Access using an instance"
   ]
  },
  {
   "cell_type": "code",
   "execution_count": 2,
   "id": "1f06047a",
   "metadata": {},
   "outputs": [
    {
     "name": "stdout",
     "output_type": "stream",
     "text": [
      "10\n",
      "20\n"
     ]
    }
   ],
   "source": [
    "# Example for Instance Variable::\n",
    "class MyClass:\n",
    "    def __init__(self, value):\n",
    "        self.instance_variable = value\n",
    "\n",
    "obj1 = MyClass(10)\n",
    "obj2 = MyClass(20)\n",
    "\n",
    "print(obj1.instance_variable)  # Access instance variable for obj1\n",
    "print(obj2.instance_variable)  # Access instance variable for obj2"
   ]
  },
  {
   "cell_type": "markdown",
   "id": "9ee54c33",
   "metadata": {},
   "source": [
    "# Q8. When, if ever, can self be included in a class's method definitions?"
   ]
  },
  {
   "cell_type": "markdown",
   "id": "264a7807",
   "metadata": {},
   "source": [
    "**Ans:**"
   ]
  },
  {
   "cell_type": "markdown",
   "id": "7e2c6d8e",
   "metadata": {},
   "source": [
    "In Python, the `self` parameter is included in a class's method definitions for all instance methods. It is a convention in Python to include `self` as the first parameter in method definitions, and it represents the instance of the class that the method is called on. This convention helps Python identify which instance the method should operate on.\n",
    "\n",
    "Here's a typical method definition in a Python class:\n",
    "\n",
    "\n",
    "\n",
    "```python\n",
    "class MyClass:\n",
    "    def my_method(self, arg1, arg2):\n",
    "        # method implementation\n",
    "```\n",
    "\n",
    "\n",
    "In the example above, `my_method` is an instance method, and it takes `self` as its first parameter, followed by any other parameters (`arg1` and `arg2` in this case) that the method might need.\n",
    "\n",
    "So, `self` is included in class method definitions for all instance methods to allow them to access and manipulate the instance's attributes and behavior. It's a fundamental part of Python's object-oriented programming paradigm."
   ]
  },
  {
   "cell_type": "markdown",
   "id": "904fee86",
   "metadata": {},
   "source": [
    "# Q9. What is the difference between the `__add__` and the `__radd__` methods?"
   ]
  },
  {
   "cell_type": "markdown",
   "id": "940de920",
   "metadata": {},
   "source": [
    "**Ans:**"
   ]
  },
  {
   "cell_type": "markdown",
   "id": "a536e38d",
   "metadata": {},
   "source": [
    "-  The `__add__` and `__radd__` methods in Python are used for defining addition operations involving objects of a custom class."
   ]
  },
  {
   "cell_type": "markdown",
   "id": "6ff3a1c3",
   "metadata": {},
   "source": [
    "-  `__add__` is responsible for handling addition when our custom class instance is on the left side of the `+` operator, while `__radd__` handles addition when it's on the right side. \n",
    " \n",
    " \n",
    "- We can implement these methods in our class to customize how addition works with instances of our class. If both methods are defined, Python will prioritize the `__add__` method when both operands are instances of your class."
   ]
  },
  {
   "cell_type": "markdown",
   "id": "69454755",
   "metadata": {},
   "source": [
    "- A simple example that demonstrates the difference between `__add__` and `__radd__` methods:"
   ]
  },
  {
   "cell_type": "code",
   "execution_count": 4,
   "id": "54cb0d7c",
   "metadata": {},
   "outputs": [],
   "source": [
    "class MyNumber:\n",
    "    def __init__(self, value):\n",
    "        self.value = value\n",
    "\n",
    "    def __add__(self, other):\n",
    "        if isinstance(other, MyNumber):\n",
    "            # Custom addition for two MyNumber instances\n",
    "            return MyNumber(self.value + other.value)\n",
    "        else:\n",
    "            return MyNumber(self.value + other)  # Handles integer or float\n",
    "\n",
    "    def __radd__(self, other):\n",
    "        return MyNumber(self.value + other)  # Handles reverse addition\n",
    "\n",
    "    def __str__(self):\n",
    "        return str(self.value)"
   ]
  },
  {
   "cell_type": "code",
   "execution_count": 5,
   "id": "d6b4254f",
   "metadata": {},
   "outputs": [
    {
     "name": "stdout",
     "output_type": "stream",
     "text": [
      "15\n",
      "25\n"
     ]
    }
   ],
   "source": [
    "# Create instances of MyNumber\n",
    "num1 = MyNumber(5)\n",
    "\n",
    "# Using __add__ method\n",
    "result1 = num1 + 10  # Calls num1.__add__(10)\n",
    "print(result1)  \n",
    "\n",
    "# Using __radd__ method\n",
    "result2 = 20 + num1  # Calls num1.__radd__(20)\n",
    "print(result2)  "
   ]
  },
  {
   "cell_type": "markdown",
   "id": "c058a0f1",
   "metadata": {},
   "source": [
    "# Q10. When is it necessary to use a reflection method? When do you not need it, even though you support the operation in question?"
   ]
  },
  {
   "cell_type": "markdown",
   "id": "8f256947",
   "metadata": {},
   "source": [
    "**Ans:**"
   ]
  },
  {
   "cell_type": "markdown",
   "id": "c6191281",
   "metadata": {},
   "source": [
    "Reflection methods, such as `__add__`, `__sub__`, `__mul__`, etc., are used to define custom behavior for built-in operations in Python. They are necessary when we want to provide a specific implementation for these operations for objects of your custom classes. \n",
    "\n",
    "\n",
    "Reflection methods are necessary when we want to customize the behavior of operators for our custom classes, and they are not needed when working with built-in types or when default behavior suffices."
   ]
  },
  {
   "cell_type": "markdown",
   "id": "bbb930df",
   "metadata": {},
   "source": [
    "# Q11. What is the `__iadd__` method called?"
   ]
  },
  {
   "cell_type": "markdown",
   "id": "b5284347",
   "metadata": {},
   "source": [
    "**Ans:**"
   ]
  },
  {
   "cell_type": "markdown",
   "id": "ce162050",
   "metadata": {},
   "source": [
    "- The `_iadd_` method is called the \"in-place addition\" method. \n",
    "- In Python, it is used to define the behavior of the `+=` operator for instances of a custom class."
   ]
  },
  {
   "cell_type": "markdown",
   "id": "4596cf3b",
   "metadata": {},
   "source": [
    "# Q12. Is the `__init__` method inherited by subclasses? What do you do if you need to customize its behavior within a subclass?"
   ]
  },
  {
   "cell_type": "markdown",
   "id": "a92a4842",
   "metadata": {},
   "source": [
    "**Ans:**"
   ]
  },
  {
   "cell_type": "markdown",
   "id": "9840d9e6",
   "metadata": {},
   "source": [
    "Yes, the `__init__` method is inherited by subclasses in Python. When you create a subclass, it inherits the constructor (`__init__`) of its parent class (superclass). If you need to customize the behavior of the `__init__` method within a subclass, you can override it by defining a new `__init__` method in the subclass.\n",
    "\n",
    "To customize the `__init__` method in a subclass, follow these steps:\n",
    "\n",
    "1. Define a new `__init__` method in the subclass with the same name.\n",
    "\n",
    "2. Within the subclass's `__init__` method, you can call the superclass's `__init__` method using `super()` to initialize any attributes inherited from the parent class.\n",
    "\n",
    "3. Customize the initialization process by adding or modifying attributes specific to the subclass.\n"
   ]
  },
  {
   "cell_type": "markdown",
   "id": "cfd58081",
   "metadata": {},
   "source": [
    "***Example to illustrate the concept:***"
   ]
  },
  {
   "cell_type": "code",
   "execution_count": 7,
   "id": "2704b37e",
   "metadata": {},
   "outputs": [
    {
     "name": "stdout",
     "output_type": "stream",
     "text": [
      "Alice\n",
      "25\n"
     ]
    }
   ],
   "source": [
    "class ParentClass:\n",
    "    def __init__(self, name):\n",
    "        self.name = name\n",
    "\n",
    "class ChildClass(ParentClass):\n",
    "    def __init__(self, name, age):\n",
    "        # Call the superclass's __init__ method to initialize the 'name' attribute\n",
    "        super().__init__(name)\n",
    "        \n",
    "        # Customize the initialization by adding a new 'age' attribute\n",
    "        self.age = age\n",
    "\n",
    "# Create an instance of the ChildClass\n",
    "child = ChildClass(\"Alice\", 25)\n",
    "\n",
    "# Access attributes\n",
    "print(child.name)  \n",
    "print(child.age)  \n"
   ]
  },
  {
   "cell_type": "code",
   "execution_count": null,
   "id": "a4ded463",
   "metadata": {},
   "outputs": [],
   "source": []
  }
 ],
 "metadata": {
  "kernelspec": {
   "display_name": "Python 3 (ipykernel)",
   "language": "python",
   "name": "python3"
  },
  "language_info": {
   "codemirror_mode": {
    "name": "ipython",
    "version": 3
   },
   "file_extension": ".py",
   "mimetype": "text/x-python",
   "name": "python",
   "nbconvert_exporter": "python",
   "pygments_lexer": "ipython3",
   "version": "3.9.7"
  }
 },
 "nbformat": 4,
 "nbformat_minor": 5
}
