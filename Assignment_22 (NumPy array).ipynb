{
 "cells": [
  {
   "cell_type": "markdown",
   "id": "aab35c72",
   "metadata": {},
   "source": [
    "# Q1. What are the benefits of the built-in array package, if any?"
   ]
  },
  {
   "cell_type": "markdown",
   "id": "f6694a7d",
   "metadata": {},
   "source": [
    "**Ans:**"
   ]
  },
  {
   "cell_type": "markdown",
   "id": "c4729914",
   "metadata": {},
   "source": [
    "- The `array` package in Python provides benefits in terms of memory efficiency and performance compared to regular lists.\n",
    "\n",
    "\n",
    "- It stores elements of the same data type, resulting in lower memory usage and better performance for certain operations, especially numerical computations. \n",
    "\n",
    "\n",
    "- It's typed, has a fixed size, and supports interoperability with low-level languages like C. However, it's less versatile than Python lists in terms of the types of data it can hold."
   ]
  },
  {
   "cell_type": "markdown",
   "id": "88c4e01d",
   "metadata": {},
   "source": [
    "# Q2. What are some of the array package's limitations?"
   ]
  },
  {
   "cell_type": "markdown",
   "id": "ed0f0a0d",
   "metadata": {},
   "source": [
    "**Ans:**"
   ]
  },
  {
   "cell_type": "markdown",
   "id": "758387e1",
   "metadata": {},
   "source": [
    "Some limitations of the `array` package in Python include:\n",
    "\n",
    "1. Fixed Type: Arrays are restricted to holding elements of the same data type, unlike Python lists which can store mixed types.\n",
    "\n",
    "\n",
    "2. Fixed Size: The size of an array is fixed upon creation and cannot be changed dynamically. You need to create a new array if you require a different size.\n",
    "\n",
    "\n",
    "3. Limited Functionality: Arrays offer fewer built-in methods and operations compared to Python lists. Lists have a richer set of features.\n",
    "\n",
    "\n",
    "4. No Automatic Resizing: Unlike lists, arrays don't automatically resize when they run out of space. You need to manage the size manually.\n",
    "\n",
    "\n",
    "5. Compatibility: While arrays are more memory-efficient for specific use cases, Python lists are more versatile and widely used in Python code, making them more compatible with existing code and libraries.\n",
    "\n",
    "\n",
    "6. Lack of High-Level Operations: Arrays lack some high-level operations available in lists, such as list comprehensions, slicing, and various built-in methods.\n",
    "\n",
    "\n",
    "7. Complexity: Arrays can be more complex to work with, especially when dealing with low-level operations or interfacing with C code.\n"
   ]
  },
  {
   "cell_type": "markdown",
   "id": "1773bf4c",
   "metadata": {},
   "source": [
    "# Q3. Describe the main differences between the array and numpy packages."
   ]
  },
  {
   "cell_type": "markdown",
   "id": "80668392",
   "metadata": {},
   "source": [
    "**Ans:**"
   ]
  },
  {
   "cell_type": "markdown",
   "id": "670e7af2",
   "metadata": {},
   "source": [
    "### Differences between the array and numpy packages:\n",
    "\n",
    "1. **Functionality:**\n",
    "   - `array`: The `array` module provides basic array data structures with fixed data types. It is limited in terms of functionality compared to `numpy`.\n",
    "   - `numpy`: NumPy is a powerful library for numerical and scientific computing. It offers a wide range of functions and tools for working with arrays and matrices. It provides support for multidimensional arrays, mathematical operations, and advanced indexing.\n",
    "\n",
    "\n",
    "2. **Data Types:**\n",
    "   - `array`: The `array` module supports a limited set of data types, including integers and floats.\n",
    "   - `numpy`: NumPy provides an extensive range of data types, including integers of different sizes, floating-point numbers, complex numbers, and more. You can also define custom data types.\n",
    "\n",
    "\n",
    "3. **Array Types:**\n",
    "   - `array`: The `array` module offers one-dimensional arrays only.\n",
    "   - `numpy`: NumPy supports multidimensional arrays, making it suitable for complex data manipulations and scientific computations.\n",
    "\n",
    "\n",
    "4. **Performance:**\n",
    "   - `array`: While the `array` module is suitable for basic array operations, it may not be as efficient as NumPy for more intensive numerical computations.\n",
    "   - `numpy`: NumPy is highly optimized and designed for efficient numerical operations, making it significantly faster than using plain Python lists or the `array` module for many tasks.\n",
    "\n",
    "\n",
    "5. **Community and Ecosystem:**\n",
    "   - `array`: The `array` module is part of Python's standard library and has a smaller community and ecosystem compared to NumPy.\n",
    "   - `numpy`: NumPy has a large user base, extensive documentation, and a rich ecosystem of libraries built on top of it, such as SciPy and Matplotlib.\n",
    "\n",
    "\n",
    "6. **Compatibility:**\n",
    "   - `array`: The `array` module is part of Python's standard library and is readily available in all Python installations.\n",
    "   - `numpy`: NumPy needs to be installed separately, but it is widely used in the scientific and data analysis communities, and most Python environments have NumPy readily available.\n",
    "\n",
    "\n",
    "**The `array` module is suitable for basic array operations, NumPy is the preferred choice for more advanced numerical and scientific computing tasks due to its extensive functionality, performance, and ecosystem.**"
   ]
  },
  {
   "cell_type": "markdown",
   "id": "36272690",
   "metadata": {},
   "source": [
    "# Q4. Explain the distinctions between the empty, ones, and zeros functions."
   ]
  },
  {
   "cell_type": "markdown",
   "id": "34b6c929",
   "metadata": {},
   "source": [
    "**Ans:**"
   ]
  },
  {
   "cell_type": "markdown",
   "id": "5a099e1b",
   "metadata": {},
   "source": [
    "\n",
    "- `empty` creates an array without initializing its values, which can be faster but leaves the values uninitialized.\n",
    "\n"
   ]
  },
  {
   "cell_type": "code",
   "execution_count": 6,
   "id": "ca1bd456",
   "metadata": {},
   "outputs": [],
   "source": [
    "import numpy as np"
   ]
  },
  {
   "cell_type": "code",
   "execution_count": 7,
   "id": "ed398572",
   "metadata": {},
   "outputs": [
    {
     "data": {
      "text/plain": [
       "array([[0., 0., 0.],\n",
       "       [0., 0., 0.]])"
      ]
     },
     "execution_count": 7,
     "metadata": {},
     "output_type": "execute_result"
    }
   ],
   "source": [
    "np.empty((2, 3))"
   ]
  },
  {
   "cell_type": "markdown",
   "id": "eb85848d",
   "metadata": {},
   "source": [
    "- `ones` creates an array filled with `1` values.\n"
   ]
  },
  {
   "cell_type": "code",
   "execution_count": 8,
   "id": "04b8e69b",
   "metadata": {},
   "outputs": [
    {
     "data": {
      "text/plain": [
       "array([[1, 1],\n",
       "       [1, 1],\n",
       "       [1, 1]])"
      ]
     },
     "execution_count": 8,
     "metadata": {},
     "output_type": "execute_result"
    }
   ],
   "source": [
    "np.ones((3, 2), dtype=int)"
   ]
  },
  {
   "cell_type": "markdown",
   "id": "38999b46",
   "metadata": {},
   "source": [
    "- `zeros` creates an array filled with `0` values."
   ]
  },
  {
   "cell_type": "code",
   "execution_count": 9,
   "id": "36c16db3",
   "metadata": {},
   "outputs": [
    {
     "data": {
      "text/plain": [
       "array([[0., 0., 0., 0.],\n",
       "       [0., 0., 0., 0.],\n",
       "       [0., 0., 0., 0.],\n",
       "       [0., 0., 0., 0.]])"
      ]
     },
     "execution_count": 9,
     "metadata": {},
     "output_type": "execute_result"
    }
   ],
   "source": [
    "np.zeros((4, 4), dtype=float)"
   ]
  },
  {
   "cell_type": "markdown",
   "id": "16e4ef88",
   "metadata": {},
   "source": [
    "# Q5. In the fromfunction function, which is used to construct new arrays, what is the role of the callable argument?"
   ]
  },
  {
   "cell_type": "markdown",
   "id": "65062008",
   "metadata": {},
   "source": [
    "**Ans:**"
   ]
  },
  {
   "cell_type": "markdown",
   "id": "be3a88c7",
   "metadata": {},
   "source": [
    "In the `numpy.fromfunction` function, the callable argument plays a crucial role in constructing new arrays based on the values calculated by this callable function. \n",
    "\n",
    "Here's how it works:\n",
    "\n",
    "- `numpy.fromfunction(func, shape, **kwargs)`\n",
    "\n",
    "   - `func`: This argument expects a callable (usually a function or lambda expression) that defines the relationship between the array indices and the values to be generated in the new array.\n",
    "\n",
    "   - `shape`: Specifies the shape of the output array.\n",
    "\n",
    "   - `**kwargs`: Additional keyword arguments that can be passed to the callable function.\n",
    "\n",
    "The `func` callable is called with a series of indices that correspond to the elements of the output array. The function calculates the value for each element based on these indices and returns that value. This process is performed for every element in the output array, and the resulting array is constructed with the calculated values."
   ]
  },
  {
   "cell_type": "markdown",
   "id": "dab66cf6",
   "metadata": {},
   "source": [
    "Here's a simple example to illustrate how it works. Let's say we want to create a 2x3 array where each element's value is the sum of its row index and column index. \n",
    "\n",
    "We can achieve this using `numpy.fromfunction` as follows:"
   ]
  },
  {
   "cell_type": "code",
   "execution_count": 10,
   "id": "1c0b7d2e",
   "metadata": {},
   "outputs": [
    {
     "name": "stdout",
     "output_type": "stream",
     "text": [
      "[[0 1 2]\n",
      " [1 2 3]]\n"
     ]
    }
   ],
   "source": [
    "# Define a function that takes row and column indices and returns their sum\n",
    "def calculate_value(i, j):\n",
    "    return i + j\n",
    "\n",
    "# Create a 2x3 array using fromfunction and the calculate_value function\n",
    "\n",
    "result = np.fromfunction(calculate_value, (2, 3), dtype=int)\n",
    "\n",
    "print(result)\n"
   ]
  },
  {
   "cell_type": "markdown",
   "id": "87ac7955",
   "metadata": {},
   "source": [
    "# Q6. What happens when a numpy array is combined with a single-value operand (a scalar, such as an int or a floating-point value) through addition, as in the expression A + n?"
   ]
  },
  {
   "cell_type": "markdown",
   "id": "23d6c2b5",
   "metadata": {},
   "source": [
    "**Ans:**"
   ]
  },
  {
   "cell_type": "markdown",
   "id": "e9af76fe",
   "metadata": {},
   "source": [
    "When a numpy array is combined with a single-value operand (a scalar) through addition, such as in the expression `A + n`, the scalar value is broadcasted to match the shape of the numpy array, and element-wise addition is performed. This is a fundamental feature of numpy called **broadcasting**."
   ]
  },
  {
   "cell_type": "code",
   "execution_count": 11,
   "id": "a6a4ae1e",
   "metadata": {},
   "outputs": [
    {
     "name": "stdout",
     "output_type": "stream",
     "text": [
      "[[11 12 13]\n",
      " [14 15 16]]\n"
     ]
    }
   ],
   "source": [
    "# Create a numpy array\n",
    "A = np.array([[1, 2, 3],\n",
    "              [4, 5, 6]])\n",
    "\n",
    "# Scalar value\n",
    "n = 10\n",
    "\n",
    "# Perform element-wise addition\n",
    "result = A + n\n",
    "\n",
    "print(result)\n"
   ]
  },
  {
   "cell_type": "markdown",
   "id": "e9045efe",
   "metadata": {},
   "source": [
    "In the above example, the scalar value `n` is broadcasted to match the shape of the array `A`, resulting in an element-wise addition of 10 to each element of the array. \n",
    "\n",
    "\n",
    "So, when we combine a numpy array with a scalar through addition, numpy efficiently performs the addition operation element-wise, even if the shapes are not identical, thanks to broadcasting."
   ]
  },
  {
   "cell_type": "markdown",
   "id": "e5d364e3",
   "metadata": {},
   "source": [
    "# Q7. Can array-to-scalar operations use combined operation-assign operators (such as `+=` or `*=`)? What is the outcome?"
   ]
  },
  {
   "cell_type": "markdown",
   "id": "3e0b5479",
   "metadata": {},
   "source": [
    "**Ans:**"
   ]
  },
  {
   "cell_type": "markdown",
   "id": "aac6f1b1",
   "metadata": {},
   "source": [
    "Yes, array-to-scalar operations can use combined operation-assign operators (such as `+=`, `-=`, `*=`, `/=`), and the outcome is that the operation is applied element-wise to the array with the scalar value. This means that the scalar value is combined with each element in the array according to the operation-assign operator.\n"
   ]
  },
  {
   "cell_type": "code",
   "execution_count": 23,
   "id": "666c1193",
   "metadata": {},
   "outputs": [],
   "source": [
    "# Create a numpy array\n",
    "arr = np.array([1, 2, 3, 4, 5], dtype=float)"
   ]
  },
  {
   "cell_type": "code",
   "execution_count": 24,
   "id": "be2b4e25",
   "metadata": {},
   "outputs": [
    {
     "name": "stdout",
     "output_type": "stream",
     "text": [
      "[3. 4. 5. 6. 7.]\n"
     ]
    }
   ],
   "source": [
    "arr += 2  # Add 2 to each element\n",
    "print(arr)"
   ]
  },
  {
   "cell_type": "code",
   "execution_count": 25,
   "id": "19b935ab",
   "metadata": {},
   "outputs": [
    {
     "name": "stdout",
     "output_type": "stream",
     "text": [
      "[2. 3. 4. 5. 6.]\n"
     ]
    }
   ],
   "source": [
    "arr -= 1  # Subtract 1 from each element\n",
    "print(arr)"
   ]
  },
  {
   "cell_type": "code",
   "execution_count": 26,
   "id": "b48bad98",
   "metadata": {},
   "outputs": [
    {
     "name": "stdout",
     "output_type": "stream",
     "text": [
      "[ 6.  9. 12. 15. 18.]\n"
     ]
    }
   ],
   "source": [
    "arr *= 3  # Multiply each element by 3\n",
    "print(arr)"
   ]
  },
  {
   "cell_type": "code",
   "execution_count": 27,
   "id": "b900d62c",
   "metadata": {},
   "outputs": [
    {
     "name": "stdout",
     "output_type": "stream",
     "text": [
      "[3.  4.5 6.  7.5 9. ]\n"
     ]
    }
   ],
   "source": [
    "arr /= 2  # Divide each element by 2\n",
    "print(arr)"
   ]
  },
  {
   "cell_type": "markdown",
   "id": "aeb783f1",
   "metadata": {},
   "source": [
    "# Q8. Does a numpy array contain fixed-length strings? What happens if you allocate a longer string to one of these arrays?"
   ]
  },
  {
   "cell_type": "markdown",
   "id": "381a4c34",
   "metadata": {},
   "source": [
    "**Ans:**"
   ]
  },
  {
   "cell_type": "markdown",
   "id": "540cc9ac",
   "metadata": {},
   "source": [
    "In NumPy, you can create arrays of fixed-length strings using the `dtype` parameter with the `numpy.string_` data type. \n",
    "\n",
    "For example:"
   ]
  },
  {
   "cell_type": "code",
   "execution_count": 28,
   "id": "85c43464",
   "metadata": {},
   "outputs": [],
   "source": [
    "# Create a NumPy array of fixed-length strings with a maximum length of 5 characters\n",
    "\n",
    "arr = np.array(['apple', 'banana', 'cherry'], dtype=np.string_)"
   ]
  },
  {
   "cell_type": "markdown",
   "id": "20b6f858",
   "metadata": {},
   "source": [
    "In this example, `arr` is a NumPy array containing fixed-length strings with a maximum length of 5 characters. If we attempt to assign a longer string to one of the elements in this array, NumPy will truncate the string to fit the specified length. \n",
    "\n",
    "For instance:"
   ]
  },
  {
   "cell_type": "code",
   "execution_count": 29,
   "id": "b938cddf",
   "metadata": {},
   "outputs": [
    {
     "name": "stdout",
     "output_type": "stream",
     "text": [
      "b'pineap'\n"
     ]
    }
   ],
   "source": [
    "# Attempt to assign a longer string\n",
    "arr[0] = 'pineapple'\n",
    "\n",
    "# The string will be truncated to fit the maximum length\n",
    "print(arr[0]) \n"
   ]
  },
  {
   "cell_type": "markdown",
   "id": "8c012e58",
   "metadata": {},
   "source": [
    "\n",
    "In this case, the string 'pineapple' is truncated to 'pinea' to match the maximum length of 5 characters specified for the array.\n"
   ]
  },
  {
   "cell_type": "markdown",
   "id": "f37c85d1",
   "metadata": {},
   "source": [
    "# Q9. What happens when you combine two numpy arrays using an operation like addition (+) or multiplication (*)? What are the conditions for combining two numpy arrays?"
   ]
  },
  {
   "cell_type": "markdown",
   "id": "b9c1babe",
   "metadata": {},
   "source": [
    "**Ans:**"
   ]
  },
  {
   "cell_type": "markdown",
   "id": "28785098",
   "metadata": {},
   "source": [
    "When you combine two NumPy arrays using binary operations like addition (+) or multiplication (*), the arrays are combined element-wise if they have compatible shapes. Compatible shapes typically mean that the arrays have the same dimensions or can be broadcasted to the same shape.\n",
    "\n",
    "Here are the rules for combining two NumPy arrays using binary operations:"
   ]
  },
  {
   "cell_type": "code",
   "execution_count": 31,
   "id": "2a84c681",
   "metadata": {},
   "outputs": [
    {
     "data": {
      "text/plain": [
       "array([5, 7, 9])"
      ]
     },
     "execution_count": 31,
     "metadata": {},
     "output_type": "execute_result"
    }
   ],
   "source": [
    "# If two arrays have the same shape, the addition operation is performed element-wise.\n",
    "\n",
    "arr1 = np.array([1, 2, 3])\n",
    "arr2 = np.array([4, 5, 6])\n",
    "\n",
    "result = arr1 + arr2  # Element-wise addition\n",
    "result"
   ]
  },
  {
   "cell_type": "code",
   "execution_count": 32,
   "id": "82c503be",
   "metadata": {},
   "outputs": [
    {
     "data": {
      "text/plain": [
       "array([ 4, 10, 18])"
      ]
     },
     "execution_count": 32,
     "metadata": {},
     "output_type": "execute_result"
    }
   ],
   "source": [
    "# Element-wise Multiplication (*):\n",
    "\n",
    "arr1 = np.array([1, 2, 3])\n",
    "arr2 = np.array([4, 5, 6])\n",
    "\n",
    "result = arr1 * arr2  # Element-wise multiplication\n",
    "result"
   ]
  },
  {
   "cell_type": "markdown",
   "id": "b8e0d1e2",
   "metadata": {},
   "source": [
    "Broadcasting: If the shapes of the arrays are not the same but can be broadcasted to a common shape, NumPy will perform broadcasting to make the shapes compatible. Broadcasting allows NumPy to perform element-wise operations on arrays with different shapes."
   ]
  },
  {
   "cell_type": "code",
   "execution_count": 33,
   "id": "a2cccaf3",
   "metadata": {},
   "outputs": [
    {
     "data": {
      "text/plain": [
       "array([2, 4, 6])"
      ]
     },
     "execution_count": 33,
     "metadata": {},
     "output_type": "execute_result"
    }
   ],
   "source": [
    "# Broadcasting:\n",
    "\n",
    "arr1 = np.array([1, 2, 3])\n",
    "scalar = 2\n",
    "\n",
    "result = arr1 * scalar  # Broadcasting scalar to arr1\n",
    "result"
   ]
  },
  {
   "cell_type": "markdown",
   "id": "249967e1",
   "metadata": {},
   "source": [
    "# Q10. What is the best way to use a Boolean array to mask another array?"
   ]
  },
  {
   "cell_type": "markdown",
   "id": "e82b201d",
   "metadata": {},
   "source": [
    "**Ans:**"
   ]
  },
  {
   "cell_type": "markdown",
   "id": "44067e00",
   "metadata": {},
   "source": [
    "The best way to use a Boolean array to mask (filter) another array in NumPy is by performing Boolean indexing. We can create a Boolean array of the same shape as the original array, where each element is `True` or `False` based on a condition, and then use this Boolean array to select elements from the original array.\n",
    "\n",
    "Here's how to do it step by step:\n",
    "\n",
    "1. Create a Boolean array with the same shape as the original array, where each element represents whether a condition is met."
   ]
  },
  {
   "cell_type": "code",
   "execution_count": 34,
   "id": "d354ef57",
   "metadata": {},
   "outputs": [],
   "source": [
    "arr = np.array([1, 2, 3, 4, 5])\n",
    "condition = arr > 2  # Create a Boolean array based on the condition"
   ]
  },
  {
   "cell_type": "markdown",
   "id": "1950f5f5",
   "metadata": {},
   "source": [
    "\n",
    "   `condition` will be `[False, False, True, True, True]` because it's `True` where `arr` is greater than `2`.\n"
   ]
  },
  {
   "cell_type": "markdown",
   "id": "15321926",
   "metadata": {},
   "source": [
    "2. Use this Boolean array to index (mask) the original array:"
   ]
  },
  {
   "cell_type": "code",
   "execution_count": 36,
   "id": "addff94d",
   "metadata": {},
   "outputs": [
    {
     "data": {
      "text/plain": [
       "array([3, 4, 5])"
      ]
     },
     "execution_count": 36,
     "metadata": {},
     "output_type": "execute_result"
    }
   ],
   "source": [
    "result = arr[condition]\n",
    "result"
   ]
  },
  {
   "cell_type": "markdown",
   "id": "2416b26a",
   "metadata": {},
   "source": [
    "  `result` will contain `[3, 4, 5]`, which are the elements of `arr` where the condition is `True`.\n",
    "\n",
    "This technique is efficient and widely used for filtering data in NumPy arrays based on conditions. It allows us to select elements from an array that satisfy a specific condition using a Boolean mask."
   ]
  },
  {
   "cell_type": "markdown",
   "id": "f902edd0",
   "metadata": {},
   "source": [
    "# Q11. What are three different ways to get the standard deviation of a wide collection of data using both standard Python and its packages? Sort the three of them by how quickly they execute."
   ]
  },
  {
   "cell_type": "markdown",
   "id": "3b89a882",
   "metadata": {},
   "source": [
    "**Ans:**"
   ]
  },
  {
   "cell_type": "markdown",
   "id": "76748686",
   "metadata": {},
   "source": [
    "Calculating the standard deviation of a collection of data can be done using standard Python or its packages like NumPy. Here are three different ways, sorted by their execution speed:\n",
    "\n",
    "1. **Using NumPy (Fastest):**\n",
    "   \n",
    "   NumPy is optimized for numerical operations and provides a fast and convenient way to calculate the standard deviation of an array."
   ]
  },
  {
   "cell_type": "code",
   "execution_count": 38,
   "id": "45b7f67f",
   "metadata": {},
   "outputs": [
    {
     "data": {
      "text/plain": [
       "1.4142135623730951"
      ]
     },
     "execution_count": 38,
     "metadata": {},
     "output_type": "execute_result"
    }
   ],
   "source": [
    "data = np.array([1, 2, 3, 4, 5])\n",
    "std_deviation = np.std(data)\n",
    "std_deviation"
   ]
  },
  {
   "cell_type": "markdown",
   "id": "8c3702a6",
   "metadata": {},
   "source": [
    "\n",
    "\n",
    "   NumPy's `np.std` function computes the standard deviation efficiently.\n",
    "\n"
   ]
  },
  {
   "cell_type": "markdown",
   "id": "7098c221",
   "metadata": {},
   "source": [
    "2. **Using the Statistics Module (Moderate):**\n",
    "\n",
    "   The built-in `statistics` module in Python provides a `stdev` function to calculate the standard deviation of a list:\n"
   ]
  },
  {
   "cell_type": "code",
   "execution_count": 43,
   "id": "10744b57",
   "metadata": {},
   "outputs": [
    {
     "data": {
      "text/plain": [
       "1.5811388300841898"
      ]
     },
     "execution_count": 43,
     "metadata": {},
     "output_type": "execute_result"
    }
   ],
   "source": [
    "import statistics\n",
    "\n",
    "data = [1, 2, 3, 4, 5]\n",
    "std_deviation = statistics.stdev(data)\n",
    "std_deviation"
   ]
  },
  {
   "cell_type": "markdown",
   "id": "06cbdbde",
   "metadata": {},
   "source": [
    "3. **Using Pure Python (Slowest):**\n",
    "\n",
    "   We can also calculate the standard deviation using pure Python, although it's typically slower and less efficient, especially for large datasets."
   ]
  },
  {
   "cell_type": "code",
   "execution_count": 42,
   "id": "a6fa40cb",
   "metadata": {},
   "outputs": [
    {
     "data": {
      "text/plain": [
       "1.4142135623730951"
      ]
     },
     "execution_count": 42,
     "metadata": {},
     "output_type": "execute_result"
    }
   ],
   "source": [
    "data = [1, 2, 3, 4, 5]\n",
    "n = len(data)\n",
    "mean = sum(data) / n\n",
    "squared_diff = [(x - mean) ** 2 for x in data]\n",
    "std_deviation = (sum(squared_diff) / n) ** 0.5\n",
    "std_deviation "
   ]
  },
  {
   "cell_type": "markdown",
   "id": "b1091181",
   "metadata": {},
   "source": [
    "# 12. What is the dimensionality of a Boolean mask-generated array?"
   ]
  },
  {
   "cell_type": "markdown",
   "id": "b7a6ee38",
   "metadata": {},
   "source": [
    "**Ans:**"
   ]
  },
  {
   "cell_type": "markdown",
   "id": "e0fc3eb2",
   "metadata": {},
   "source": [
    "The dimensionality of a Boolean mask-generated array is the same as that of the original array from which the mask was created. In other words, it preserves the same number of dimensions as the original array."
   ]
  },
  {
   "cell_type": "code",
   "execution_count": 44,
   "id": "053f201b",
   "metadata": {},
   "outputs": [
    {
     "name": "stdout",
     "output_type": "stream",
     "text": [
      "[[1 2 3]\n",
      " [4 -- --]\n",
      " [-- -- --]]\n"
     ]
    }
   ],
   "source": [
    "# Create a 2D array\n",
    "arr = np.array([[1, 2, 3], [4, 5, 6], [7, 8, 9]])\n",
    "\n",
    "# Create a Boolean mask based on a condition (e.g., values greater than 4)\n",
    "mask = arr > 4\n",
    "\n",
    "# Use the mask to create a masked array\n",
    "masked_arr = np.ma.array(arr, mask=mask)\n",
    "\n",
    "print(masked_arr)"
   ]
  },
  {
   "cell_type": "markdown",
   "id": "50d046d6",
   "metadata": {},
   "source": [
    "In this example, `arr` is a 2D array, and the resulting `masked_arr` is also a 2D masked array, preserving the original dimensionality."
   ]
  },
  {
   "cell_type": "code",
   "execution_count": null,
   "id": "2d6827d0",
   "metadata": {},
   "outputs": [],
   "source": []
  }
 ],
 "metadata": {
  "kernelspec": {
   "display_name": "Python 3 (ipykernel)",
   "language": "python",
   "name": "python3"
  },
  "language_info": {
   "codemirror_mode": {
    "name": "ipython",
    "version": 3
   },
   "file_extension": ".py",
   "mimetype": "text/x-python",
   "name": "python",
   "nbconvert_exporter": "python",
   "pygments_lexer": "ipython3",
   "version": "3.9.7"
  }
 },
 "nbformat": 4,
 "nbformat_minor": 5
}
