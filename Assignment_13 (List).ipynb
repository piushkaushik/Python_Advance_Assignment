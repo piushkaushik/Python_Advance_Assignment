{
 "cells": [
  {
   "cell_type": "markdown",
   "id": "0fafb797",
   "metadata": {},
   "source": [
    "# Q1. Can you create a program or function that employs both positive and negative indexing? Is there any repercussion if you do so?"
   ]
  },
  {
   "cell_type": "markdown",
   "id": "f6fcfd91",
   "metadata": {},
   "source": [
    "**Ans:**"
   ]
  },
  {
   "cell_type": "markdown",
   "id": "2cbe1ac2",
   "metadata": {},
   "source": [
    "Yes, we can create a program or function that employs both positive and negative indexing in Python. \n",
    "- Positive indexing starts from 0 for the first element, 1 for the second element, and so on\n",
    "- negative indexing starts from -1 for the last element, -2 for the second-to-last element, and so forth."
   ]
  },
  {
   "cell_type": "markdown",
   "id": "00ea54b1",
   "metadata": {},
   "source": [
    "***Example:***"
   ]
  },
  {
   "cell_type": "code",
   "execution_count": 1,
   "id": "d0d21b9b",
   "metadata": {},
   "outputs": [
    {
     "name": "stdout",
     "output_type": "stream",
     "text": [
      "First element: 1\n",
      "Second element: 2\n",
      "Last element: 5\n",
      "Second-to-last element: 4\n"
     ]
    }
   ],
   "source": [
    "def access_elements(my_list):\n",
    "    # Access elements using positive indexing\n",
    "    first_element = my_list[0]\n",
    "    second_element = my_list[1]\n",
    "\n",
    "    # Access elements using negative indexing\n",
    "    last_element = my_list[-1]\n",
    "    second_to_last_element = my_list[-2]\n",
    "\n",
    "    return first_element, second_element, last_element, second_to_last_element\n",
    "\n",
    "# Sample list\n",
    "my_list = [1, 2, 3, 4, 5]\n",
    "\n",
    "# Call the function\n",
    "result = access_elements(my_list)\n",
    "\n",
    "print(\"First element:\", result[0])\n",
    "print(\"Second element:\", result[1])\n",
    "print(\"Last element:\", result[2])\n",
    "print(\"Second-to-last element:\", result[3])\n"
   ]
  },
  {
   "cell_type": "markdown",
   "id": "feeac331",
   "metadata": {},
   "source": [
    "*There are no repercussions for using both positive and negative indexing together; it's a legitimate way to access elements based on your needs.*"
   ]
  },
  {
   "cell_type": "markdown",
   "id": "d266222f",
   "metadata": {},
   "source": [
    "# Q2. What is the most effective way of starting with 1,000 elements in a Python list? Assume that all elements should be set to the same value."
   ]
  },
  {
   "cell_type": "markdown",
   "id": "beae6bb1",
   "metadata": {},
   "source": [
    "**Ans:**"
   ]
  },
  {
   "cell_type": "markdown",
   "id": "b986788d",
   "metadata": {},
   "source": [
    "The most effective way to create a Python list with 1,000 elements, all set to the same value, is to use a list comprehension. This approach is both concise and efficient. \n",
    "\n",
    "Here's how we can do it:"
   ]
  },
  {
   "cell_type": "code",
   "execution_count": 1,
   "id": "6727b722",
   "metadata": {},
   "outputs": [],
   "source": [
    "value = 42  # Replace with the desired value\n",
    "my_list = [value] * 1000"
   ]
  },
  {
   "cell_type": "markdown",
   "id": "676d704c",
   "metadata": {},
   "source": [
    "In this example, `value` represents the value that we want to assign to all 1,000 elements in the list. We can replace it with any value we need. The `*` operator is used to replicate the value 1,000 times, creating a list with 1,000 elements, all initialized to the specified value.\n",
    "\n",
    "This method is efficient because it doesn't require explicit iteration or loops, making it a clean and concise way to create such a list."
   ]
  },
  {
   "cell_type": "markdown",
   "id": "a661e2bb",
   "metadata": {},
   "source": [
    "# Q3. How do you slice a list to get any other part while missing the rest? (For example, suppose you want to make a new list with the elements first, third, fifth, seventh, and so on.)"
   ]
  },
  {
   "cell_type": "markdown",
   "id": "1e02f7c8",
   "metadata": {},
   "source": [
    "**Ans:**"
   ]
  },
  {
   "cell_type": "markdown",
   "id": "db69c0e0",
   "metadata": {},
   "source": [
    "To slice a list to get specific elements while skipping others, we can use extended slicing with a step value. In the given example, where we want to extract elements like the first, third, fifth, seventh, and so on, we can achieve this by specifying a step value of 2. \n",
    "\n",
    "For example:"
   ]
  },
  {
   "cell_type": "code",
   "execution_count": 3,
   "id": "5d270eb7",
   "metadata": {},
   "outputs": [
    {
     "name": "stdout",
     "output_type": "stream",
     "text": [
      "[1, 3, 5, 7, 9]\n"
     ]
    }
   ],
   "source": [
    "original_list = [1, 2, 3, 4, 5, 6, 7, 8, 9, 10]\n",
    "\n",
    "# Slice to get the elements first, third, fifth, seventh, etc.\n",
    "result_list = original_list[::2]\n",
    "\n",
    "print(result_list)"
   ]
  },
  {
   "cell_type": "markdown",
   "id": "92c5f3ce",
   "metadata": {},
   "source": [
    "In this code, `original_list` contains the elements you want to slice. The slicing notation `[::2]` means:\n",
    "\n",
    "- The first `::` indicates that we want to start from the beginning of the list.\n",
    "- The `2` specifies the step value, which means we will select every second element.\n",
    "\n",
    "So, `result_list` will contain `[1, 3, 5, 7, 9]`, which are the first, third, fifth, seventh, and ninth elements of the `original_list`."
   ]
  },
  {
   "cell_type": "markdown",
   "id": "d0bd1bf1",
   "metadata": {},
   "source": [
    "# Q4. Explain the distinctions between indexing and slicing."
   ]
  },
  {
   "cell_type": "markdown",
   "id": "7090b3e5",
   "metadata": {},
   "source": [
    "**Ans:**"
   ]
  },
  {
   "cell_type": "markdown",
   "id": "a98aa182",
   "metadata": {},
   "source": [
    "**Indexing:**\n",
    "1. ***Single Element Access:*** Indexing is used to access a single element at a specific position in a sequence.\n",
    "2. ***Syntax:*** It is done using square brackets `[]` with an integer index inside, e.g., `sequence[index]`.\n",
    "3. ***Result:*** It returns the element at the specified index.\n",
    "4. ***Index Range:*** The index should be within the valid range of the sequence; otherwise, an \"IndexError\" is raised.\n",
    "5. ***Example:***"
   ]
  },
  {
   "cell_type": "code",
   "execution_count": 4,
   "id": "ccf5341a",
   "metadata": {},
   "outputs": [],
   "source": [
    "my_list = [10, 20, 30, 40, 50]\n",
    "element = my_list[2]  # Accessing the element at index 2 (which is 30)"
   ]
  },
  {
   "cell_type": "markdown",
   "id": "d53ff916",
   "metadata": {},
   "source": [
    "**Slicing:**\n",
    "1. **Multiple Element Access:** Slicing is used to access a portion (or slice) of the sequence, which may contain multiple elements.\n",
    "2. **Syntax:** It is done using square brackets `[]` with a start, stop, and optional step value inside, e.g., `sequence[start:stop:step]`.\n",
    "3. **Result:** It returns a new sequence containing the elements from the start index (inclusive) up to, but not including, the stop index.\n",
    "4. **Index Range:** The start and stop indices can be outside the valid range of the sequence; no error is raised. An empty sequence or a partial sequence is returned if they are out of bounds.\n",
    "5. **Example:**"
   ]
  },
  {
   "cell_type": "code",
   "execution_count": 5,
   "id": "495dea19",
   "metadata": {},
   "outputs": [],
   "source": [
    "my_list = [10, 20, 30, 40, 50]\n",
    "sub_list = my_list[1:4]  # Slicing from index 1 to 4 (exclusive), result is [20, 30, 40]"
   ]
  },
  {
   "cell_type": "markdown",
   "id": "8c625170",
   "metadata": {},
   "source": [
    "# Q5. What happens if one of the slicing expression's indexes is out of range?"
   ]
  },
  {
   "cell_type": "markdown",
   "id": "b4b1e03d",
   "metadata": {},
   "source": [
    "**Ans:**"
   ]
  },
  {
   "cell_type": "markdown",
   "id": "cb7b17ae",
   "metadata": {},
   "source": [
    "If one of the slicing expression's indexes is out of range (i.e., it exceeds the valid index range for the sequence), Python will not raise an error. Instead, it will gracefully handle the out-of-range index, and the slicing operation will return the elements within the valid range and ignore those outside of it. \n",
    "\n",
    "1. **If the start index is out of range:**\n",
    "   - Python will use the first valid index as the start index.\n",
    "   - The slicing will proceed from the first valid index to the stop index (exclusive).\n",
    "   - Any elements before the first valid index will be ignored."
   ]
  },
  {
   "cell_type": "code",
   "execution_count": 6,
   "id": "75b32908",
   "metadata": {},
   "outputs": [],
   "source": [
    "my_list = [10, 20, 30, 40, 50]\n",
    "sub_list = my_list[-10:3]  # Start index -10 is out of range, so it's adjusted to 0\n",
    "# Result is [10, 20, 30] (from index 0 to 3, exclusive)"
   ]
  },
  {
   "cell_type": "markdown",
   "id": "33691d20",
   "metadata": {},
   "source": [
    "# Q6. If you pass a list to a function, and if you want the function to be able to change the values of the list—so that the list is different after the function returns—what action should you avoid?"
   ]
  },
  {
   "cell_type": "markdown",
   "id": "baae40a1",
   "metadata": {},
   "source": [
    "**Ans:**"
   ]
  },
  {
   "cell_type": "markdown",
   "id": "d1eb9a2e",
   "metadata": {},
   "source": [
    "If you want a function to be able to change the values of a list passed as an argument, you should avoid reassigning the argument to a completely new list. This is because doing so will break the link between the original list and the parameter inside the function, and any changes made to the parameter will not affect the original list.\n",
    "\n",
    "\n",
    "Instead, we should modify the contents of the original list directly within the function. Lists in Python are mutable, meaning their contents can be changed in place. When we pass a list to a function and modify it within the function, those changes are reflected in the original list because both the parameter and the original list refer to the same underlying object."
   ]
  },
  {
   "cell_type": "code",
   "execution_count": 7,
   "id": "aff8c055",
   "metadata": {},
   "outputs": [
    {
     "name": "stdout",
     "output_type": "stream",
     "text": [
      "[1, 2, 3, 42]\n"
     ]
    }
   ],
   "source": [
    "def modify_list(my_list):\n",
    "    my_list.append(42)  # This modifies the original list\n",
    "\n",
    "original_list = [1, 2, 3]\n",
    "modify_list(original_list)\n",
    "print(original_list)"
   ]
  },
  {
   "cell_type": "markdown",
   "id": "c0c8e65b",
   "metadata": {},
   "source": [
    "*In this example, the `modify_list` function doesn't create a new list or reassign the parameter `my_list`. Instead, it directly appends an element to the original list, and the change is visible outside the function.*"
   ]
  },
  {
   "cell_type": "markdown",
   "id": "747b3c24",
   "metadata": {},
   "source": [
    "# Q7. What is the concept of an unbalanced matrix?"
   ]
  },
  {
   "cell_type": "markdown",
   "id": "b3f31e6a",
   "metadata": {},
   "source": [
    "**Ans:**"
   ]
  },
  {
   "cell_type": "markdown",
   "id": "28c1154f",
   "metadata": {},
   "source": [
    "In the context of matrices, an \"unbalanced matrix\" typically refers to a matrix that does not have an equal number of rows and columns. In other words, it is a matrix where the number of rows is not equal to the number of columns.\n",
    "\n",
    "A balanced or square matrix is one where the number of rows is equal to the number of columns, such as a 2x2 matrix or a 3x3 matrix. These matrices have certain properties and can be used for specific mathematical operations.\n",
    "\n",
    "However, unbalanced matrices, where the number of rows and columns differs, are also encountered in various real-world situations. \n",
    "\n",
    "For example:\n",
    "\n",
    "*When working with datasets, you might have missing values for certain attributes or features, leading to an unbalanced matrix where the number of rows (samples) is not equal to the number of columns (features).*"
   ]
  },
  {
   "cell_type": "markdown",
   "id": "6e660b1e",
   "metadata": {},
   "source": [
    "# Q8. Why is it necessary to use either list comprehension or a loop to create arbitrarily large matrices?"
   ]
  },
  {
   "cell_type": "markdown",
   "id": "d0943c5d",
   "metadata": {},
   "source": [
    "**Ans:**"
   ]
  },
  {
   "cell_type": "markdown",
   "id": "720e2e49",
   "metadata": {},
   "source": [
    "Creating arbitrarily large matrices in Python using either list comprehension or loops is necessary for the following reasons:\n",
    "\n",
    "1. **Dynamic Sizing**: You can dynamically create and resize the matrix based on your requirements, accommodating different dimensions without preallocating memory.\n",
    "\n",
    "2. **Efficiency**: Building the matrix iteratively is more memory-efficient and suitable for extremely large matrices.\n",
    "\n",
    "3. **Customization**: It allows fine-grained control over element values, applying conditions or custom logic during creation.\n",
    "\n",
    "4. **Readability**: For complex patterns or structures, loops or list comprehensions result in more readable and maintainable code."
   ]
  },
  {
   "cell_type": "code",
   "execution_count": 8,
   "id": "3068f3c6",
   "metadata": {},
   "outputs": [],
   "source": [
    "matrix = [[0 for _ in range(3)] for _ in range(3)]"
   ]
  },
  {
   "cell_type": "markdown",
   "id": "81b3e2d1",
   "metadata": {},
   "source": [
    "In the above example, we dynamically specify the size of the matrix (3x3) and populate it with zeros using list comprehension. \n",
    "\n",
    "This approach can easily be extended to larger matrices by changing the dimensions in the range function calls."
   ]
  },
  {
   "cell_type": "code",
   "execution_count": null,
   "id": "c69481d5",
   "metadata": {},
   "outputs": [],
   "source": []
  }
 ],
 "metadata": {
  "kernelspec": {
   "display_name": "Python 3 (ipykernel)",
   "language": "python",
   "name": "python3"
  },
  "language_info": {
   "codemirror_mode": {
    "name": "ipython",
    "version": 3
   },
   "file_extension": ".py",
   "mimetype": "text/x-python",
   "name": "python",
   "nbconvert_exporter": "python",
   "pygments_lexer": "ipython3",
   "version": "3.9.7"
  }
 },
 "nbformat": 4,
 "nbformat_minor": 5
}
